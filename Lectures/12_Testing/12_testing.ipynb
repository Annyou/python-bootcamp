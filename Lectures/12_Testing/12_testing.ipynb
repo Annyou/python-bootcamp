{
 "metadata": {
  "name": ""
 },
 "nbformat": 3,
 "nbformat_minor": 0,
 "worksheets": [
  {
   "cells": [
    {
     "cell_type": "markdown",
     "metadata": {},
     "source": [
      "# Development II:  Testing"
     ]
    },
    {
     "cell_type": "markdown",
     "metadata": {},
     "source": [
      "Jarrod Millman"
     ]
    },
    {
     "cell_type": "markdown",
     "metadata": {},
     "source": [
      "## Motivation\n",
      "\n",
      "### Computing is error prone\n",
      "\n",
      ">  In ordinary computational practice by hand or by desk machines, it is the\n",
      ">  custom to check every step of the computation and, when an error is found,\n",
      ">  to localize it by a backward process starting from the first point where the\n",
      ">  error is noted.\n",
      ">\n",
      ">         - Norbert Wiener (1948)\n",
      "\n",
      "### More computing, more problems\n",
      "\n",
      ">  The major cause of the **software crisis** is that the machines have become\n",
      ">  several orders of magnitude more powerful! To put it quite bluntly: as long\n",
      ">  as there were no machines, programming was no problem at all; when we had a\n",
      ">  few weak computers, programming became a mild problem, and now we have\n",
      ">  gigantic computers, programming has become an equally gigantic problem.\n",
      ">\n",
      ">         - Edsger W. Dijkstra (1972)\n",
      "\n",
      "## What testing is and is not...\n",
      "\n",
      "### Testing and debugging\n",
      "\n",
      "-   debugging is what you do when you know a program is broken\n",
      "-   testing is a determined, systematic attempt to break a program\n",
      "-   writing tests is more interesting than debugging\n",
      "\n",
      "### Program correctness\n",
      "\n",
      "> Program testing can be used to show the presence of bugs, but never to show\n",
      "> their absence!\n",
      ">\n",
      ">         - Edsger W. Dijkstra (1969)\n",
      "\n",
      "### In the imperfect world ...\n",
      "\n",
      "-   avoid writing code if possible\n",
      "-   write code as simple as possible\n",
      "-   avoid cleverness\n",
      "-   use code to generate code\n",
      "\n",
      "### Program languages play an important role\n",
      "\n",
      "> Programmers are always surrounded by complexity; we cannot avoid it. Our\n",
      "> applications are complex because we are ambitious to use our computers in\n",
      "> ever more sophisticated ways. Programming is complex because of the large\n",
      "> number of conflicting objectives for each of our programming projects. **If\n",
      "> our basic tool, the language in which we design and code our programs, is\n",
      "> also complicated, the language itself becomes part of the problem rather than\n",
      "> part of its solution.**\n",
      ">\n",
      "> --- C.A.R. Hoare - The Emperor's Old Clothes - Turing Award Lecture (1980)\n",
      "\n",
      "### Testing and reproducibility\n",
      "\n",
      ">  In the good old days physicists repeated each other's experiments, just to\n",
      ">  be sure. Today they stick to FORTRAN, so that they can share each other's\n",
      ">  programs, bugs included.\n",
      ">\n",
      ">         - Edsger W. Dijkstra (1975)\n",
      "\n",
      "### Pre- and post-condition tests\n",
      "\n",
      "-   what must be true *before* a method is invoked\n",
      "-   what must be true *after* a method is invoked\n",
      "-   use assertions\n",
      "\n",
      "### Program defensively\n",
      "\n",
      "-   out-of-range index\n",
      "-   division by zero\n",
      "-   error returns\n",
      "\n",
      "### Be systematic\n",
      "\n",
      "-   incremental\n",
      "-   simple things first\n",
      "-   know what to expect\n",
      "-   compare independent implementations\n",
      "\n",
      "### Automate it\n",
      "\n",
      "-   **regression tests** ensure that changes don't break existing functionality\n",
      "-   verify conservation\n",
      "-   **unit tests** (white box testing)\n",
      "-   measure test coverage\n",
      "\n",
      "### Interface and implementation\n",
      "\n",
      "-   an **interface** is how something is used\n",
      "-   an **implementation** is how it is written\n",
      "\n",
      "## Testing in Python\n",
      "\n",
      "### Landscape\n",
      "\n",
      "-  errors, exceptions, and debugging\n",
      "-  `assert`, `doctest`, and unit tests\n",
      "-  `logging`, `unittest`, and `nose`\n",
      "\n",
      "### Errors & Exceptions\n",
      "\n",
      "#### Syntax Errors\n",
      "\n",
      "- Caught by Python parser, prior to execution\n",
      "- arrow marks the last parsed command / syntax, which gave an error"
     ]
    },
    {
     "cell_type": "code",
     "collapsed": false,
     "input": [
      "while True print 'Hello world'"
     ],
     "language": "python",
     "metadata": {},
     "outputs": []
    },
    {
     "cell_type": "markdown",
     "metadata": {},
     "source": [
      "#### Exceptions\n",
      "\n",
      "- Caught during runtime"
     ]
    },
    {
     "cell_type": "code",
     "collapsed": true,
     "input": [
      "1/0"
     ],
     "language": "python",
     "metadata": {},
     "outputs": [
      {
       "ename": "ZeroDivisionError",
       "evalue": "integer division or modulo by zero",
       "output_type": "pyerr",
       "traceback": [
        "\u001b[1;31m---------------------------------------------------------------------------\u001b[0m\n\u001b[1;31mZeroDivisionError\u001b[0m                         Traceback (most recent call last)",
        "\u001b[1;32m<ipython-input-1-f756c4dc881a>\u001b[0m in \u001b[0;36m<module>\u001b[1;34m()\u001b[0m\n\u001b[1;32m----> 1\u001b[1;33m \u001b[1;36m1\u001b[0m\u001b[1;33m/\u001b[0m\u001b[1;36m0\u001b[0m\u001b[1;33m\u001b[0m\u001b[0m\n\u001b[0m\u001b[0;32m      2\u001b[0m \u001b[0mfactorial\u001b[0m\u001b[1;33m\u001b[0m\u001b[0m\n\u001b[0;32m      3\u001b[0m \u001b[1;34m'1'\u001b[0m\u001b[1;33m+\u001b[0m\u001b[1;36m1\u001b[0m\u001b[1;33m\u001b[0m\u001b[0m\n",
        "\u001b[1;31mZeroDivisionError\u001b[0m: integer division or modulo by zero"
       ]
      }
     ],
     "prompt_number": 1
    },
    {
     "cell_type": "code",
     "collapsed": false,
     "input": [
      "factorial"
     ],
     "language": "python",
     "metadata": {},
     "outputs": []
    },
    {
     "cell_type": "code",
     "collapsed": false,
     "input": [
      "'1'+1"
     ],
     "language": "python",
     "metadata": {},
     "outputs": []
    },
    {
     "cell_type": "markdown",
     "metadata": {},
     "source": [
      "#### Exception handling"
     ]
    },
    {
     "cell_type": "code",
     "collapsed": false,
     "input": [
      "try:\n",
      "   file=open('test.txt')\n",
      " except IOError:\n",
      "   print 'No such file'"
     ],
     "language": "python",
     "metadata": {},
     "outputs": []
    },
    {
     "cell_type": "markdown",
     "metadata": {},
     "source": [
      "#### Raising exceptions"
     ]
    },
    {
     "cell_type": "code",
     "collapsed": false,
     "input": [
      "def newfunction():\n",
      "    raise NotImplementedError\n",
      "\n",
      "newfunction()"
     ],
     "language": "python",
     "metadata": {},
     "outputs": []
    },
    {
     "cell_type": "markdown",
     "metadata": {},
     "source": [
      "### Debugging"
     ]
    },
    {
     "cell_type": "code",
     "collapsed": false,
     "input": [
      "def foo(x):\n",
      "    return 1/x\n",
      "\n",
      "def bar(y):\n",
      "    return foo(1-y)\n",
      "\n",
      "bar(1)"
     ],
     "language": "python",
     "metadata": {},
     "outputs": []
    },
    {
     "cell_type": "code",
     "collapsed": false,
     "input": [
      "%debug"
     ],
     "language": "python",
     "metadata": {},
     "outputs": []
    },
    {
     "cell_type": "markdown",
     "metadata": {},
     "source": [
      "## Fixing bugs "
     ]
    },
    {
     "cell_type": "code",
     "collapsed": false,
     "input": [
      "def foo(x):\n",
      "    if x==0:\n",
      "        return float('Inf')\n",
      "    else:\n",
      "        return 1/x\n",
      "\n",
      "bar(1)\n",
      "bar(1.0)"
     ],
     "language": "python",
     "metadata": {},
     "outputs": []
    },
    {
     "cell_type": "code",
     "collapsed": false,
     "input": [
      "def foo(x):\n",
      "    try:\n",
      "        return 1/x\n",
      "    except ZeroDivisionError:\n",
      "        return float('Inf')\n",
      "\n",
      "bar(1)\n",
      "bar(1.0)"
     ],
     "language": "python",
     "metadata": {},
     "outputs": []
    },
    {
     "cell_type": "markdown",
     "metadata": {},
     "source": [
      "## Test as you code\n",
      "\n",
      "### Type checking  "
     ]
    },
    {
     "cell_type": "code",
     "collapsed": false,
     "input": [
      "i=raw_input(\"Please enter an integer: \")\n",
      "if not isinstance(i,int):\n",
      "    print \"Casting \", i, \" to integer.\"\n",
      "    i=int(i)"
     ],
     "language": "python",
     "metadata": {},
     "outputs": []
    },
    {
     "cell_type": "markdown",
     "metadata": {},
     "source": [
      "### Assert invariants"
     ]
    },
    {
     "cell_type": "code",
     "collapsed": false,
     "input": [
      "if i%3 == 0:\n",
      "    print 1\n",
      "elif i%3 == 1:\n",
      "    print 2\n",
      "else:\n",
      "    assert i%3 == 2\n",
      "    print 3"
     ],
     "language": "python",
     "metadata": {},
     "outputs": []
    },
    {
     "cell_type": "markdown",
     "metadata": {},
     "source": [
      "## Example\n",
      "\n",
      "Let's make a factorial function."
     ]
    },
    {
     "cell_type": "code",
     "collapsed": false,
     "input": [
      "%%file myfactorial.py\n",
      "\n",
      "def factorial2(n):\n",
      "    \"\"\" Details to come ...\n",
      "    \"\"\"\n",
      "\n",
      "    raise NotImplementedError\n",
      "\n",
      "def test():\n",
      "     from math import factorial\n",
      "     for x in range(10):\n",
      "         print \".\",\n",
      "         assert factorial2(x) == factorial(x), \\\n",
      "                \"My factorial function is incorrect for n = %i\" % x"
     ],
     "language": "python",
     "metadata": {},
     "outputs": []
    },
    {
     "cell_type": "markdown",
     "metadata": {},
     "source": [
      "### Let's test it ..."
     ]
    },
    {
     "cell_type": "code",
     "collapsed": false,
     "input": [
      "import myfactorial\n",
      "myfactorial.test()"
     ],
     "language": "python",
     "metadata": {},
     "outputs": []
    },
    {
     "cell_type": "markdown",
     "metadata": {},
     "source": [
      "Looks like we will have to implement our function, if we want to make any progress..."
     ]
    },
    {
     "cell_type": "code",
     "collapsed": false,
     "input": [
      "%%file myfactorial.py\n",
      "\n",
      "def factorial2(n):\n",
      "    \"\"\" Details to come ...\n",
      "    \"\"\"\n",
      "\n",
      "    if n == 0:\n",
      "        return 1\n",
      "    else:\n",
      "        return n*factorial(n-1)\n",
      "\n",
      "def test():\n",
      "     from math import factorial\n",
      "     for x in range(10):\n",
      "         assert factorial2(x) == factorial(x), \\\n",
      "                \"My factorial function is incorrect for n = %i\" % x"
     ],
     "language": "python",
     "metadata": {},
     "outputs": []
    },
    {
     "cell_type": "markdown",
     "metadata": {},
     "source": [
      "### Let's test it ..."
     ]
    },
    {
     "cell_type": "code",
     "collapsed": false,
     "input": [
      "import myfactorial\n",
      "myfactorial.test()"
     ],
     "language": "python",
     "metadata": {},
     "outputs": []
    },
    {
     "cell_type": "markdown",
     "metadata": {},
     "source": [
      "Hmmm.... What's going on??\n",
      "\n",
      "### What about preconditions\n",
      "\n",
      "What happens if we call `factorial2` with a negative integer?  Or something that's not an integer?"
     ]
    },
    {
     "cell_type": "code",
     "collapsed": false,
     "input": [
      "%%file myfactorial.py\n",
      "def factorial2(n):\n",
      "    \"\"\" Find n!. Raise an AssertionError if n is negative or non-integral.\n",
      "    \"\"\"\n",
      "\n",
      "    assert n>=0. and type(n) is int, \"Unrecognized input\"\n",
      "\n",
      "    if n == 0:\n",
      "        return 1\n",
      "    else:\n",
      "        return n*factorial2(n-1)\n",
      "\n",
      "def test():\n",
      "     from math import factorial\n",
      "     for x in range(10):\n",
      "         assert factorial2(x) == factorial(x), \\\n",
      "                \"My factorial function is incorrect for n = %i\" % x"
     ],
     "language": "python",
     "metadata": {},
     "outputs": []
    },
    {
     "cell_type": "markdown",
     "metadata": {},
     "source": [
      "### `doctests` -- executable examples"
     ]
    },
    {
     "cell_type": "code",
     "collapsed": false,
     "input": [
      "from myfactorial import factorial2\n",
      "[factorial2(n) for n in range(5)]"
     ],
     "language": "python",
     "metadata": {},
     "outputs": []
    },
    {
     "cell_type": "code",
     "collapsed": false,
     "input": [
      "factorial2(-1)"
     ],
     "language": "python",
     "metadata": {},
     "outputs": []
    },
    {
     "cell_type": "code",
     "collapsed": false,
     "input": [
      "%%file myfactorial.py\n",
      "def factorial2(n):\n",
      "    \"\"\" Find n!. Raise an AssertionError if n is negative or non-integral.\n",
      "\n",
      "    >>> from myfactorial import factorial2\n",
      "    >>> [factorial2(n) for n in range(5)]\n",
      "    [1, 1, 2, 6, 24]\n",
      "    \"\"\"\n",
      "\n",
      "    assert n>=0. and type(n) is int, \"Unrecognized input\"\n",
      "\n",
      "    if n == 0:\n",
      "        return 1\n",
      "    else:\n",
      "        return n*factorial2(n-1)\n",
      "\n",
      "def test():\n",
      "     from math import factorial\n",
      "     for x in range(10):\n",
      "         assert factorial2(x) == factorial(x), \\\n",
      "                \"My factorial function is incorrect for n = %i\" % x"
     ],
     "language": "python",
     "metadata": {},
     "outputs": []
    },
    {
     "cell_type": "markdown",
     "metadata": {},
     "source": [
      "### Running doctests"
     ]
    },
    {
     "cell_type": "code",
     "collapsed": false,
     "input": [
      "!python -m doctest -v myfactorial.py"
     ],
     "language": "python",
     "metadata": {},
     "outputs": []
    },
    {
     "cell_type": "markdown",
     "metadata": {},
     "source": [
      "## Real world testing and continuous integration\n",
      "\n",
      "### `unittest` and `nose`\n",
      "\n",
      "#### Test fixtures\n",
      "\n",
      "-   create self-contained tests\n",
      "-   setup: open file, connect to a DB, create datastructures\n",
      "-   teardown: tidy up afterward\n",
      "\n",
      "#### Test runner\n",
      "\n",
      "-   `nosetests`\n",
      "-   test discovery: any callable beginning with `test` in a module\n",
      "    beginning with `test`\n",
      "\n",
      "#### Testing scientific computing libraries"
     ]
    },
    {
     "cell_type": "code",
     "collapsed": false,
     "input": [
      "import scipy.integrate\n",
      "scipy.integrate.test()"
     ],
     "language": "python",
     "metadata": {},
     "outputs": []
    },
    {
     "cell_type": "markdown",
     "metadata": {},
     "source": [
      "### Assertions revisited"
     ]
    },
    {
     "cell_type": "markdown",
     "metadata": {},
     "source": [
      "Mathematically\n",
      "\n",
      "$ x = (\\sqrt(x))^2$.\n",
      "\n",
      "So what is happening here:"
     ]
    },
    {
     "cell_type": "code",
     "collapsed": false,
     "input": [
      "assert 2 == math.sqrt(2)**2"
     ],
     "language": "python",
     "metadata": {},
     "outputs": []
    },
    {
     "cell_type": "code",
     "collapsed": false,
     "input": [
      "math.sqrt(2)"
     ],
     "language": "python",
     "metadata": {},
     "outputs": []
    },
    {
     "cell_type": "markdown",
     "metadata": {},
     "source": [
      "#### NumPy Testing"
     ]
    },
    {
     "cell_type": "code",
     "collapsed": false,
     "input": [
      "import numpy as np\n",
      "np.testing.assert_almost_equal(12, math.sqrt(12)**2)"
     ],
     "language": "python",
     "metadata": {},
     "outputs": []
    },
    {
     "cell_type": "code",
     "collapsed": false,
     "input": [
      "x=1.000001\n",
      "y=1.000002\n",
      "np.testing.assert_almost_equal(x,y)"
     ],
     "language": "python",
     "metadata": {},
     "outputs": []
    },
    {
     "cell_type": "markdown",
     "metadata": {},
     "source": [
      "What if we consider x and y almost equal?  Can we modify our assertion?"
     ]
    },
    {
     "cell_type": "code",
     "collapsed": false,
     "input": [
      "np.testing.assert_almost_equal?"
     ],
     "language": "python",
     "metadata": {},
     "outputs": []
    },
    {
     "cell_type": "markdown",
     "metadata": {},
     "source": [
      "### Final thoughts\n",
      "\n",
      "- [Continuous integration (SymPy)](https://github.com/sympy/sympy/pull/2399)\n",
      "- [Logging](http://docs.python.org/2/library/logging.html)\n",
      "- [Python debugger](http://docs.python.org/2/library/pdb.html)\n",
      "\n",
      "#### Learn more\n",
      "\n",
      "* [http://software-carpentry.org](http://software-carpentry.org)\n",
      "* [http://docs.python.org/library/exceptions.html](http://docs.python.org/library/exceptions.html)\n",
      "* [http://docs.python.org/library/doctest.html](http://docs.python.org/library/doctest.html)\n",
      "* [http://docs.python.org/library/unittest.html](http://docs.python.org/library/unittest.html)\n",
      "* [http://docs.scipy.org/doc/numpy/reference/routines.testing.html](http://docs.scipy.org/doc/numpy/reference/routines.testing.html)\n",
      "* [http://nedbatchelder.com/code/coverage](http://nedbatchelder.com/code/coverage)\n",
      "* [http://somethingaboutorange.com/mrl/projects/nose](http://somethingaboutorange.com/mrl/projects/nose)"
     ]
    }
   ],
   "metadata": {}
  }
 ]
}