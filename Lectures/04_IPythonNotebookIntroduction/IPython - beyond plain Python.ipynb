{
 "metadata": {
  "name": ""
 },
 "nbformat": 3,
 "nbformat_minor": 0,
 "worksheets": [
  {
   "cells": [
    {
     "cell_type": "markdown",
     "metadata": {
      "slideshow": {
       "slide_type": "slide"
      }
     },
     "source": [
      "# IPython: an enviromnent for interactive computing"
     ]
    },
    {
     "cell_type": "markdown",
     "metadata": {
      "slideshow": {
       "slide_type": "fragment"
      }
     },
     "source": [
      "## What is IPython?\n",
      "\n",
      "- Short for *I*nteractive *Python*\n",
      "- A platform for you to *interact* with your code and data\n",
      "- The *notebook*: a system for *literate computing*\n",
      "  * The combination of narrative, code and results\n",
      "  * Weave your scientific narratives together with your computational process\n",
      "- Tools for easy parallel computing\n",
      "  * Interact with *many* processes"
     ]
    },
    {
     "cell_type": "heading",
     "level": 1,
     "metadata": {
      "slideshow": {
       "slide_type": "slide"
      }
     },
     "source": [
      "IPython at the terminal"
     ]
    },
    {
     "cell_type": "markdown",
     "metadata": {
      "slideshow": {
       "slide_type": "fragment"
      }
     },
     "source": [
      "The basic IPython client: at the terminal, simply type `ipython`:\n",
      "\n",
      "    $ ipython\n",
      "    Python 2.7.4 (default, Apr 19 2013, 18:28:01) \n",
      "    Type \"copyright\", \"credits\" or \"license\" for more information.\n",
      "    \n",
      "    IPython 1.0.0 -- An enhanced Interactive Python.\n",
      "    ?         -> Introduction and overview of IPython's features.\n",
      "    %quickref -> Quick reference.\n",
      "    help      -> Python's own help system.\n",
      "    object?   -> Details about 'object', use 'object??' for extra details.\n",
      "    \n",
      "    In [1]: print \"hello world\"\n",
      "    hello world\n"
     ]
    },
    {
     "cell_type": "markdown",
     "metadata": {
      "slideshow": {
       "slide_type": "slide"
      }
     },
     "source": [
      "# Some other tutorial help/resources :\n",
      "\n",
      "   - The [IPython website](http://ipython.org)\n",
      "   - Search for \"IPython in depth\" tutorial on youtube and pyvideo, much longer, much deeper\n",
      "   - Ask for help on [Stackoverflow, tag it \"ipython\"](http://stackoverflow.com/questions/tagged/ipython)\n",
      "   - [Mailing list](http://mail.scipy.org/mailman/listinfo/ipython-dev)\n",
      "   - File a [github issue](http://github.com/ipython/ipython)\n",
      "   - [Twitter](https://twitter.com/IPythonDev)\n",
      "   - [Reddit](http://www.reddit.com/r/IPython)\n",
      "   - [Notebook Gallery](https://github.com/ipython/ipython/wiki/A-gallery-of-interesting-IPython-Notebooks)\n",
      "     - full books\n",
      "   - Come talk to the team! We're at Barker Hall, [ping me](http://fperez.org)."
     ]
    },
    {
     "cell_type": "heading",
     "level": 1,
     "metadata": {
      "slideshow": {
       "slide_type": "slide"
      }
     },
     "source": [
      "IPython: beyond plain Python"
     ]
    },
    {
     "cell_type": "markdown",
     "metadata": {
      "slideshow": {
       "slide_type": "fragment"
      }
     },
     "source": [
      "When executing code in IPython, all valid Python syntax works as-is, but IPython provides a number of features designed to make the interactive experience more fluid and efficient."
     ]
    },
    {
     "cell_type": "heading",
     "level": 2,
     "metadata": {
      "slideshow": {
       "slide_type": "slide"
      }
     },
     "source": [
      "First things first: running code, getting help"
     ]
    },
    {
     "cell_type": "markdown",
     "metadata": {
      "slideshow": {
       "slide_type": "fragment"
      }
     },
     "source": [
      "In the notebook, to run a cell of code, hit `Shift-Enter`. This executes the cell and puts the cursor in the next cell below, or makes a new one if you are at the end.  Alternately, you can use:\n",
      "    \n",
      "- `Alt-Enter` to force the creation of a new cell unconditionally (useful when inserting new content in the middle of an existing notebook).\n",
      "- `Control-Enter` executes the cell and keeps the cursor in the same cell, useful for quick experimentation of snippets that you don't need to keep permanently."
     ]
    },
    {
     "cell_type": "code",
     "collapsed": false,
     "input": [
      "print \"Hi\""
     ],
     "language": "python",
     "metadata": {
      "slideshow": {
       "slide_type": "fragment"
      }
     },
     "outputs": [
      {
       "output_type": "stream",
       "stream": "stdout",
       "text": [
        "Hi\n"
       ]
      }
     ],
     "prompt_number": 17
    },
    {
     "cell_type": "markdown",
     "metadata": {
      "slideshow": {
       "slide_type": "fragment"
      }
     },
     "source": [
      "<!-- Sigil for slide mode, remove later once we fix transitions limitation -->"
     ]
    },
    {
     "cell_type": "markdown",
     "metadata": {
      "slideshow": {
       "slide_type": "slide"
      }
     },
     "source": [
      "## Getting help"
     ]
    },
    {
     "cell_type": "code",
     "collapsed": false,
     "input": [
      "?"
     ],
     "language": "python",
     "metadata": {
      "slideshow": {
       "slide_type": "fragment"
      }
     },
     "outputs": [],
     "prompt_number": 18
    },
    {
     "cell_type": "markdown",
     "metadata": {
      "slideshow": {
       "slide_type": "fragment"
      }
     },
     "source": [
      "<!-- Sigil for slide mode, remove later once we fix transitions limitation -->"
     ]
    },
    {
     "cell_type": "markdown",
     "metadata": {
      "slideshow": {
       "slide_type": "slide"
      }
     },
     "source": [
      "## Help with `?` and `??`\n",
      "\n",
      "Typing `object_name?` will print all sorts of details about any object, including docstrings, function definition lines (for call arguments) and constructor details for classes."
     ]
    },
    {
     "cell_type": "code",
     "collapsed": false,
     "input": [
      "import collections\n",
      "collections.namedtuple?"
     ],
     "language": "python",
     "metadata": {
      "slideshow": {
       "slide_type": "fragment"
      }
     },
     "outputs": [],
     "prompt_number": 19
    },
    {
     "cell_type": "code",
     "collapsed": false,
     "input": [
      "collections.Counter??"
     ],
     "language": "python",
     "metadata": {
      "slideshow": {
       "slide_type": "fragment"
      }
     },
     "outputs": [],
     "prompt_number": 20
    },
    {
     "cell_type": "code",
     "collapsed": false,
     "input": [
      "*int*?"
     ],
     "language": "python",
     "metadata": {
      "slideshow": {
       "slide_type": "fragment"
      }
     },
     "outputs": [],
     "prompt_number": 21
    },
    {
     "cell_type": "markdown",
     "metadata": {
      "slideshow": {
       "slide_type": "fragment"
      }
     },
     "source": [
      "<!-- Sigil for slide mode, remove later once we fix transitions limitation -->"
     ]
    },
    {
     "cell_type": "markdown",
     "metadata": {
      "slideshow": {
       "slide_type": "slide"
      }
     },
     "source": [
      "An IPython quick reference card:"
     ]
    },
    {
     "cell_type": "code",
     "collapsed": false,
     "input": [
      "%quickref"
     ],
     "language": "python",
     "metadata": {
      "slideshow": {
       "slide_type": "fragment"
      }
     },
     "outputs": [],
     "prompt_number": 22
    },
    {
     "cell_type": "markdown",
     "metadata": {
      "slideshow": {
       "slide_type": "fragment"
      }
     },
     "source": [
      "<!-- Sigil for slide mode, remove later once we fix transitions limitation -->"
     ]
    },
    {
     "cell_type": "heading",
     "level": 2,
     "metadata": {
      "slideshow": {
       "slide_type": "slide"
      }
     },
     "source": [
      "Tab completion"
     ]
    },
    {
     "cell_type": "markdown",
     "metadata": {},
     "source": [
      "Tab completion, especially for attributes, is a convenient way to explore the structure of any object you\u2019re dealing with. Simply type `object_name.<TAB>` to view the object\u2019s attributes. Besides Python objects and keywords, tab completion also works on file and directory names."
     ]
    },
    {
     "cell_type": "code",
     "collapsed": false,
     "input": [
      "collections.Counter"
     ],
     "language": "python",
     "metadata": {
      "slideshow": {
       "slide_type": "fragment"
      }
     },
     "outputs": [
      {
       "metadata": {},
       "output_type": "pyout",
       "prompt_number": 23,
       "text": [
        "collections.Counter"
       ]
      }
     ],
     "prompt_number": 23
    },
    {
     "cell_type": "markdown",
     "metadata": {
      "slideshow": {
       "slide_type": "fragment"
      }
     },
     "source": [
      "<!-- Sigil for slide mode, remove later once we fix transitions limitation -->"
     ]
    },
    {
     "cell_type": "heading",
     "level": 2,
     "metadata": {
      "slideshow": {
       "slide_type": "slide"
      }
     },
     "source": [
      "The interactive workflow: input, output, history"
     ]
    },
    {
     "cell_type": "code",
     "collapsed": false,
     "input": [
      "2+10"
     ],
     "language": "python",
     "metadata": {
      "slideshow": {
       "slide_type": "fragment"
      }
     },
     "outputs": [
      {
       "metadata": {},
       "output_type": "pyout",
       "prompt_number": 24,
       "text": [
        "12"
       ]
      }
     ],
     "prompt_number": 24
    },
    {
     "cell_type": "code",
     "collapsed": false,
     "input": [
      "_+10"
     ],
     "language": "python",
     "metadata": {
      "slideshow": {
       "slide_type": "fragment"
      }
     },
     "outputs": [
      {
       "metadata": {},
       "output_type": "pyout",
       "prompt_number": 25,
       "text": [
        "22"
       ]
      }
     ],
     "prompt_number": 25
    },
    {
     "cell_type": "markdown",
     "metadata": {
      "slideshow": {
       "slide_type": "fragment"
      }
     },
     "source": [
      "<!-- Sigil for slide mode, remove later once we fix transitions limitation -->"
     ]
    },
    {
     "cell_type": "markdown",
     "metadata": {
      "slideshow": {
       "slide_type": "slide"
      }
     },
     "source": [
      "## Output control\n",
      "\n",
      "You can suppress the storage and rendering of output if you append `;` to the last cell (this comes in handy when plotting with matplotlib, for example):"
     ]
    },
    {
     "cell_type": "code",
     "collapsed": false,
     "input": [
      "10+20;"
     ],
     "language": "python",
     "metadata": {
      "slideshow": {
       "slide_type": "fragment"
      }
     },
     "outputs": [],
     "prompt_number": 26
    },
    {
     "cell_type": "code",
     "collapsed": false,
     "input": [
      "_"
     ],
     "language": "python",
     "metadata": {
      "slideshow": {
       "slide_type": "fragment"
      }
     },
     "outputs": [
      {
       "metadata": {},
       "output_type": "pyout",
       "prompt_number": 27,
       "text": [
        "22"
       ]
      }
     ],
     "prompt_number": 27
    },
    {
     "cell_type": "markdown",
     "metadata": {
      "slideshow": {
       "slide_type": "fragment"
      }
     },
     "source": [
      "<!-- Sigil for slide mode, remove later once we fix transitions limitation -->"
     ]
    },
    {
     "cell_type": "markdown",
     "metadata": {
      "slideshow": {
       "slide_type": "slide"
      }
     },
     "source": [
      "## Output history\n",
      "\n",
      "The output is stored in `_N` and `Out[N]` variables:"
     ]
    },
    {
     "cell_type": "code",
     "collapsed": false,
     "input": [
      "_8 == Out[8]"
     ],
     "language": "python",
     "metadata": {
      "slideshow": {
       "slide_type": "fragment"
      }
     },
     "outputs": [
      {
       "metadata": {},
       "output_type": "pyout",
       "prompt_number": 28,
       "text": [
        "True"
       ]
      }
     ],
     "prompt_number": 28
    },
    {
     "cell_type": "markdown",
     "metadata": {
      "slideshow": {
       "slide_type": "fragment"
      }
     },
     "source": [
      "<!-- Sigil for slide mode, remove later once we fix transitions limitation -->"
     ]
    },
    {
     "cell_type": "markdown",
     "metadata": {
      "slideshow": {
       "slide_type": "slide"
      }
     },
     "source": [
      "And the last three have shorthands for convenience:"
     ]
    },
    {
     "cell_type": "code",
     "collapsed": false,
     "input": [
      "print 'last output:', _\n",
      "print 'next one   :', __\n",
      "print 'and next   :', ___"
     ],
     "language": "python",
     "metadata": {
      "slideshow": {
       "slide_type": "fragment"
      }
     },
     "outputs": [
      {
       "output_type": "stream",
       "stream": "stdout",
       "text": [
        "last output: True\n",
        "next one   : 22\n",
        "and next   : 22\n"
       ]
      }
     ],
     "prompt_number": 29
    },
    {
     "cell_type": "markdown",
     "metadata": {
      "slideshow": {
       "slide_type": "fragment"
      }
     },
     "source": [
      "<!-- Sigil for slide mode, remove later once we fix transitions limitation -->"
     ]
    },
    {
     "cell_type": "markdown",
     "metadata": {
      "slideshow": {
       "slide_type": "slide"
      }
     },
     "source": [
      "## The input history is also available"
     ]
    },
    {
     "cell_type": "code",
     "collapsed": false,
     "input": [
      "In[11]"
     ],
     "language": "python",
     "metadata": {
      "slideshow": {
       "slide_type": "fragment"
      }
     },
     "outputs": [
      {
       "metadata": {},
       "output_type": "pyout",
       "prompt_number": 30,
       "text": [
        "u'10+20;'"
       ]
      }
     ],
     "prompt_number": 30
    },
    {
     "cell_type": "code",
     "collapsed": false,
     "input": [
      "_i"
     ],
     "language": "python",
     "metadata": {
      "slideshow": {
       "slide_type": "fragment"
      }
     },
     "outputs": [
      {
       "metadata": {},
       "output_type": "pyout",
       "prompt_number": 31,
       "text": [
        "u'In[11]'"
       ]
      }
     ],
     "prompt_number": 31
    },
    {
     "cell_type": "code",
     "collapsed": false,
     "input": [
      "_ii"
     ],
     "language": "python",
     "metadata": {
      "slideshow": {
       "slide_type": "fragment"
      }
     },
     "outputs": [
      {
       "metadata": {},
       "output_type": "pyout",
       "prompt_number": 32,
       "text": [
        "u'In[11]'"
       ]
      }
     ],
     "prompt_number": 32
    },
    {
     "cell_type": "code",
     "collapsed": false,
     "input": [
      "print 'last input:', _i\n",
      "print 'next one  :', _ii\n",
      "print 'and next  :', _iii"
     ],
     "language": "python",
     "metadata": {
      "slideshow": {
       "slide_type": "fragment"
      }
     },
     "outputs": [
      {
       "output_type": "stream",
       "stream": "stdout",
       "text": [
        "last input: _ii\n",
        "next one  : _i\n",
        "and next  : In[11]\n"
       ]
      }
     ],
     "prompt_number": 33
    },
    {
     "cell_type": "code",
     "collapsed": false,
     "input": [
      "%history -n 1-5"
     ],
     "language": "python",
     "metadata": {
      "slideshow": {
       "slide_type": "fragment"
      }
     },
     "outputs": [
      {
       "output_type": "stream",
       "stream": "stdout",
       "text": [
        "   1: %run talktools.py\n",
        "   2: print \"Hi\"\n",
        "   3: ?\n",
        "   4:\n",
        "import collections\n",
        "collections.namedtuple?\n",
        "   5: collections.Counter??\n"
       ]
      }
     ],
     "prompt_number": 34
    },
    {
     "cell_type": "markdown",
     "metadata": {
      "slideshow": {
       "slide_type": "fragment"
      }
     },
     "source": [
      "<!-- Sigil for slide mode, remove later once we fix transitions limitation -->"
     ]
    },
    {
     "cell_type": "markdown",
     "metadata": {
      "slideshow": {
       "slide_type": "slide"
      }
     },
     "source": [
      "# Accessing the underlying operating system\n",
      "\n",
      "**Note:** the commands below work on Linux or Macs, but may behave differently on Windows, as the underlying OS is different. IPython's ability to access the OS is still the same, it's just the syntax that varies per OS."
     ]
    },
    {
     "cell_type": "code",
     "collapsed": false,
     "input": [
      "!pwd"
     ],
     "language": "python",
     "metadata": {
      "slideshow": {
       "slide_type": "fragment"
      }
     },
     "outputs": [
      {
       "output_type": "stream",
       "stream": "stdout",
       "text": [
        "/home/fperez/teach/bc/Lectures/04_IPythonNotebookIntroduction\r\n"
       ]
      }
     ],
     "prompt_number": 35
    },
    {
     "cell_type": "code",
     "collapsed": false,
     "input": [
      "files = !ls\n",
      "print \"My current directory's files:\"\n",
      "print files"
     ],
     "language": "python",
     "metadata": {
      "slideshow": {
       "slide_type": "fragment"
      }
     },
     "outputs": [
      {
       "output_type": "stream",
       "stream": "stdout",
       "text": [
        "My current directory's files:\n",
        "['000_IPython.txt', '000_whoami.txt', '00_overview.txt', '01 - IPython - beyond plain Python.ipynb', '01_ipython_quickref.txt', '01_somefile.py', '02_intermediate.txt', '03_notebook.txt', '04_community.txt', 'breakout.txt', 'IPythonIntro.ipynb', 'mod.py', 'mod.pyc', 'README.md', 'style.css', 'style.css~', 'talktools.py', 'test.txt']\n"
       ]
      }
     ],
     "prompt_number": 36
    },
    {
     "cell_type": "code",
     "collapsed": false,
     "input": [
      "!echo $files"
     ],
     "language": "python",
     "metadata": {
      "slideshow": {
       "slide_type": "fragment"
      }
     },
     "outputs": [
      {
       "output_type": "stream",
       "stream": "stdout",
       "text": [
        "[000_IPython.txt, 000_whoami.txt, 00_overview.txt, 01 - IPython - beyond plain Python.ipynb, 01_ipython_quickref.txt, 01_somefile.py, 02_intermediate.txt, 03_notebook.txt, 04_community.txt, breakout.txt, IPythonIntro.ipynb, mod.py, mod.pyc, README.md, style.css, style.css~, talktools.py, test.txt]\r\n"
       ]
      }
     ],
     "prompt_number": 37
    },
    {
     "cell_type": "code",
     "collapsed": false,
     "input": [
      "!echo {files[0].upper()}"
     ],
     "language": "python",
     "metadata": {
      "slideshow": {
       "slide_type": "fragment"
      }
     },
     "outputs": [
      {
       "output_type": "stream",
       "stream": "stdout",
       "text": [
        "000_IPYTHON.TXT\r\n"
       ]
      }
     ],
     "prompt_number": 38
    },
    {
     "cell_type": "markdown",
     "metadata": {
      "slideshow": {
       "slide_type": "fragment"
      }
     },
     "source": [
      "<!-- Sigil for slide mode, remove later once we fix transitions limitation -->"
     ]
    },
    {
     "cell_type": "heading",
     "level": 2,
     "metadata": {
      "slideshow": {
       "slide_type": "slide"
      }
     },
     "source": [
      "Beyond Python: magic functions"
     ]
    },
    {
     "cell_type": "markdown",
     "metadata": {
      "slideshow": {
       "slide_type": "fragment"
      }
     },
     "source": [
      "The IPyhton 'magic' functions are a set of commands, invoked by prepending one or two `%` signs to their name, that live in a namespace separate from your normal Python variables and provide a more command-like interface.  They take flags with `--` and arguments without quotes, parentheses or commas. The motivation behind this system is two-fold:\n",
      "    \n",
      "- To provide an orthogonal namespace for controlling IPython itself and exposing other system-oriented functionality.\n",
      "\n",
      "- To expose a calling mode that requires minimal verbosity and typing while working interactively.  Thus the inspiration taken from the classic Unix shell style for commands."
     ]
    },
    {
     "cell_type": "code",
     "collapsed": false,
     "input": [
      "%magic"
     ],
     "language": "python",
     "metadata": {
      "slideshow": {
       "slide_type": "fragment"
      }
     },
     "outputs": [],
     "prompt_number": 39
    },
    {
     "cell_type": "markdown",
     "metadata": {
      "slideshow": {
       "slide_type": "fragment"
      }
     },
     "source": [
      "<!-- Sigil for slide mode, remove later once we fix transitions limitation -->"
     ]
    },
    {
     "cell_type": "markdown",
     "metadata": {
      "slideshow": {
       "slide_type": "slide"
      }
     },
     "source": [
      "Line vs cell magics:"
     ]
    },
    {
     "cell_type": "code",
     "collapsed": false,
     "input": [
      "%timeit range(10)"
     ],
     "language": "python",
     "metadata": {
      "slideshow": {
       "slide_type": "fragment"
      }
     },
     "outputs": [
      {
       "output_type": "stream",
       "stream": "stdout",
       "text": [
        "10000000 loops, best of 3: 195 ns per loop\n"
       ]
      }
     ],
     "prompt_number": 40
    },
    {
     "cell_type": "code",
     "collapsed": false,
     "input": [
      "%%timeit\n",
      "range(10)\n",
      "range(100)"
     ],
     "language": "python",
     "metadata": {
      "slideshow": {
       "slide_type": "fragment"
      }
     },
     "outputs": [
      {
       "output_type": "stream",
       "stream": "stdout",
       "text": [
        "1000000 loops, best of 3: 875 ns per loop\n"
       ]
      }
     ],
     "prompt_number": 41
    },
    {
     "cell_type": "markdown",
     "metadata": {
      "slideshow": {
       "slide_type": "fragment"
      }
     },
     "source": [
      "Line magics can be used even inside code blocks:"
     ]
    },
    {
     "cell_type": "code",
     "collapsed": false,
     "input": [
      "for i in range(5):\n",
      "    size = i*100\n",
      "    print 'size:',size, \n",
      "    %timeit range(size)"
     ],
     "language": "python",
     "metadata": {
      "slideshow": {
       "slide_type": "fragment"
      }
     },
     "outputs": [
      {
       "output_type": "stream",
       "stream": "stdout",
       "text": [
        "size: 0 "
       ]
      },
      {
       "output_type": "stream",
       "stream": "stdout",
       "text": [
        "10000000 loops, best of 3: 105 ns per loop\n",
        "size: 100 "
       ]
      },
      {
       "output_type": "stream",
       "stream": "stdout",
       "text": [
        "1000000 loops, best of 3: 602 ns per loop\n",
        "size: 200 "
       ]
      },
      {
       "output_type": "stream",
       "stream": "stdout",
       "text": [
        "1000000 loops, best of 3: 1.11 \u00b5s per loop\n",
        "size: 300 "
       ]
      },
      {
       "output_type": "stream",
       "stream": "stdout",
       "text": [
        "1000000 loops, best of 3: 1.85 \u00b5s per loop\n",
        "size: 400 "
       ]
      },
      {
       "output_type": "stream",
       "stream": "stdout",
       "text": [
        "100000 loops, best of 3: 2.61 \u00b5s per loop\n"
       ]
      }
     ],
     "prompt_number": 42
    },
    {
     "cell_type": "markdown",
     "metadata": {
      "slideshow": {
       "slide_type": "fragment"
      }
     },
     "source": [
      "<!-- Sigil for slide mode, remove later once we fix transitions limitation -->"
     ]
    },
    {
     "cell_type": "markdown",
     "metadata": {
      "slideshow": {
       "slide_type": "slide"
      }
     },
     "source": [
      "Magics can do anything they want with their input, so it doesn't have to be valid Python:"
     ]
    },
    {
     "cell_type": "code",
     "collapsed": false,
     "input": [
      "%%bash\n",
      "echo \"My shell is:\" $SHELL\n",
      "echo \"My memory status is:\"\n",
      "free"
     ],
     "language": "python",
     "metadata": {
      "slideshow": {
       "slide_type": "fragment"
      }
     },
     "outputs": [
      {
       "output_type": "stream",
       "stream": "stdout",
       "text": [
        "My shell is: /bin/bash\n",
        "My memory status is:\n",
        "             total       used       free     shared    buffers     cached\n",
        "Mem:       8121752    7842384     279368          0      71200     575852\n",
        "-/+ buffers/cache:    7195332     926420\n",
        "Swap:      4200960      25076    4175884\n"
       ]
      }
     ],
     "prompt_number": 43
    },
    {
     "cell_type": "markdown",
     "metadata": {
      "slideshow": {
       "slide_type": "fragment"
      }
     },
     "source": [
      "Another interesting cell magic: create any file you want locally from the notebook:"
     ]
    },
    {
     "cell_type": "code",
     "collapsed": false,
     "input": [
      "%%file test.txt\n",
      "This is a test file!\n",
      "It can contain anything I want...\n",
      "\n",
      "And more..."
     ],
     "language": "python",
     "metadata": {
      "slideshow": {
       "slide_type": "fragment"
      }
     },
     "outputs": [
      {
       "output_type": "stream",
       "stream": "stdout",
       "text": [
        "Overwriting test.txt\n"
       ]
      }
     ],
     "prompt_number": 44
    },
    {
     "cell_type": "code",
     "collapsed": false,
     "input": [
      "!cat test.txt"
     ],
     "language": "python",
     "metadata": {
      "slideshow": {
       "slide_type": "fragment"
      }
     },
     "outputs": [
      {
       "output_type": "stream",
       "stream": "stdout",
       "text": [
        "This is a test file!\r\n",
        "It can contain anything I want...\r\n",
        "\r\n",
        "And more..."
       ]
      }
     ],
     "prompt_number": 45
    },
    {
     "cell_type": "markdown",
     "metadata": {
      "slideshow": {
       "slide_type": "fragment"
      }
     },
     "source": [
      "<!-- Sigil for slide mode, remove later once we fix transitions limitation -->"
     ]
    },
    {
     "cell_type": "markdown",
     "metadata": {
      "slideshow": {
       "slide_type": "slide"
      }
     },
     "source": [
      "Let's see what other magics are currently defined in the system:"
     ]
    },
    {
     "cell_type": "code",
     "collapsed": false,
     "input": [
      "%lsmagic"
     ],
     "language": "python",
     "metadata": {
      "slideshow": {
       "slide_type": "fragment"
      }
     },
     "outputs": [
      {
       "json": [
        "{\"cell\": {\"prun\": \"ExecutionMagics\", \"file\": \"Other\", \"!\": \"OSMagics\", \"capture\": \"ExecutionMagics\", \"timeit\": \"ExecutionMagics\", \"script\": \"ScriptMagics\", \"ruby\": \"Other\", \"system\": \"OSMagics\", \"perl\": \"Other\", \"HTML\": \"Other\", \"bash\": \"Other\", \"python\": \"Other\", \"SVG\": \"Other\", \"javascript\": \"DisplayMagics\", \"writefile\": \"OSMagics\", \"pypy\": \"Other\", \"python3\": \"Other\", \"latex\": \"DisplayMagics\", \"sx\": \"OSMagics\", \"svg\": \"DisplayMagics\", \"html\": \"DisplayMagics\", \"sh\": \"Other\", \"time\": \"ExecutionMagics\", \"debug\": \"ExecutionMagics\"}, \"line\": {\"load\": \"CodeMagics\", \"psource\": \"NamespaceMagics\", \"lsmagic\": \"BasicMagics\", \"logstate\": \"LoggingMagics\", \"logstart\": \"LoggingMagics\", \"popd\": \"OSMagics\", \"ed\": \"Other\", \"pycat\": \"OSMagics\", \"loadpy\": \"CodeMagics\", \"install_ext\": \"ExtensionMagics\", \"cd\": \"OSMagics\", \"pastebin\": \"CodeMagics\", \"clear\": \"KernelMagics\", \"colors\": \"BasicMagics\", \"prun\": \"ExecutionMagics\", \"pushd\": \"OSMagics\", \"rep\": \"Other\", \"config\": \"ConfigMagics\", \"dirs\": \"OSMagics\", \"time\": \"ExecutionMagics\", \"who_ls\": \"NamespaceMagics\", \"install_profiles\": \"DeprecatedMagics\", \"macro\": \"ExecutionMagics\", \"autocall\": \"AutoMagics\", \"alias\": \"OSMagics\", \"bookmark\": \"OSMagics\", \"connect_info\": \"KernelMagics\", \"rehashx\": \"OSMagics\", \"pprint\": \"BasicMagics\", \"system\": \"OSMagics\", \"whos\": \"NamespaceMagics\", \"hist\": \"Other\", \"install_default_config\": \"DeprecatedMagics\", \"logoff\": \"LoggingMagics\", \"env\": \"OSMagics\", \"qtconsole\": \"KernelMagics\", \"load_ext\": \"ExtensionMagics\", \"save\": \"CodeMagics\", \"tb\": \"ExecutionMagics\", \"store\": \"StoreMagics\", \"more\": \"KernelMagics\", \"profile\": \"BasicMagics\", \"doctest_mode\": \"KernelMagics\", \"pylab\": \"PylabMagics\", \"run\": \"ExecutionMagics\", \"reset_selective\": \"NamespaceMagics\", \"pfile\": \"NamespaceMagics\", \"pinfo2\": \"NamespaceMagics\", \"pdef\": \"NamespaceMagics\", \"killbgscripts\": \"ScriptMagics\", \"who\": \"NamespaceMagics\", \"precision\": \"BasicMagics\", \"matplotlib\": \"PylabMagics\", \"quickref\": \"BasicMagics\", \"pinfo\": \"NamespaceMagics\", \"pwd\": \"OSMagics\", \"psearch\": \"NamespaceMagics\", \"autosave\": \"KernelMagics\", \"less\": \"KernelMagics\", \"sc\": \"OSMagics\", \"automagic\": \"AutoMagics\", \"reset\": \"NamespaceMagics\", \"sx\": \"OSMagics\", \"magic\": \"BasicMagics\", \"dhist\": \"OSMagics\", \"timeit\": \"ExecutionMagics\", \"edit\": \"KernelMagics\", \"logstop\": \"LoggingMagics\", \"gui\": \"BasicMagics\", \"xdel\": \"NamespaceMagics\", \"xmode\": \"BasicMagics\", \"notebook\": \"BasicMagics\", \"pdb\": \"ExecutionMagics\", \"recall\": \"HistoryMagics\", \"unalias\": \"OSMagics\", \"unload_ext\": \"ExtensionMagics\", \"alias_magic\": \"BasicMagics\", \"reload_ext\": \"ExtensionMagics\", \"man\": \"KernelMagics\", \"rerun\": \"HistoryMagics\", \"debug\": \"ExecutionMagics\", \"logon\": \"LoggingMagics\", \"page\": \"BasicMagics\", \"pdoc\": \"NamespaceMagics\", \"history\": \"HistoryMagics\"}}"
       ],
       "metadata": {},
       "output_type": "pyout",
       "prompt_number": 46,
       "text": [
        "Available line magics:\n",
        "%alias  %alias_magic  %autocall  %automagic  %autosave  %bookmark  %cd  %clear  %colors  %config  %connect_info  %debug  %dhist  %dirs  %doctest_mode  %ed  %edit  %env  %gui  %hist  %history  %install_default_config  %install_ext  %install_profiles  %killbgscripts  %less  %load  %load_ext  %loadpy  %logoff  %logon  %logstart  %logstate  %logstop  %lsmagic  %macro  %magic  %man  %matplotlib  %more  %notebook  %page  %pastebin  %pdb  %pdef  %pdoc  %pfile  %pinfo  %pinfo2  %popd  %pprint  %precision  %profile  %prun  %psearch  %psource  %pushd  %pwd  %pycat  %pylab  %qtconsole  %quickref  %recall  %rehashx  %reload_ext  %rep  %rerun  %reset  %reset_selective  %run  %save  %sc  %store  %sx  %system  %tb  %time  %timeit  %unalias  %unload_ext  %who  %who_ls  %whos  %xdel  %xmode\n",
        "\n",
        "Available cell magics:\n",
        "%%!  %%HTML  %%SVG  %%bash  %%capture  %%debug  %%file  %%html  %%javascript  %%latex  %%perl  %%prun  %%pypy  %%python  %%python3  %%ruby  %%script  %%sh  %%svg  %%sx  %%system  %%time  %%timeit  %%writefile\n",
        "\n",
        "Automagic is ON, % prefix IS NOT needed for line magics."
       ]
      }
     ],
     "prompt_number": 46
    },
    {
     "cell_type": "markdown",
     "metadata": {
      "slideshow": {
       "slide_type": "fragment"
      }
     },
     "source": [
      "<!-- Sigil for slide mode, remove later once we fix transitions limitation -->"
     ]
    },
    {
     "cell_type": "heading",
     "level": 2,
     "metadata": {
      "slideshow": {
       "slide_type": "slide"
      }
     },
     "source": [
      "Running normal Python code: execution and errors"
     ]
    },
    {
     "cell_type": "markdown",
     "metadata": {
      "slideshow": {
       "slide_type": "fragment"
      }
     },
     "source": [
      "Not only can you input normal Python code, you can even paste straight from a Python or IPython shell session:"
     ]
    },
    {
     "cell_type": "code",
     "collapsed": false,
     "input": [
      ">>> # Fibonacci series:\n",
      "... # the sum of two elements defines the next\n",
      "... a, b = 0, 1\n",
      ">>> while b < 10:\n",
      "...     print b\n",
      "...     a, b = b, a+b"
     ],
     "language": "python",
     "metadata": {
      "slideshow": {
       "slide_type": "fragment"
      }
     },
     "outputs": [
      {
       "output_type": "stream",
       "stream": "stdout",
       "text": [
        "1\n",
        "1\n",
        "2\n",
        "3\n",
        "5\n",
        "8\n"
       ]
      }
     ],
     "prompt_number": 49
    },
    {
     "cell_type": "code",
     "collapsed": false,
     "input": [
      "In [1]: for i in range(10):\n",
      "   ...:     print i,\n",
      "   ...:     "
     ],
     "language": "python",
     "metadata": {
      "slideshow": {
       "slide_type": "fragment"
      }
     },
     "outputs": [
      {
       "output_type": "stream",
       "stream": "stdout",
       "text": [
        "0 1 2 3 4 5 6 7 8 9\n"
       ]
      }
     ],
     "prompt_number": 50
    },
    {
     "cell_type": "markdown",
     "metadata": {
      "slideshow": {
       "slide_type": "fragment"
      }
     },
     "source": [
      "<!-- Sigil for slide mode, remove later once we fix transitions limitation -->"
     ]
    },
    {
     "cell_type": "markdown",
     "metadata": {
      "slideshow": {
       "slide_type": "slide"
      }
     },
     "source": [
      "## Error display\n",
      "And when your code produces errors, you can control how they are displayed with the `%xmode` magic:"
     ]
    },
    {
     "cell_type": "code",
     "collapsed": false,
     "input": [
      "%%file mod.py\n",
      "\n",
      "def f(x):\n",
      "    return 1.0/(x-1)\n",
      "\n",
      "def g(y):\n",
      "    return f(y+1)"
     ],
     "language": "python",
     "metadata": {
      "slideshow": {
       "slide_type": "fragment"
      }
     },
     "outputs": [
      {
       "output_type": "stream",
       "stream": "stdout",
       "text": [
        "Overwriting mod.py\n"
       ]
      }
     ],
     "prompt_number": 51
    },
    {
     "cell_type": "markdown",
     "metadata": {
      "slideshow": {
       "slide_type": "fragment"
      }
     },
     "source": [
      "Now let's call the function `g` with an argument that would produce an error:"
     ]
    },
    {
     "cell_type": "code",
     "collapsed": false,
     "input": [
      "import mod\n",
      "mod.g(0)"
     ],
     "language": "python",
     "metadata": {
      "slideshow": {
       "slide_type": "fragment"
      }
     },
     "outputs": [
      {
       "ename": "ZeroDivisionError",
       "evalue": "float division by zero",
       "output_type": "pyerr",
       "traceback": [
        "\u001b[1;31m---------------------------------------------------------------------------\u001b[0m\n\u001b[1;31mZeroDivisionError\u001b[0m                         Traceback (most recent call last)",
        "\u001b[1;32m<ipython-input-52-a54c5799f57e>\u001b[0m in \u001b[0;36m<module>\u001b[1;34m()\u001b[0m\n\u001b[0;32m      1\u001b[0m \u001b[1;32mimport\u001b[0m \u001b[0mmod\u001b[0m\u001b[1;33m\u001b[0m\u001b[0m\n\u001b[1;32m----> 2\u001b[1;33m \u001b[0mmod\u001b[0m\u001b[1;33m.\u001b[0m\u001b[0mg\u001b[0m\u001b[1;33m(\u001b[0m\u001b[1;36m0\u001b[0m\u001b[1;33m)\u001b[0m\u001b[1;33m\u001b[0m\u001b[0m\n\u001b[0m",
        "\u001b[1;32m/home/fperez/teach/ucb-bootcamp/Lectures/04_IPythonNotebookIntroduction/mod.py\u001b[0m in \u001b[0;36mg\u001b[1;34m(y)\u001b[0m\n\u001b[0;32m      4\u001b[0m \u001b[1;33m\u001b[0m\u001b[0m\n\u001b[0;32m      5\u001b[0m \u001b[1;32mdef\u001b[0m \u001b[0mg\u001b[0m\u001b[1;33m(\u001b[0m\u001b[0my\u001b[0m\u001b[1;33m)\u001b[0m\u001b[1;33m:\u001b[0m\u001b[1;33m\u001b[0m\u001b[0m\n\u001b[1;32m----> 6\u001b[1;33m     \u001b[1;32mreturn\u001b[0m \u001b[0mf\u001b[0m\u001b[1;33m(\u001b[0m\u001b[0my\u001b[0m\u001b[1;33m+\u001b[0m\u001b[1;36m1\u001b[0m\u001b[1;33m)\u001b[0m\u001b[1;33m\u001b[0m\u001b[0m\n\u001b[0m",
        "\u001b[1;32m/home/fperez/teach/ucb-bootcamp/Lectures/04_IPythonNotebookIntroduction/mod.py\u001b[0m in \u001b[0;36mf\u001b[1;34m(x)\u001b[0m\n\u001b[0;32m      1\u001b[0m \u001b[1;33m\u001b[0m\u001b[0m\n\u001b[0;32m      2\u001b[0m \u001b[1;32mdef\u001b[0m \u001b[0mf\u001b[0m\u001b[1;33m(\u001b[0m\u001b[0mx\u001b[0m\u001b[1;33m)\u001b[0m\u001b[1;33m:\u001b[0m\u001b[1;33m\u001b[0m\u001b[0m\n\u001b[1;32m----> 3\u001b[1;33m     \u001b[1;32mreturn\u001b[0m \u001b[1;36m1.0\u001b[0m\u001b[1;33m/\u001b[0m\u001b[1;33m(\u001b[0m\u001b[0mx\u001b[0m\u001b[1;33m-\u001b[0m\u001b[1;36m1\u001b[0m\u001b[1;33m)\u001b[0m\u001b[1;33m\u001b[0m\u001b[0m\n\u001b[0m\u001b[0;32m      4\u001b[0m \u001b[1;33m\u001b[0m\u001b[0m\n\u001b[0;32m      5\u001b[0m \u001b[1;32mdef\u001b[0m \u001b[0mg\u001b[0m\u001b[1;33m(\u001b[0m\u001b[0my\u001b[0m\u001b[1;33m)\u001b[0m\u001b[1;33m:\u001b[0m\u001b[1;33m\u001b[0m\u001b[0m\n",
        "\u001b[1;31mZeroDivisionError\u001b[0m: float division by zero"
       ]
      }
     ],
     "prompt_number": 52
    },
    {
     "cell_type": "markdown",
     "metadata": {
      "slideshow": {
       "slide_type": "fragment"
      }
     },
     "source": [
      "<!-- Sigil for slide mode, remove later once we fix transitions limitation -->"
     ]
    },
    {
     "cell_type": "markdown",
     "metadata": {
      "slideshow": {
       "slide_type": "slide"
      }
     },
     "source": [
      "## Plain exceptions"
     ]
    },
    {
     "cell_type": "code",
     "collapsed": false,
     "input": [
      "%xmode plain\n",
      "mod.g(0)"
     ],
     "language": "python",
     "metadata": {
      "slideshow": {
       "slide_type": "fragment"
      }
     },
     "outputs": []
    },
    {
     "cell_type": "code",
     "collapsed": false,
     "input": [],
     "language": "python",
     "metadata": {
      "slideshow": {
       "slide_type": "fragment"
      }
     },
     "outputs": []
    },
    {
     "cell_type": "markdown",
     "metadata": {
      "slideshow": {
       "slide_type": "slide"
      }
     },
     "source": [
      "## Verbose exceptions"
     ]
    },
    {
     "cell_type": "code",
     "collapsed": false,
     "input": [
      "%xmode verbose\n",
      "mod.g(0)"
     ],
     "language": "python",
     "metadata": {
      "slideshow": {
       "slide_type": "fragment"
      }
     },
     "outputs": []
    },
    {
     "cell_type": "markdown",
     "metadata": {
      "slideshow": {
       "slide_type": "fragment"
      }
     },
     "source": [
      "The default `%xmode` is \"context\", which shows additional context but not all local variables.  Let's restore that one for the rest of our session."
     ]
    },
    {
     "cell_type": "code",
     "collapsed": false,
     "input": [
      "%xmode context"
     ],
     "language": "python",
     "metadata": {
      "slideshow": {
       "slide_type": "fragment"
      }
     },
     "outputs": []
    },
    {
     "cell_type": "markdown",
     "metadata": {
      "slideshow": {
       "slide_type": "fragment"
      }
     },
     "source": [
      "<!-- Sigil for slide mode, remove later once we fix transitions limitation -->"
     ]
    },
    {
     "cell_type": "heading",
     "level": 2,
     "metadata": {
      "slideshow": {
       "slide_type": "slide"
      }
     },
     "source": [
      "Raw Input in the notebook"
     ]
    },
    {
     "cell_type": "markdown",
     "metadata": {
      "slideshow": {
       "slide_type": "fragment"
      }
     },
     "source": [
      "Since 1.0 the IPython notebook web application support `raw_input` which for example allow us to invoke the `%debug` magic in the notebook:"
     ]
    },
    {
     "cell_type": "markdown",
     "metadata": {
      "slideshow": {
       "slide_type": "fragment"
      }
     },
     "source": [
      "<!-- Sigil for slide mode, remove later once we fix transitions limitation -->"
     ]
    },
    {
     "cell_type": "code",
     "collapsed": false,
     "input": [
      "mod.g(0)"
     ],
     "language": "python",
     "metadata": {
      "slideshow": {
       "slide_type": "fragment"
      }
     },
     "outputs": []
    },
    {
     "cell_type": "code",
     "collapsed": false,
     "input": [
      "%debug"
     ],
     "language": "python",
     "metadata": {
      "slideshow": {
       "slide_type": "fragment"
      }
     },
     "outputs": []
    },
    {
     "cell_type": "markdown",
     "metadata": {
      "slideshow": {
       "slide_type": "fragment"
      }
     },
     "source": [
      "Don't foget to exit your debugging session. Raw input can of course be use to ask for user input:"
     ]
    },
    {
     "cell_type": "code",
     "collapsed": false,
     "input": [
      "enjoy = raw_input('Are you enjoying this tutorial ?')\n",
      "print 'enjoy is :', enjoy"
     ],
     "language": "python",
     "metadata": {
      "slideshow": {
       "slide_type": "fragment"
      }
     },
     "outputs": []
    },
    {
     "cell_type": "markdown",
     "metadata": {
      "slideshow": {
       "slide_type": "fragment"
      }
     },
     "source": [
      "<!-- Sigil for slide mode, remove later once we fix transitions limitation -->"
     ]
    },
    {
     "cell_type": "heading",
     "level": 2,
     "metadata": {
      "slideshow": {
       "slide_type": "slide"
      }
     },
     "source": [
      "Plotting in the notebook"
     ]
    },
    {
     "cell_type": "markdown",
     "metadata": {
      "slideshow": {
       "slide_type": "fragment"
      }
     },
     "source": [
      "This imports numpy as `np` and matplotlib's plotting routines as `plt`, plus setting lots of other stuff for you to work interactivel very easily:"
     ]
    },
    {
     "cell_type": "code",
     "collapsed": false,
     "input": [
      "%pylab inline"
     ],
     "language": "python",
     "metadata": {
      "slideshow": {
       "slide_type": "fragment"
      }
     },
     "outputs": []
    },
    {
     "cell_type": "code",
     "collapsed": false,
     "input": [
      "import numpy as np\n",
      "import matplotlib.pyplot as plt\n",
      "from matplotlib.pyplot import gcf"
     ],
     "language": "python",
     "metadata": {
      "slideshow": {
       "slide_type": "fragment"
      }
     },
     "outputs": []
    },
    {
     "cell_type": "code",
     "collapsed": false,
     "input": [
      "x = np.linspace(0, 2*np.pi, 300)\n",
      "y = np.sin(x**2)\n",
      "plt.plot(x, y)\n",
      "plt.title(\"A little chirp\")\n",
      "f = gcf()  # let's keep the figure object around for later..."
     ],
     "language": "python",
     "metadata": {
      "slideshow": {
       "slide_type": "fragment"
      }
     },
     "outputs": []
    },
    {
     "cell_type": "markdown",
     "metadata": {
      "slideshow": {
       "slide_type": "fragment"
      }
     },
     "source": [
      "<!-- Sigil for slide mode, remove later once we fix transitions limitation -->"
     ]
    },
    {
     "cell_type": "heading",
     "level": 2,
     "metadata": {
      "slideshow": {
       "slide_type": "slide"
      }
     },
     "source": [
      "The IPython kernel/client model"
     ]
    },
    {
     "cell_type": "code",
     "collapsed": false,
     "input": [
      "%connect_info"
     ],
     "language": "python",
     "metadata": {
      "slideshow": {
       "slide_type": "fragment"
      }
     },
     "outputs": []
    },
    {
     "cell_type": "code",
     "collapsed": false,
     "input": [
      "%qtconsole"
     ],
     "language": "python",
     "metadata": {
      "slideshow": {
       "slide_type": "fragment"
      }
     },
     "outputs": []
    },
    {
     "cell_type": "markdown",
     "metadata": {
      "slideshow": {
       "slide_type": "fragment"
      }
     },
     "source": [
      "# That's all folks!\n",
      "<p class=\"gap3\"></p>"
     ]
    },
    {
     "cell_type": "code",
     "collapsed": false,
     "input": [
      "%run talktools.py"
     ],
     "language": "python",
     "metadata": {
      "slideshow": {
       "slide_type": "fragment"
      }
     },
     "outputs": [
      {
       "html": [
        "<style>\n",
        "\n",
        ".rendered_html\n",
        "{\n",
        "  color: #2C5494;\n",
        "  /*font-family: Ubuntu; */\n",
        "  font-size: 140%;\n",
        "  line-height: 1.1;\n",
        "  margin: 0.5em 0;\n",
        "  }\n",
        "\n",
        ".title\n",
        "{\n",
        "  color: #498AF3;\n",
        "  font-size: 250%;\n",
        "  font-weight:bold;\n",
        "  line-height: 1.2; \n",
        "  margin: 10px 50px 10px;\n",
        "  }\n",
        "\n",
        ".subtitle\n",
        "{\n",
        "  color: #386BBC;\n",
        "  font-size: 180%;\n",
        "  font-weight:bold;\n",
        "  line-height: 1.2; \n",
        "  margin: 20px 50px 20px;\n",
        "  }\n",
        "\n",
        ".slide-header, p.slide-header\n",
        "{\n",
        "  color: #498AF3;\n",
        "  font-size: 200%;\n",
        "  font-weight:bold;\n",
        "  margin: 0px 20px 10px;\n",
        "  page-break-before: always;\n",
        "  text-align: center;\n",
        "  }\n",
        "\n",
        ".rendered_html h1\n",
        "{\n",
        "  color: #498AF3;\n",
        "  line-height: 1.2; \n",
        "  margin: 0.15em 0em 0.5em;\n",
        "  page-break-before: always;\n",
        "  text-align: center;\n",
        "  }\n",
        "\n",
        "\n",
        ".rendered_html h2\n",
        "{ \n",
        "  color: #386BBC;\n",
        "  line-height: 1.2;\n",
        "  margin: 1.1em 0em 0.5em;\n",
        "  }\n",
        "\n",
        ".rendered_html h3\n",
        "{ \n",
        "  font-size: 100%;\n",
        "  line-height: 1.2;\n",
        "  margin: 1.1em 0em 0.5em;\n",
        "  }\n",
        "\n",
        ".rendered_html li\n",
        "{\n",
        "  line-height: 1.8;\n",
        "  }\n",
        "\n",
        ".input_prompt, .CodeMirror-lines, .output_area\n",
        "{\n",
        "  font-family: Consolas;\n",
        "  font-size: 120%;\n",
        "  }\n",
        "\n",
        ".gap-above\n",
        "{\n",
        "  padding-top: 200px;\n",
        "  }\n",
        "\n",
        ".gap01\n",
        "{\n",
        "  padding-top: 10px;\n",
        "  }\n",
        "\n",
        ".gap05\n",
        "{\n",
        "  padding-top: 50px;\n",
        "  }\n",
        "\n",
        ".gap1\n",
        "{\n",
        "  padding-top: 100px;\n",
        "  }\n",
        "\n",
        ".gap2\n",
        "{\n",
        "  padding-top: 200px;\n",
        "  }\n",
        "\n",
        ".gap3\n",
        "{\n",
        "  padding-top: 300px;\n",
        "  }\n",
        "\n",
        ".emph\n",
        "{\n",
        "  color: #386BBC;\n",
        "  }\n",
        "\n",
        ".warn\n",
        "{\n",
        "  color: red;\n",
        "  }\n",
        "\n",
        ".center\n",
        "{\n",
        "  text-align: center;\n",
        "  }\n",
        "\n",
        ".nb_link\n",
        "{\n",
        "    padding-bottom: 0.5em;\n",
        "}\n",
        "\n",
        "</style>\n"
       ],
       "metadata": {},
       "output_type": "display_data",
       "text": [
        "<IPython.core.display.HTML at 0x1f74910>"
       ]
      }
     ],
     "prompt_number": 16
    },
    {
     "cell_type": "code",
     "collapsed": false,
     "input": [],
     "language": "python",
     "metadata": {},
     "outputs": []
    }
   ],
   "metadata": {}
  }
 ]
}