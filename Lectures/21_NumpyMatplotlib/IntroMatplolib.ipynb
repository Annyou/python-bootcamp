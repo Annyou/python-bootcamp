{
 "cells": [
  {
   "cell_type": "markdown",
   "metadata": {},
   "source": [
    "# Intro to plotting with matplotlib\n",
    "\n",
    "Clarice Aiello - but heavily adapted from **Chris Holdgraf**! \n",
    "\n",
    "(Chris acknowledges: Christopher Klein, Justin Kitzes, Ariel Rokem, Paul Ivanov)\n",
    "\n",
    "(Clarice acknowledges: Chris Holdgraf, Boerge Hemmerling)"
   ]
  },
  {
   "cell_type": "markdown",
   "metadata": {},
   "source": [
    "## What's the goal of this lecture?\n",
    "\n",
    "Before we dive in to plotting with python, we should note that the matplotlib library is very complex, and will take you a long time to learn in its entirety (we're still doing this ourselves). \n",
    "\n",
    "This lecture is meant to be a taste of the syntax that we generally use when plotting in python (and which we use in python in general). It is also meant to be a brief showing of what matplotlib can do. At the end, we also have some useful links to other plotting libraries that are fancier, but usually more high-level, than matplotlib.\n",
    "\n",
    "At the end of this lecture, you will be able to plot data in a customized way, using common plot types such as error plots, log plots, and even multidimensional plots and movies. "
   ]
  },
  {
   "cell_type": "markdown",
   "metadata": {},
   "source": [
    "## Getting Started"
   ]
  },
  {
   "cell_type": "markdown",
   "metadata": {},
   "source": [
    "### What is matplotlib?\n",
    "\n",
    "Matplotlib is the most popular and mature library for plotting data using\n",
    "Python. It has all of the functionality you would expect, including the ability to control\n",
    "the formatting of plots and figures at a very fine level.\n",
    "\n",
    "The official matplotlib documentation is at http://matplotlib.org/  \n",
    "The matplotlib gallery is at http://matplotlib.org/gallery.html"
   ]
  },
  {
   "cell_type": "code",
   "execution_count": null,
   "metadata": {
    "collapsed": false
   },
   "outputs": [],
   "source": [
    "# Importing the package\n",
    "# The inline flag means that images will be shown here in the notebooks, rather than in pop-up windows:\n",
    "%pylab inline\n",
    "\n",
    "#%pylab  # This would create floating plots"
   ]
  },
  {
   "cell_type": "code",
   "execution_count": null,
   "metadata": {
    "collapsed": false
   },
   "outputs": [],
   "source": [
    "# Without ipython, you'd need to separately import numpy and any other packages you need:\n",
    "\n",
    "#import matplotlib.pyplot as plt\n",
    "#import numpy as np"
   ]
  },
  {
   "cell_type": "markdown",
   "metadata": {},
   "source": [
    "## Creating Figures\n",
    "\n",
    "There are two major challenges with creating figures. \n",
    "\n",
    "1. Understanding the syntax to actually make the basic plot appear. \n",
    "2. Second is formatting the basic plot to look exactly how you would like it to look. In general, the formatting will probably take you longer..."
   ]
  },
  {
   "cell_type": "code",
   "execution_count": null,
   "metadata": {
    "collapsed": false
   },
   "outputs": [],
   "source": [
    "# First, let's create some data that we can use for the plotting...\n",
    "x = np.linspace(0, 2*np.pi, 75)\n",
    "y1 = np.sin(x)\n",
    "y2 = np.sin(x**2)"
   ]
  },
  {
   "cell_type": "markdown",
   "metadata": {},
   "source": [
    "### Object-oriented vs. function calls\n",
    "Within pyplot (<font color='red'>currently automatically imported as 'plt'</font>), there are two basic ways to go about making\n",
    "plots:\n",
    "\n",
    "* using the Matlab-like clone\n",
    "* using an object-oriented approach.\n",
    "\n",
    "The latter provides better control over plot features, while only requiring slightly more typing.\n",
    "\n",
    "For example, I can create a simple plot using two different methods:"
   ]
  },
  {
   "cell_type": "code",
   "execution_count": null,
   "metadata": {
    "collapsed": false
   },
   "outputs": [],
   "source": [
    "# We can plot this data using a \"matlab-style\" syntax...\n",
    "plt.plot(x, y1, label=\"sin(x)\")\n",
    "plt.legend()\n",
    "plt.xlabel(\"x\")\n",
    "plt.ylabel(\"y\")\n",
    "plt.title('This is a breath-taking sine wave')"
   ]
  },
  {
   "cell_type": "markdown",
   "metadata": {},
   "source": [
    "_Note: in order to change the title, I had to call another function called \"title\".  This assumed that the plot I was referring to was the last one that I created.  But what if I had created multiple plots, and wanted to change an earlier one?_\n",
    "\n",
    "Using the object-oriented approach allows us to be more specific with our commands..."
   ]
  },
  {
   "cell_type": "code",
   "execution_count": null,
   "metadata": {
    "collapsed": false
   },
   "outputs": [],
   "source": [
    "f, ax = plt.subplots()                                    # Manually make a \"figure\" (f) and \"axis\" (ax) objects\n",
    "# We now have access to the \"axis\" object that we created, which lets us do lots of other cool things with it\n",
    "ax.plot(x, y1, label=r'$\\sin(x)$', c='b', marker='o')     # Plot (x,y1) with chosen legend label, color and marker\n",
    "ax.plot(x, y2, 'g--', label=r'$\\sin(x^2)$')               # Plot (x,y2) with chosen legend color, linestyle and label\n",
    "#ax.plot(x, y2, label=r'$\\sin(x^2)$', 'g--')               # This line will generate an error. Do you understand why?\n",
    "ax.legend()                                               # Create a legend for the axis\n",
    "ax.set_title(\"My heart be still, this one's even better\") # COMPARE: in the previous plot, we used plt.title\n",
    "ax.set_xlabel(\"Number of hats owned\")                     # COMPARE: in the previous plot, we used plt.xlabel\n",
    "ax.set_ylabel(\"Coolness factor\") \n",
    "ax.grid()                                                 # Grid will be set to ticks \n",
    "#ax.xaxis.grid()\n",
    "#ax.yaxis.grid()\n",
    "ax.set_xlim([0,6.5]);                                     # Set x limits\n",
    "ax.set_xticks([0,np.pi,2*np.pi])                          # Set x ticks\n",
    "#ax.set_xticklabels(['0', '$\\pi$', '2$\\pi$'],fontsize=20)  # Set x tick labels"
   ]
  },
  {
   "cell_type": "markdown",
   "metadata": {},
   "source": [
    "We'll focus on this \"object-oriented\" plotting method for the rest of the class...\n",
    "\n",
    "**If you need to get the current active axis:** these commands are useful (``matplotlib`` uses them internally a lot):\n",
    "\n",
    "    gcf()  # get current figure\n",
    "    gca()  # get current axis"
   ]
  },
  {
   "cell_type": "markdown",
   "metadata": {},
   "source": [
    "### A first plot\n",
    "\n",
    "In simple matplotlib plotting, there are two concepts to distinguish:\n",
    "\n",
    "- __Figure__ - the entire figure, like what you might see in a journal.  This includes all\n",
    "subplots, axes, lines, labels, etc. The whole encilada. Another way to think about this is like a _canvas_, upon which you will draw all kinds of different things \n",
    "  \n",
    "- __Subplot/Axes__ - one of the sub-sections of the figure, labeled (a), (b), etc. in\n",
    "articles. Each subplot will contain one Axes object, which is the container where all of the\n",
    "useful stuff, such as actual lines, legends, labels, etc., are actually housed."
   ]
  },
  {
   "cell_type": "code",
   "execution_count": null,
   "metadata": {
    "collapsed": false
   },
   "outputs": [],
   "source": [
    "# This function returns one object for the figure\n",
    "# and one for each axes that you create.\n",
    "f, ax = plt.subplots()\n",
    "ax.set_title('Nifty figure 1')\n",
    "\n",
    "# It is equivalent to:\n",
    "f = plt.figure()\n",
    "ax = f.add_subplot(111)   \n",
    "ax.set_title('Nifty figure 2')"
   ]
  },
  {
   "cell_type": "code",
   "execution_count": null,
   "metadata": {
    "collapsed": false
   },
   "outputs": [],
   "source": [
    "# What happens when we add lots of subplots?\n",
    "f = plt.figure()\n",
    "a1 = plt.axes([0, 1, .1, .1])\n",
    "a2 = plt.axes([.4, .6, .3, .3])\n",
    "a3 = plt.axes([.3, .4, .2, .8])"
   ]
  },
  {
   "cell_type": "markdown",
   "metadata": {},
   "source": [
    "Note - This can get a little confusing, so try to just use \"subplots\" or the various matplotlib subplot helpers instead of directly adding axes (until you really have to)."
   ]
  },
  {
   "cell_type": "markdown",
   "metadata": {},
   "source": [
    "### Controlling layouts\n",
    "Here's how to make one figure with two subplots, the second of which contains\n",
    "two lines.  There are many ways to do this, but perhaps the quickest/easiest is to use plt.subplots"
   ]
  },
  {
   "cell_type": "code",
   "execution_count": null,
   "metadata": {
    "collapsed": false
   },
   "outputs": [],
   "source": [
    "# First, create an empty figure with 2 subplots\n",
    "# The arguments (1, 2) indicate 1 row and 2 cols\n",
    "# We are unpacking the two axis objects automatically here\n",
    "fig, (ax1, ax2) = plt.subplots(1, 2)\n",
    "\n",
    "# We could also make this vertical if we wanted:\n",
    "# fig, (ax1, ax2) = plt.subplots(2, 1)\n",
    "\n",
    "# Next, put one line on the first axis and both lines on the second axis\n",
    "# On the second axes, add a legend to distinguish the two lines\n",
    "ax1.plot(x, y1)\n",
    "\n",
    "# Notice that I can assign the output of \"plot\" to a variable.\n",
    "# This is the \"line object\" referring to the line we just drew.\n",
    "l1 = ax2.plot(x, y1, label='sin(x)')  # The labels are what appear in the legend\n",
    "l2 = ax2.plot(x, y2, label='sin(x$^2$)')  # The labels are what appear in the legend\n",
    "ax2.legend()\n",
    "\n",
    "# Finally, save the figure as a png file\n",
    "fig.savefig('myfig.png')"
   ]
  },
  {
   "cell_type": "markdown",
   "metadata": {},
   "source": [
    "And finally, an arbitrarily complex grid can be made with ``subplot2grid``:"
   ]
  },
  {
   "cell_type": "code",
   "execution_count": null,
   "metadata": {
    "collapsed": false
   },
   "outputs": [],
   "source": [
    "# NOTE: You can even make arbitrarily complicated grids with the subplot2grid tool\n",
    "f = plt.figure()\n",
    "\n",
    "# subplot2grid(grid_shape, loc_in_grid, rowspan=1, colspan=1)\n",
    "ax1 = plt.subplot2grid((3,3), (0,0), colspan=3)\n",
    "ax2 = plt.subplot2grid((3,3), (1,0), colspan=2)\n",
    "ax3 = plt.subplot2grid((3,3), (1, 2), rowspan=2)\n",
    "ax4 = plt.subplot2grid((3,3), (2, 0))\n",
    "ax5 = plt.subplot2grid((3,3), (2, 1)) \n",
    "#ax5 = plt.subplot2grid((3,3), (2, 2))                  # This line will screw up the grid layout. Do you see why?\n",
    "\n",
    "# Let's turn off visibility of all tick labels here\n",
    "for ax in f.axes:\n",
    "    for t in ax.get_xticklabels()+ax.get_yticklabels():\n",
    "        t.set_visible(False)\n",
    "        \n",
    "ax1.plot(x, y1)\n",
    "ax2.hist(y1)\n",
    "ax3.scatter(x, y1)\n",
    "ax4.boxplot(y1)\n",
    "ax5.loglog(x, y1)\n",
    "\n",
    "# And add nice titles\n",
    "ax1.set_title('This')\n",
    "ax3.set_title('plot')\n",
    "ax5.set_title('rules!')\n",
    "f.suptitle('Grid layout, yeah!', fontsize=20, y=1.1)  # \n",
    "# Finally, we can space it all out so it's not so cramped\n",
    "plt.tight_layout()"
   ]
  },
  {
   "cell_type": "code",
   "execution_count": null,
   "metadata": {
    "collapsed": true
   },
   "outputs": [],
   "source": [
    "# We can even save a figure as an SVG file\n",
    "f.savefig('./my_great_fig.svg')"
   ]
  },
  {
   "cell_type": "markdown",
   "metadata": {},
   "source": [
    "### Sharing an axis\n",
    "As scientists, we use data a lot, and often this means putting plots side by side for comparison. Matplotlib lets us share an axis between plots so that we don't get confused by the scale.\n",
    "\n",
    "The simplest way to share axes is to use the ``subplots`` function.  More\n",
    "fine-grained control can be obtained by individually adding ``subplot``s and adding\n",
    "\"share\" calls to those, but in most cases the functionality from ``subplots`` is sufficient:"
   ]
  },
  {
   "cell_type": "code",
   "execution_count": null,
   "metadata": {
    "collapsed": true
   },
   "outputs": [],
   "source": [
    "# Simple data to display in various forms\n",
    "x = np.linspace(0, 2*np.pi, 400)\n",
    "y = np.sin(x**2)"
   ]
  },
  {
   "cell_type": "code",
   "execution_count": null,
   "metadata": {
    "collapsed": false
   },
   "outputs": [],
   "source": [
    "# Two subplots, the axes array is 1-d\n",
    "f, axarr = plt.subplots(2, sharex=True, figsize=(10,6))\n",
    "f.suptitle(\"Sharing X axis\", fontsize=22)\n",
    "axarr[0].plot(x, y)\n",
    "axarr[1].plot(x+4, y*0.8)"
   ]
  },
  {
   "cell_type": "code",
   "execution_count": null,
   "metadata": {
    "collapsed": false
   },
   "outputs": [],
   "source": [
    "# We can also share the y-axis\n",
    "f, (ax1, ax2) = plt.subplots(1, 2, sharey=True, figsize=(10,4))\n",
    "f.suptitle(\"Sharing Y axis\", fontsize=22)\n",
    "ax1.plot(x, y)\n",
    "ax2.plot(x+3, y*2)"
   ]
  },
  {
   "cell_type": "code",
   "execution_count": null,
   "metadata": {
    "collapsed": false
   },
   "outputs": [],
   "source": [
    "# For the sake of exhaustive completeness, we can also share both\n",
    "# Three subplots sharing both x/y axes\n",
    "f, (ax1, ax2, ax3) = plt.subplots(3, sharex=True, sharey=True, figsize=(10,6))\n",
    "f.suptitle(\"Sharing both axes\", fontsize=22)\n",
    "\n",
    "ax1.plot(x+1, y)\n",
    "ax2.plot(x, y/2)\n",
    "ax3.plot(x, 2*y**2-1)\n",
    "\n",
    "# Fine-tune figure; make subplots close to each other and hide x ticks for\n",
    "# all but bottom plot.\n",
    "f.subplots_adjust(hspace=0) # wspace is for \"width-space\"\n",
    "\n",
    "# We'll remove some ugly looking ticks\n",
    "for ax in f.axes[:-1]:\n",
    "    plt.setp(ax.get_xticklabels(), visible=False)\n",
    "    \n",
    "# Note that changing the limits of one axis propagates to the others\n",
    "ax1.set_xlim(0,2*np.pi+1)   \n",
    "ax1.set_ylim(-1.25,1.25)  "
   ]
  },
  {
   "cell_type": "markdown",
   "metadata": {},
   "source": [
    "## Customizing a plot's appearance\n",
    "\n",
    "> Everything is an object.  When we created the above plot, we first created a figure object.  This serves as a container for the axis objects, which themselves are containers for the things we draw inside them.  Those things (e.g., lines, tickmarks, and legends) _are themselves_ objects.  This means we should be able to assign them to variables to do all kinds of interesting things.\n",
    "\n",
    "In ``matplotlib``, most properties for linestyles, colors, etc, can be set directly in\n",
    "the call:"
   ]
  },
  {
   "cell_type": "code",
   "execution_count": null,
   "metadata": {
    "collapsed": false
   },
   "outputs": [],
   "source": [
    "f, ax = plt.subplots()\n",
    "ax.plot([1,2,3], linestyle='--', color='r') # when omitted, x-values are automatically set to index array (0 .. N-1)"
   ]
  },
  {
   "cell_type": "markdown",
   "metadata": {},
   "source": [
    "If you know what properties you want to set on a specific object, a\n",
    "plain ``set`` call is typically the simplest form:"
   ]
  },
  {
   "cell_type": "code",
   "execution_count": null,
   "metadata": {
    "collapsed": false
   },
   "outputs": [],
   "source": [
    "line, = plt.plot([1,2,3])\n",
    "line.set(lw=2, c=\"g\", ls=\"-.\")\n",
    "\n",
    "# Or could do this separately:\n",
    "# line.set_linewidth(2)\n",
    "# line.set_color('g')\n",
    "# line.set_linestyle('-.')"
   ]
  },
  {
   "cell_type": "markdown",
   "metadata": {},
   "source": [
    "Let's put all together for the following plot."
   ]
  },
  {
   "cell_type": "code",
   "execution_count": null,
   "metadata": {
    "collapsed": false
   },
   "outputs": [],
   "source": [
    "f, ax = plt.subplots()\n",
    "\n",
    "# Three simple polynomials\n",
    "x = np.linspace(-1, 1, 20)\n",
    "y = [x**k for k in [1,2,3]]               # y is a list of 1D arrays\n",
    "\n",
    "# Plot each with a color following the rainbow (purple -> red), and with different legends\n",
    "from matplotlib.pyplot import cm                                     \n",
    "color=iter(cm.rainbow(np.linspace(0,1,len(y))))\n",
    "labels = [r'linear ($\\alpha$)',r'quadratic ($\\beta$)',r'cubic ($\\gamma$)']\n",
    "\n",
    "for n in range(len(y)):\n",
    "   c=next(color)\n",
    "   ax.plot(x, y[n],c=c,label=labels[n])      # MATLAB users: no need to \"hold on\" plot\n",
    "\n",
    "# Change the style of one line: change its marker style & size, give it some transparency\n",
    "plt.setp(ax.lines[0], marker=\"o\", ms=10, alpha=0.3)\n",
    "\n",
    "# Make all lines drawn so far thicker\n",
    "plt.setp(ax.lines, linewidth=2)\n",
    "\n",
    "# Add a grid and a legend that doesn't overlap the lines\n",
    "ax.grid(True)\n",
    "ax.legend(loc=\"lower right\", numpoints=1, \n",
    "          fancybox=True, borderpad=0.2, handlelength=2, labelspacing=0.1)\n",
    "\n",
    "# Add black horizontal and vertical lines through the origin\n",
    "ax.axhline(0, color=\"black\")\n",
    "ax.axvline(0, color=\"black\")\n",
    "\n",
    "# Set main text elements of the plot\n",
    "ax.set_title(\"Some polynomials\",fontsize=22)\n",
    "ax.set_xlabel(\"$x$\",fontsize=18)\n",
    "ax.set_ylabel(\"p(x)\",fontsize=18)\n",
    "\n",
    "# Add more vertical and horizontal lines\n",
    "ax.axhline(y=.4, xmin=-1.0, xmax=1.0, linewidth=2, color = 'k', ls='-.') \n",
    "ax.axvline(x=0.402, ymin=0.4, ymax = 0.615, linewidth=2, color='y')"
   ]
  },
  {
   "cell_type": "markdown",
   "metadata": {},
   "source": [
    "You can make all kinds of very professional plots in matplotlib, especially if you use some helper libraries such as pandas or seaborn."
   ]
  },
  {
   "cell_type": "markdown",
   "metadata": {},
   "source": [
    "# Common plot types"
   ]
  },
  {
   "cell_type": "markdown",
   "metadata": {},
   "source": [
    "## Error plots"
   ]
  },
  {
   "cell_type": "code",
   "execution_count": null,
   "metadata": {
    "collapsed": false
   },
   "outputs": [],
   "source": [
    "# example data\n",
    "x = np.linspace(0, 4, 8) + np.random.normal(0.0, 0.05, 8) # Throw in some random jitter\n",
    "y = np.exp(-x) + np.random.normal(0.0, 0.05, 8) + 1\n",
    "\n",
    "# example variable error bar values\n",
    "yerr = abs(np.random.normal(0.3, 0.075, y.size))\n",
    "xerr = abs(np.random.normal(0.2, 0.05, x.size))\n",
    "\n",
    "# Not using the object-oriented approach, we can plot:\n",
    "plt.figure()\n",
    "plt.errorbar(x, y, xerr, yerr, marker=\"D\", ms=8, ls=\"\")\n",
    "#plt.errorbar(x, y, xerr, marker=\"D\", ms=8, ls=\"\")         # Is this line plotting the error in x?\n",
    "#plt.errorbar(x, y, yerr, marker=\"D\", ms=8, ls=\"\")        # Single argument for the error = error in y!\n",
    "#plt.errorbar(x, y, xerr = xerr, marker=\"D\", ms=8, ls=\"\")\n",
    "plt.axis([-0.5,4.5,0.75,2.25]) # force plot bounds\n",
    "plt.title(\"Errorbar Plot with Variable Errors\")"
   ]
  },
  {
   "cell_type": "markdown",
   "metadata": {},
   "source": [
    "## Logarithmic plots"
   ]
  },
  {
   "cell_type": "code",
   "execution_count": null,
   "metadata": {
    "collapsed": false
   },
   "outputs": [],
   "source": [
    "x = np.linspace(-5, 5, 100)\n",
    "y = np.exp(-x**2)\n",
    "yerr = np.linspace(1e-10, 1e-6, y.size)              # Add some error to the y values\n",
    "\n",
    "f, (ax1, ax2, ax3) = plt.subplots(1, 3, figsize=(12,4))\n",
    "ax1.plot(x, y)\n",
    "ax1.set_title('No log yet')\n",
    "ax1.set_xlim(-5,5)\n",
    "ax1.set_ylim(-.05,1.05)\n",
    "\n",
    "ax2.semilogy(x, y)\n",
    "ax2.set_title('Log in y')\n",
    "ax2.set_yticks([1e-10, 1e-8, 1e-6, 1e-4, 1e-2, 1e-0]) # Set ticks manually to reduce crowding\n",
    "ax2.set_xlim(-5,5)\n",
    "ax2.set_ylim(0,10)\n",
    "ax2.errorbar(x, y, yerr=yerr)\n",
    "#ax2.set_yscale('log')                               # Will the errorbar display correctly with this line commented?\n",
    "\n",
    "ax3.loglog(x, y)                                     # Note that negative values cannot be plotted\n",
    "ax3.set_yticks([1e-10, 1e-8, 1e-6, 1e-4, 1e-2, 1e-0])\n",
    "ax3.set_xlim(-5,5)\n",
    "ax3.set_ylim(0,10)\n",
    "ax3.set_title('Log in y and x')\n",
    "ax3.grid(which='major', linestyle='-', color='r')\n",
    "ax3.grid(which='minor', color='g', linestyle='--')"
   ]
  },
  {
   "cell_type": "markdown",
   "metadata": {},
   "source": [
    "## Bar plots"
   ]
  },
  {
   "cell_type": "code",
   "execution_count": null,
   "metadata": {
    "collapsed": false
   },
   "outputs": [],
   "source": [
    "# a bar plot with errorbars\n",
    "menMeans =   (20, 35, 30, 31, 27)\n",
    "menStd =     (2, 3, 4, 1, 2)\n",
    "womenMeans = (25, 32, 34, 21, 29)\n",
    "womenStd =   (3, 5, 2, 3, 3)\n",
    "\n",
    "ind = np.arange(len(menMeans))  # the x locations for the groups\n",
    "width = 0.35                    # the width of the bars\n",
    "\n",
    "fig = plt.figure(figsize=(10,6))\n",
    "ax = fig.add_subplot(111)\n",
    "rects1 = ax.bar(ind, menMeans, width, color=\"LightSkyBlue\", yerr=menStd, ecolor=\"blue\", capsize=5)\n",
    "rects2 = ax.bar(ind+width, womenMeans, width, color=\"HotPink\", yerr=womenStd, ecolor=\"red\", capsize=5)\n",
    "ax.set_xlim(ind[0]-width/2, ind[-1]+2.5*width) # To make the plot centered nicely\n",
    "\n",
    "# add some customization\n",
    "ax.set_ylabel(\"Scores\")\n",
    "ax.set_title(\"Scores by Group and Gender\")\n",
    "ax.set_xticks(ind+width)\n",
    "ax.set_xticklabels( (\"G1\", \"G2\", \"G3\", \"G4\", \"G5\") )\n",
    "\n",
    "ax.legend( (rects1[0], rects2[0]), (\"Men\", \"Women\"), borderpad=0.2, handlelength=2, labelspacing=0.1 )"
   ]
  },
  {
   "cell_type": "markdown",
   "metadata": {},
   "source": [
    "## Scatterplots"
   ]
  },
  {
   "cell_type": "code",
   "execution_count": null,
   "metadata": {
    "collapsed": false
   },
   "outputs": [],
   "source": [
    "from matplotlib import cm # import the colormappings\n",
    "\n",
    "t = linspace(0.0, 6*np.pi, 70)\n",
    "y = exp(-0.1*t)*np.cos(t)\n",
    "phase = t % 2*np.pi\n",
    "f = plt.figure(figsize=(10,4))\n",
    "ax = f.add_subplot(111)\n",
    "ax.scatter(t, y, marker=\"*\", s=100*abs(y)+20, c=phase, cmap=cm.jet, linewidths=0)\n",
    "ax.set_ylim(-1.1,1.1)\n",
    "ax.set_xlim(t[0]-0.3,t[-1]+0.3)\n",
    "ax.set_xticks(np.pi*linspace(0,6,7))\n",
    "ax.set_xticklabels([r\"$0$\", r\"$\\pi$\", r\"$2\\pi$\",r\"$3\\pi$\",r\"$4\\pi$\",r\"$5\\pi$\",r\"$6\\pi$\"])\n",
    "ax.grid()           # We cover LaTeX string formatting later, but it's this simple\n",
    "ax.axhline(0, color=\"k\")"
   ]
  },
  {
   "cell_type": "markdown",
   "metadata": {},
   "source": [
    "## Histograms"
   ]
  },
  {
   "cell_type": "code",
   "execution_count": null,
   "metadata": {
    "collapsed": false
   },
   "outputs": [],
   "source": [
    "mu, sigma = 100, 15\n",
    "x = mu + sigma * np.random.randn(10000)\n",
    "\n",
    "# the histogram of the data\n",
    "n, bins, patches = plt.hist(x, bins=50, normed=1, facecolor=\"g\", alpha=0.75)\n",
    "# setp(patches[::2], color=\"r\") # Do you remember setp? We can use it here -> X-mas Gaussian\n",
    "plt.xlabel(\"Smarts\")\n",
    "plt.ylabel(\"Probability\")\n",
    "plt.title(\"Histogram of IQ\")\n",
    "plt.text(45, .022, r\"$\\mu=100,\\ \\sigma=15$\", fontsize=18)\n",
    "plt.axis([40, 160, 0, 0.03])"
   ]
  },
  {
   "cell_type": "markdown",
   "metadata": {},
   "source": [
    "## Contour plots"
   ]
  },
  {
   "cell_type": "code",
   "execution_count": null,
   "metadata": {
    "collapsed": false
   },
   "outputs": [],
   "source": [
    "import scipy.stats as stats\n",
    "from matplotlib import cm\n",
    "\n",
    "f, (ax1, ax2) = plt.subplots(1, 2, sharey=True, sharex=True, figsize=(15,6))\n",
    "\n",
    "# Create the x and y data points\n",
    "t = hstack((np.random.normal(-np.pi/2, np.pi/6,  1000), \n",
    "            np.random.normal( np.pi/2, np.pi/6,  1000),\n",
    "            np.random.normal( np.pi*0.7, np.pi/2, 300),\n",
    "            np.random.normal( np.pi*1.3, np.pi/2, 300),\n",
    "            np.random.normal( np.pi,     np.pi/2, 100)))\n",
    "n_points = t.size\n",
    "radial_scaling = np.random.uniform(0.0,1.0, size=n_points)\n",
    "x_data = (16*(np.sin(t))**3) * radial_scaling\n",
    "y_data = (13*np.cos(t) - 5*cos(2*t) - 2*cos(3*t) - cos(4*t)) * radial_scaling**0.5\n",
    "\n",
    "ax1.scatter(x_data, y_data, edgecolor=\"none\", alpha=0.25)\n",
    "ax1.set_xlim(-20, 20)\n",
    "ax1.set_ylim(-20, 15)\n",
    "ax1.set_xticks([])\n",
    "ax1.set_yticks([])\n",
    "\n",
    "# To make the contour plot we need 2D arrays of coordinates \n",
    "# and values (\"heights\" or \"densities\"). Could also just use\n",
    "# a 2D array (like a grayscale image).\n",
    "rvs = np.append(array([x_data]).T, array([y_data]).T, axis=1)\n",
    "kde = stats.kde.gaussian_kde(rvs.T)\n",
    "# Regular grid to evaluate kernal density estimator upon\n",
    "x_flat = np.r_[-20:20:128j]\n",
    "y_flat = np.r_[-20:15:128j]\n",
    "x,y = np.meshgrid(x_flat,y_flat)\n",
    "grid_coords = np.append(x.reshape(-1,1),y.reshape(-1,1),axis=1)\n",
    "# create the smoothed \"image\" of the density\n",
    "z = kde(grid_coords.T)\n",
    "z = z.reshape(128,128)\n",
    "# Create the contour plot, supply x and y to plot with the same axis units\n",
    "ax2.contourf(x, y, z, 7, cmap=cm.jet)"
   ]
  },
  {
   "cell_type": "markdown",
   "metadata": {},
   "source": [
    "## Images and arrays of higher dimension"
   ]
  },
  {
   "cell_type": "markdown",
   "metadata": {},
   "source": [
    "### Plotting images\n",
    "\n",
    "Matplotlib also makes it easy to plot images. For this, you can use the plot method imshow\n",
    "(syntax borrowed from Matlab). Note that this can be useful for looking at data other than images!"
   ]
  },
  {
   "cell_type": "code",
   "execution_count": null,
   "metadata": {
    "collapsed": false
   },
   "outputs": [],
   "source": [
    "f, (ax0, ax1) = plt.subplots(1, 2, figsize=(12, 8))\n",
    "\n",
    "rng = np.random.RandomState(0)\n",
    "img0 = ax0.imshow(rng.normal(size=(5, 10)), interpolation='nearest', cmap='Blues')\n",
    "img1 = ax1.imshow(rng.normal(size=(5, 10)), interpolation='lanczos', cmap='Blues_r') # Reverse cmap with _r\n",
    "\n",
    "# Let's turn off visibility of all tick labels here\n",
    "for ax in f.axes:\n",
    "    for t in ax.get_xticklabels()+ax.get_yticklabels():\n",
    "        t.set_visible(False)\n",
    "\n",
    "# Plot colorbars\n",
    "plt.colorbar(img0, ax=ax0,orientation='horizontal', label='50 shades of blue',ticks=[0,0.6,1.0]) #,shrink=0.9, pad = 0.01)\n",
    "\n",
    "#plt.colorbar(img1, ax=ax1,orientation='vertical')                  # This line will display something ugly\n",
    "# Alternatively to the line above, create an axis \"cax\" on the right side of ax1. \n",
    "# The width of cax will be 5% of ax1 and the padding between cax and ax1 will be fixed at 0.05 inch.\n",
    "from mpl_toolkits.axes_grid1 import make_axes_locatable\n",
    "divider = make_axes_locatable(ax1)\n",
    "cax = divider.append_axes(\"right\", size=\"5%\", pad=0.05)\n",
    "plt.colorbar(img1, cax=cax, orientation='vertical')"
   ]
  },
  {
   "cell_type": "markdown",
   "metadata": {},
   "source": [
    "Matplotlib can easily deal with multidimensional data - for example, an RGB image:"
   ]
  },
  {
   "cell_type": "code",
   "execution_count": null,
   "metadata": {
    "collapsed": false
   },
   "outputs": [],
   "source": [
    "img = plt.imread('dessert.png')\n",
    "img.shape"
   ]
  },
  {
   "cell_type": "code",
   "execution_count": null,
   "metadata": {
    "collapsed": false,
    "scrolled": true
   },
   "outputs": [],
   "source": [
    "plt.imshow(img)"
   ]
  },
  {
   "cell_type": "code",
   "execution_count": null,
   "metadata": {
    "collapsed": false
   },
   "outputs": [],
   "source": [
    "# Plot the different channels\n",
    "fig, axes = plt.subplots(1, 4, figsize=(10,6))\n",
    "\n",
    "axes[0].imshow(img[:,:,0], cmap='Reds')\n",
    "axes[1].imshow(img[:,:,1], cmap='Greens') \n",
    "axes[2].imshow(img[:,:,2], cmap='Blues') \n",
    "axes[3].imshow(img)\n",
    "\n",
    "for a in axes:\n",
    "    a.set_xticklabels([])\n",
    "    a.set_yticklabels([])\n",
    "    \n",
    "# Save as pdf\n",
    "fig.savefig('Delicious3ColorCake.pdf')"
   ]
  },
  {
   "cell_type": "markdown",
   "metadata": {},
   "source": [
    "### 3D plots"
   ]
  },
  {
   "cell_type": "code",
   "execution_count": null,
   "metadata": {
    "collapsed": true
   },
   "outputs": [],
   "source": [
    "# First you've got to import this\n",
    "from mpl_toolkits.mplot3d import Axes3D"
   ]
  },
  {
   "cell_type": "markdown",
   "metadata": {},
   "source": [
    "One this has been done, you can create 3d axes with the ``projection=\"3d\"`` keyword to ``add_subplot``:\n",
    "\n",
    "     fig = plt.figure()\n",
    "\n",
    "     fig.add_subplot(other-args, projection=\"3d\")"
   ]
  },
  {
   "cell_type": "code",
   "execution_count": null,
   "metadata": {
    "collapsed": false
   },
   "outputs": [],
   "source": [
    "from mpl_toolkits.mplot3d.axes3d import Axes3D\n",
    "from matplotlib import cm\n",
    "\n",
    "fig = plt.figure()\n",
    "ax = fig.add_subplot(1, 1, 1, projection=\"3d\")\n",
    "X = np.arange(-5, 5, 0.25)\n",
    "Y = np.arange(-5, 5, 0.25)\n",
    "X, Y = np.meshgrid(X, Y)\n",
    "R = np.sqrt(X**2 + Y**2)\n",
    "Z = np.sin(R)\n",
    "surf = ax.plot_surface(X, Y, Z, rstride=1, cstride=1, cmap=cm.jet,\n",
    "        linewidth=0, antialiased=False)\n",
    "ax.set_zlim3d(-1.01, 1.01)"
   ]
  },
  {
   "cell_type": "markdown",
   "metadata": {},
   "source": [
    "### Movies and animations\n",
    "Finally, you can also make movies and animations. Different methods are available, the below is one of them."
   ]
  },
  {
   "cell_type": "code",
   "execution_count": null,
   "metadata": {
    "collapsed": true
   },
   "outputs": [],
   "source": [
    "# Things that need to be imported\n",
    "from matplotlib import animation, rc\n",
    "from IPython.display import HTML\n",
    "import matplotlib.pylab as plt"
   ]
  },
  {
   "cell_type": "code",
   "execution_count": null,
   "metadata": {
    "collapsed": false
   },
   "outputs": [],
   "source": [
    "# First set up the figure, the axis, and the plot element we want to animate\n",
    "# This cell will plot the initial frame\n",
    "fig = plt.figure()\n",
    "\n",
    "ax = plt.subplot(1,2,1)\n",
    "x = np.arange(-5, 5, 0.1)\n",
    "y = np.arange(-5, 5, 0.1)\n",
    "xx, yy = meshgrid(x, y)\n",
    "\n",
    "z = np.exp(-xx**2/1.0 - yy**2/4.0) * np.sin(xx)\n",
    "img = ax.pcolor(x,y,z)\n",
    "\n",
    "my_line = ax.axvline(x[0])\n",
    "\n",
    "ax1 = plt.subplot(1,2,2)\n",
    "\n",
    "cut_line, = ax1.plot(x, z[:, 0])"
   ]
  },
  {
   "cell_type": "code",
   "execution_count": null,
   "metadata": {
    "collapsed": false
   },
   "outputs": [],
   "source": [
    "# This is the initialization function that plots the background of each frame\n",
    "def init():\n",
    "    cut_line.set_data([], [])\n",
    "    ax1.set_ylim([-1,1])\n",
    "    return (cut_line,)\n",
    "\n",
    "# This is the animation function, which is called sequentially\n",
    "def animate(i):\n",
    "\n",
    "    x = np.arange(-5, 5, 0.1)\n",
    "    y = np.arange(-5, 5, 0.1)\n",
    "    xx, yy = meshgrid(x, y)\n",
    "    z = np.exp(-xx**2/1.0 - yy**2/4.0) * np.sin(xx)\n",
    "    \n",
    "    my_line.set_xdata(x[i])\n",
    "    \n",
    "    cut_line.set_data(x, z[:, i])    \n",
    "    return (cut_line,)\n",
    "\n",
    "# Call the animator. The param blit=True means that only parts that have changed are re-drawn\n",
    "anim = animation.FuncAnimation(fig, \n",
    "                               animate, \n",
    "                               init_func=init,\n",
    "                               frames=len(x), \n",
    "                               interval=100, \n",
    "                               blit=True)\n",
    "     \n",
    "HTML(anim.to_html5_video()) # May get ffmpeg error!\n",
    "                            # (Linux users, see http://www.faqforge.com/linux/how-to-install-ffmpeg-on-ubuntu-14-04/)"
   ]
  },
  {
   "cell_type": "code",
   "execution_count": null,
   "metadata": {
    "collapsed": false
   },
   "outputs": [],
   "source": [
    "# Configure to save\n",
    "Writer = animation.writers['ffmpeg']\n",
    "writer = Writer(fps=15, metadata=dict(artist='Me'), bitrate=1800)\n",
    "# Save video\n",
    "anim.save('GaussianCutVideo.mp4', writer=writer)"
   ]
  },
  {
   "cell_type": "markdown",
   "metadata": {},
   "source": [
    "# Arbitrary text and LaTeX support\n",
    "\n",
    "In ``matplotlib``, text can be added either relative to an individual ``axis`` object\n",
    "or to the whole ``figure``.\n",
    "\n",
    "These commands add text to the Axes:\n",
    "\n",
    "- ``ax.set_title()`` - add a title\n",
    "- ``ax.set_xlabel()`` - add an axis label to the x-axis\n",
    "- ``ax.set_ylabel()`` - add an axis label to the y-axis\n",
    "- ``ax.text()`` - add text at an arbitrary location\n",
    "- ``ax.annotate()`` - add an annotation, with optional arrow\n",
    "\n",
    "And these act on the whole figure:\n",
    "\n",
    "- ``plt.figtext()`` - add text at an arbitrary location\n",
    "- ``fig.suptitle()`` - add a title\n",
    "\n",
    "And any ``text`` field can contain LaTeX expressions for mathematics, as long as\n",
    "they are enclosed in ``$`` signs.\n",
    "\n",
    "Here's how to add text to a plot:"
   ]
  },
  {
   "cell_type": "code",
   "execution_count": null,
   "metadata": {
    "collapsed": false
   },
   "outputs": [],
   "source": [
    "fig = plt.figure(figsize=(8,6))\n",
    "fig.suptitle(\"Bold Figure Suptitle\", fontsize=28, fontweight=\"bold\")\n",
    "\n",
    "ax = fig.add_subplot(111)\n",
    "fig.subplots_adjust(top=0.85)\n",
    "ax.set_title(\"Axes Title\")\n",
    "\n",
    "ax.set_xlabel(\"xlabel\")\n",
    "ax.set_ylabel(\"ylabel\")\n",
    "\n",
    "ax.text(3, 8, \"boxed italics text in data coords\", style=\"italic\", fontsize=18,\n",
    "        bbox={\"facecolor\":\"red\", \"alpha\":0.5, \"pad\":10})\n",
    "\n",
    "ax.text(2, 6, r\"an equation: $E=mc^2$\", fontsize=15)\n",
    "\n",
    "ax.text(3, 2, str(b\"unicode: Institut f\\374r Festk\\366rperphysik\",\n",
    "                      \"latin-1\"), fontsize=18)\n",
    "\n",
    "ax.text(0.95, 0.05, \"colored text in axes coords\",\n",
    "        verticalalignment=\"bottom\", horizontalalignment=\"right\",\n",
    "        transform=ax.transAxes,\n",
    "        color=\"green\", fontsize=22)\n",
    "\n",
    "\n",
    "ax.plot([2], [1], \"o\")\n",
    "ax.annotate(\"Important\\nAnnotation\", xy=(2, 1), xytext=(3, 4), fontsize=14,\n",
    "            arrowprops=dict(facecolor=\"black\", shrink=0.05))\n",
    "\n",
    "ax.axis([0, 10, 0, 10])"
   ]
  },
  {
   "cell_type": "markdown",
   "metadata": {},
   "source": [
    "One can also use LaTeX fonts, provided that you point to where LaTeX is installed in your system. My installation is located in ``/usr/bin``:"
   ]
  },
  {
   "cell_type": "code",
   "execution_count": null,
   "metadata": {
    "collapsed": true
   },
   "outputs": [],
   "source": [
    "import sys\n",
    "sys.path.append(\"/usr/bin\") # Make the latex path accessible to the notebook"
   ]
  },
  {
   "cell_type": "markdown",
   "metadata": {},
   "source": [
    "Now we can choose to use these fonts:"
   ]
  },
  {
   "cell_type": "code",
   "execution_count": null,
   "metadata": {
    "collapsed": true
   },
   "outputs": [],
   "source": [
    "from matplotlib import rc\n",
    "plt.rc('text', usetex=True)\n",
    "plt.rc('font', family='serif')\n",
    "plt.rc('font', serif='Palatino')"
   ]
  },
  {
   "cell_type": "code",
   "execution_count": null,
   "metadata": {
    "collapsed": false
   },
   "outputs": [],
   "source": [
    "x = np.linspace(0, 2*np.pi)\n",
    "y1 = np.sin(x)\n",
    "plt.plot(x, y1, label=r\"$\\sin$(x), $\\alpha$, $\\beta$\")\n",
    "plt.legend()\n",
    "plt.xlabel(\"Index of happiness\", fontsize=18)\n",
    "plt.ylabel(\"Amount of \\n chocolate consumed\", fontsize=18)\n",
    "plt.title('This is a breath-taking sine wave... upgraded to fonts using \\LaTeX !')"
   ]
  },
  {
   "cell_type": "markdown",
   "metadata": {},
   "source": [
    "# Basic event handling (for after-class fun)\n",
    "\n",
    "``matplotlib`` has a built-in, toolkit-independent event model that is fairly rich.\n",
    "If you want to develop full-fledged applications with very complex and fast\n",
    "interactions, you are likely better off choosing a specific Graphical User\n",
    "Interface (GUI) toolkit and using its specific event model.  But for many\n",
    "scientific uses, what ``matplotlib`` offers is more than sufficient, and it has the\n",
    "advantage of working identically regardless of the GUI toolkit you choose to\n",
    "run ``matplotlib`` under.\n",
    "\n",
    "Here we will cover the bare essentials only, for full details you should\n",
    "consult the `event handling section`_ of the matplotlib user guide.\n",
    "\n",
    ".. _event handling section: http://matplotlib.sourceforge.net/users/event_handling.html\n",
    "\n",
    "The basic idea of *all* event handling is always the same: the windowing\n",
    "environment registers an event (mouse movement, click, keyboard press, etc)\n",
    "produced by the user.  In advance, you have registered *event handlers*:\n",
    "functions you define that are meant to be called when specific types of events\n",
    "occur.  The registration action is called *connecting* the event handler, and\n",
    "is performed by the ``mpl_connect`` method of the ``figure`` ``canvas`` attribute (the\n",
    "``canvas`` is the drawing area of the ``figure`` object, the entire raw object where\n",
    "events take place).\n",
    "\n",
    "The windowing system will then pass the event (each event has some relevant\n",
    "information that goes with it, such as which key or button was pressed) to your\n",
    "function, which can act on it.  These functions are referred to as *callbacks*,\n",
    "because they are meant to be \"called back\" not by you, but by the windowing\n",
    "toolkit when the right event goes by.\n",
    "\n",
    "Here is the simplest possible ``matplotlib`` event handler:"
   ]
  },
  {
   "cell_type": "code",
   "execution_count": null,
   "metadata": {
    "collapsed": false
   },
   "outputs": [],
   "source": [
    "%pylab\n",
    "# switch to default backend to plot in interactive windows"
   ]
  },
  {
   "cell_type": "code",
   "execution_count": null,
   "metadata": {
    "collapsed": false
   },
   "outputs": [],
   "source": [
    "fig, ax = plt.subplots()\n",
    "ax.plot(np.random.rand(10))\n",
    "\n",
    "def onclick(event):\n",
    "    print('button=%d, x=%d, y=%d, xdata=%f, ydata=%f'%(\n",
    "        event.button, event.x, event.y, event.xdata, event.ydata))\n",
    "\n",
    "cid = fig.canvas.mpl_connect('button_press_event', onclick)"
   ]
  },
  {
   "cell_type": "markdown",
   "metadata": {},
   "source": [
    "The ``FigureCanvas`` method ``mpl_connect`` returns a connection id which\n",
    "is simply an integer.  When you want to disconnect the callback, just call: ``fig.canvas.mpl_disconnect(cid)``\n",
    "\n",
    "The most commonly used event types are ``KeyEvent`` and ``MouseEvent``, both of\n",
    "which have the following attributes:\n",
    "\n",
    "- ``x`` :- x position - pixels from left of canvas\n",
    "\n",
    "- ``y`` :- y position - pixels from bottom of canvas\n",
    "\n",
    "- ``inaxes`` :- the ``matplotlib.axes.Axes`` instance if mouse is over axes\n",
    "\n",
    "- ``xdata`` :- x coord of mouse in data coords\n",
    "\n",
    "- ``ydata`` :- y coord of mouse in data coords\n",
    "\n",
    "In addition, ``MouseEvent``s have:\n",
    "\n",
    "- ``button`` :- button pressed None, 1, 2, 3, \"up\", \"down\" (up and down are used for scroll events)\n",
    "\n",
    "- ``key`` :- the key pressed: None, any character, \"shift\", \"win\", or \"control\""
   ]
  },
  {
   "cell_type": "markdown",
   "metadata": {},
   "source": [
    "# The matplotlib gallery\n",
    "\n",
    "It can be very intimidating to try to craft exactly the figure that you want, especially if\n",
    "you are used to being able to adjust things visually using a program like Excel.\n",
    "\n",
    "If you get stuck and don't know where to start, or just want to learn more about what\n",
    "matplotlib can do, a great option is to have a look at the matplotlib gallery, which can be\n",
    "found at http://matplotlib.org/gallery.html. A good way to get started is to find a figure\n",
    "here that sort of looks like what you want, copy the code, and modify it for your own needs."
   ]
  },
  {
   "cell_type": "markdown",
   "metadata": {},
   "source": [
    "# Afterword (and extra links)\n",
    "\n",
    "Note that this is only the tip of the iceberg for plotting in python.  We've focused on matplotlib, which is the most common/well-developed plotting platform.  However, many others exist that you might be interested in.  Pandas has a lot of useful plotting features, and separate plotting packages are available for more specific data visualization problems (e.g., plotting on a map).\n",
    "\n",
    "#### Other packages worth looking into:\n",
    "\n",
    "- [Seaborn](http://www.stanford.edu/~mwaskom/software/seaborn/)\n",
    "- [prettyplotlib](http://olgabot.github.io/prettyplotlib/)\n",
    "- [pandas](http://pandas.pydata.org/) (plotting libraries within)\n"
   ]
  }
 ],
 "metadata": {
  "kernelspec": {
   "display_name": "Python 3",
   "language": "python",
   "name": "python3"
  },
  "language_info": {
   "codemirror_mode": {
    "name": "ipython",
    "version": 3
   },
   "file_extension": ".py",
   "mimetype": "text/x-python",
   "name": "python",
   "nbconvert_exporter": "python",
   "pygments_lexer": "ipython3",
   "version": "3.4.3"
  }
 },
 "nbformat": 4,
 "nbformat_minor": 0
}
