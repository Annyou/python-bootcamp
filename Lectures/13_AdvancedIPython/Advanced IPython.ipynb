{
 "metadata": {
  "name": ""
 },
 "nbformat": 3,
 "nbformat_minor": 0,
 "worksheets": [
  {
   "cells": [
    {
     "cell_type": "markdown",
     "metadata": {},
     "source": [
      "# Advanced Ipython session\n",
      "\n",
      "* IPython magics for development\n",
      "* Integration in IPython\n",
      "* Parallelization in IPython\n",
      "\n",
      "![XKCD New Pet](http://imgs.xkcd.com/comics/new_pet.png)\n",
      "\n",
      "Comic: [XKCD: New Pet](http://xkcd.com/413/)\n",
      "\n",
      "## 1. Development goodies\n",
      "\n",
      "### Documentation and source"
     ]
    },
    {
     "cell_type": "code",
     "collapsed": false,
     "input": [
      "%pylab inline"
     ],
     "language": "python",
     "metadata": {},
     "outputs": []
    },
    {
     "cell_type": "code",
     "collapsed": false,
     "input": [
      "plot?"
     ],
     "language": "python",
     "metadata": {},
     "outputs": []
    },
    {
     "cell_type": "code",
     "collapsed": false,
     "input": [
      "%pdoc plot"
     ],
     "language": "python",
     "metadata": {},
     "outputs": []
    },
    {
     "cell_type": "code",
     "collapsed": false,
     "input": [
      "%psource plot"
     ],
     "language": "python",
     "metadata": {},
     "outputs": []
    },
    {
     "cell_type": "markdown",
     "metadata": {},
     "source": [
      "### The IPython kernel/client model"
     ]
    },
    {
     "cell_type": "code",
     "collapsed": false,
     "input": [
      "%connect_info"
     ],
     "language": "python",
     "metadata": {},
     "outputs": []
    },
    {
     "cell_type": "code",
     "collapsed": false,
     "input": [
      "%qtconsole"
     ],
     "language": "python",
     "metadata": {},
     "outputs": []
    },
    {
     "cell_type": "markdown",
     "metadata": {},
     "source": [
      "### Loading from the web\n",
      "\n",
      "Finding useful examples in the [matplotlib gallery](http://matplotlib.org/gallery.html)."
     ]
    },
    {
     "cell_type": "code",
     "collapsed": false,
     "input": [
      "%load http://matplotlib.org/mpl_examples/showcase/xkcd.py"
     ],
     "language": "python",
     "metadata": {},
     "outputs": []
    },
    {
     "cell_type": "markdown",
     "metadata": {},
     "source": [
      "## 2. Integration\n",
      "\n",
      "### R (statistical programming package)"
     ]
    },
    {
     "cell_type": "code",
     "collapsed": false,
     "input": [
      "# Might need to install R and rpy2\n",
      "%load_ext rmagic"
     ],
     "language": "python",
     "metadata": {},
     "outputs": []
    },
    {
     "cell_type": "code",
     "collapsed": false,
     "input": [
      "X = np.arange(100)\n",
      "Y = 200.*X + 100."
     ],
     "language": "python",
     "metadata": {},
     "outputs": []
    },
    {
     "cell_type": "code",
     "collapsed": false,
     "input": [
      "%%R -i X,Y -o XYcoeff\n",
      "XYlm = lm(Y~X)\n",
      "print(summary(XYlm))\n",
      "XYcoeff = coef(XYlm)\n",
      "par(mfrow=c(2,2))\n",
      "plot(XYlm)"
     ],
     "language": "python",
     "metadata": {},
     "outputs": []
    },
    {
     "cell_type": "code",
     "collapsed": false,
     "input": [
      "print XYcoeff"
     ],
     "language": "python",
     "metadata": {},
     "outputs": []
    },
    {
     "cell_type": "markdown",
     "metadata": {},
     "source": [
      "### Octave"
     ]
    },
    {
     "cell_type": "code",
     "collapsed": false,
     "input": [
      "# Might need to install Octave and oct2py\n",
      "%load_ext octavemagic"
     ],
     "language": "python",
     "metadata": {},
     "outputs": []
    },
    {
     "cell_type": "code",
     "collapsed": false,
     "input": [
      "%%octave -s 600,200 -f png\n",
      "\n",
      "subplot(121);\n",
      "[x,y] = meshgrid(0:0.1:3);\n",
      "r = sin(x-0.5).^2 + cos(y-0.5).^2;\n",
      "surf(x,y,r);\n",
      "\n",
      "subplot(122);\n",
      "sombrero()"
     ],
     "language": "python",
     "metadata": {},
     "outputs": []
    },
    {
     "cell_type": "markdown",
     "metadata": {},
     "source": [
      "### Cython (C and Python mashup)"
     ]
    },
    {
     "cell_type": "code",
     "collapsed": false,
     "input": [
      "%load_ext cythonmagic"
     ],
     "language": "python",
     "metadata": {},
     "outputs": []
    },
    {
     "cell_type": "code",
     "collapsed": false,
     "input": [
      "def f(x):\n",
      "    return x**2-x\n",
      "\n",
      "def integrate_f(a, b, N):\n",
      "    s = 0\n",
      "    dx = (b-a)/N\n",
      "    for i in range(N):\n",
      "        s += f(a+i*dx)\n",
      "    return s * dx"
     ],
     "language": "python",
     "metadata": {},
     "outputs": []
    },
    {
     "cell_type": "code",
     "collapsed": false,
     "input": [
      "%%cython\n",
      "\n",
      "cdef double f(double x):\n",
      "    return x**2-x\n",
      "\n",
      "def cyintegrate_f(double a, double b, int N):\n",
      "    cdef int i\n",
      "    cdef double s, dx\n",
      "    s = 0\n",
      "    dx = (b-a)/N\n",
      "    for i in range(N):\n",
      "        s += f(a+i*dx)\n",
      "    return s * dx"
     ],
     "language": "python",
     "metadata": {},
     "outputs": []
    },
    {
     "cell_type": "code",
     "collapsed": false,
     "input": [
      "a, b, N = 0, 2, 10000\n",
      "%timeit integrate_f(a, b, N)\n",
      "%timeit cyintegrate_f(a, b, N)"
     ],
     "language": "python",
     "metadata": {},
     "outputs": []
    },
    {
     "cell_type": "markdown",
     "metadata": {},
     "source": [
      "### Ruby (wuhuu)"
     ]
    },
    {
     "cell_type": "code",
     "collapsed": false,
     "input": [
      "%%ruby\n",
      "s = \"Yo IPython, Ruby's here 4 real!\"\n",
      "s.split(\" \").each do |word| \n",
      "    puts word if word.to_i.to_s == word\n",
      "end"
     ],
     "language": "python",
     "metadata": {},
     "outputs": []
    },
    {
     "cell_type": "markdown",
     "metadata": {},
     "source": [
      "## 3. Parallelization\n",
      "\n",
      "### Parallel client"
     ]
    },
    {
     "cell_type": "code",
     "collapsed": false,
     "input": [
      "from IPython.parallel import Client\n",
      "c = Client()\n",
      "clust = c[:]\n",
      "nnod = len(clust)\n",
      "print clust"
     ],
     "language": "python",
     "metadata": {},
     "outputs": []
    },
    {
     "cell_type": "code",
     "collapsed": false,
     "input": [
      "print clust.apply_sync(lambda : \"Hello, World\")"
     ],
     "language": "python",
     "metadata": {},
     "outputs": []
    },
    {
     "cell_type": "code",
     "collapsed": false,
     "input": [
      "apply_res = clust.apply_async(lambda : \"Hello, World\")\n",
      "print apply_res.get()"
     ],
     "language": "python",
     "metadata": {},
     "outputs": []
    },
    {
     "cell_type": "code",
     "collapsed": false,
     "input": [
      "print clust.map_sync(lambda x: x**2, [1,2,3,4])"
     ],
     "language": "python",
     "metadata": {},
     "outputs": []
    },
    {
     "cell_type": "code",
     "collapsed": false,
     "input": [
      "map_res = clust.map_async(lambda x: x**2, [1,2,3,4])\n",
      "print map_res.get()"
     ],
     "language": "python",
     "metadata": {},
     "outputs": []
    },
    {
     "cell_type": "markdown",
     "metadata": {},
     "source": [
      "### Parallel magic"
     ]
    },
    {
     "cell_type": "code",
     "collapsed": false,
     "input": [
      "%px print \"Hello from independent Engine\""
     ],
     "language": "python",
     "metadata": {},
     "outputs": []
    },
    {
     "cell_type": "code",
     "collapsed": false,
     "input": [
      "%%px\n",
      "%pylab inline\n",
      "\n",
      "import os\n",
      "print \"I am process:\", os.getpid()\n",
      "print"
     ],
     "language": "python",
     "metadata": {},
     "outputs": []
    },
    {
     "cell_type": "markdown",
     "metadata": {},
     "source": [
      "### Pi via simple Monte Carlo\n",
      "\n",
      "![Monte Carlo Pi](http://docs.picloud.com/_images/basic_example_monte.gif)\n"
     ]
    },
    {
     "cell_type": "code",
     "collapsed": false,
     "input": [
      "def sample_circle(n):\n",
      "    import numpy as np\n",
      "    print 'n', n\n",
      "    m = 0\n",
      "    for i in xrange(int(n)):\n",
      "        p = np.random.rand(2)\n",
      "        if sum(p**2.) <= 1.:\n",
      "            m += 1\n",
      "    return m\n",
      "\n",
      "\n",
      "def brute_pi(n):\n",
      "    m = sample_circle(n)\n",
      "    return 4.* m/n\n",
      "\n",
      "\n",
      "def cluster_pi(n):\n",
      "    m = sum(clust.map_sync(sample_circle, nnod*[n/nnod]))\n",
      "    return 4.*m/n\n",
      "\n",
      "\n",
      "def err(npi):\n",
      "    return 100*abs(np.pi-npi)/np.pi"
     ],
     "language": "python",
     "metadata": {},
     "outputs": []
    },
    {
     "cell_type": "markdown",
     "metadata": {},
     "source": [
      "We make the local versions available on all the nodes, so we can compare two approaches"
     ]
    },
    {
     "cell_type": "code",
     "collapsed": false,
     "input": [
      "clust.push(dict(sample_circle=sample_circle, brute_pi=brute_pi));"
     ],
     "language": "python",
     "metadata": {},
     "outputs": []
    },
    {
     "cell_type": "markdown",
     "metadata": {},
     "source": [
      "Now, let's start with a local computation. We pick the total number of samples to take:"
     ]
    },
    {
     "cell_type": "code",
     "collapsed": false,
     "input": [
      "n = 5e5"
     ],
     "language": "python",
     "metadata": {},
     "outputs": []
    },
    {
     "cell_type": "code",
     "collapsed": false,
     "input": [
      "%time bpi = brute_pi(n)\n",
      "print \"\\nError: %.2f%%\" % err(bpi)"
     ],
     "language": "python",
     "metadata": {},
     "outputs": []
    },
    {
     "cell_type": "markdown",
     "metadata": {},
     "source": [
      "Next, let's do it on the cluster cluster by calling the *exact* same code above, but manually adjusting the value of `n` on each node:"
     ]
    },
    {
     "cell_type": "code",
     "collapsed": false,
     "input": [
      "clust['n']= n/nnod"
     ],
     "language": "python",
     "metadata": {},
     "outputs": []
    },
    {
     "cell_type": "code",
     "collapsed": false,
     "input": [
      "%%time\n",
      "%%px\n",
      "%time cpi = brute_pi(n)\n",
      "print"
     ],
     "language": "python",
     "metadata": {},
     "outputs": []
    },
    {
     "cell_type": "markdown",
     "metadata": {},
     "source": [
      "And manually aggregating the results:"
     ]
    },
    {
     "cell_type": "code",
     "collapsed": false,
     "input": [
      "cpi = np.mean(clust['cpi'])\n",
      "print \"Error: %.2f%%\" % err(cpi)"
     ],
     "language": "python",
     "metadata": {},
     "outputs": []
    },
    {
     "cell_type": "markdown",
     "metadata": {},
     "source": [
      "Alternatively, we can call the cluster version locally:"
     ]
    },
    {
     "cell_type": "code",
     "collapsed": false,
     "input": [
      "%%time\n",
      "cpi = cluster_pi(n)\n",
      "print \"Error: %.2f%%\" % err(cpi)"
     ],
     "language": "python",
     "metadata": {},
     "outputs": []
    },
    {
     "cell_type": "markdown",
     "metadata": {},
     "source": [
      "## Using PiCloud"
     ]
    },
    {
     "cell_type": "code",
     "collapsed": false,
     "input": [
      "import cloud # Seriously!!"
     ],
     "language": "python",
     "metadata": {},
     "outputs": []
    },
    {
     "cell_type": "code",
     "collapsed": false,
     "input": [
      "def picloud_pi(n, nnod=50):\n",
      "    jid = cloud.map(sample_circle, nnod*[n/nnod]])\n",
      "    m = sum(cloud.result(jid))\n",
      "    return 4.*m/n\n",
      "\n",
      "%time pcpi = picloud_pi(n)\n",
      "print \"Error: %.2f%%\" % err(pcpi)"
     ],
     "language": "python",
     "metadata": {},
     "outputs": []
    }
   ],
   "metadata": {}
  }
 ]
}