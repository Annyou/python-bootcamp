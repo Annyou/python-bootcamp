{
 "metadata": {
  "name": ""
 },
 "nbformat": 3,
 "nbformat_minor": 0,
 "worksheets": [
  {
   "cells": [
    {
     "cell_type": "heading",
     "level": 1,
     "metadata": {},
     "source": [
      "10 Minutes to Pandas"
     ]
    },
    {
     "cell_type": "markdown",
     "metadata": {},
     "source": [
      "Credit: this is a notebook version of the quick introduction to Pandas from [the official docs](http://pandas.pydata.org/pandas-docs/stable/10min.html).\n",
      "\n",
      "## Pandas: tabular data analysis in Python"
     ]
    },
    {
     "cell_type": "markdown",
     "metadata": {},
     "source": [
      "<center>\n",
      "<a href=\"http://pandas.pydata.org\" target=\"_blank\"> \n",
      "<img src=\"files/pandas-book.jpg\"></a>\n",
      "</center>"
     ]
    },
    {
     "cell_type": "code",
     "collapsed": false,
     "input": [
      "import pandas as pd\n",
      "import numpy as np"
     ],
     "language": "python",
     "metadata": {},
     "outputs": [],
     "prompt_number": 4
    },
    {
     "cell_type": "heading",
     "level": 2,
     "metadata": {},
     "source": [
      "Object creation"
     ]
    },
    {
     "cell_type": "markdown",
     "metadata": {},
     "source": [
      "See the [Data Structure Intro](http://pandas.pydata.org/pandas-docs/stable/dsintro.html#dsintro) section for more details.\n",
      "\n",
      "Creating a Series by passing a list of values, letting pandas create a default integer index"
     ]
    },
    {
     "cell_type": "code",
     "collapsed": false,
     "input": [
      "s = pd.Series([1,3,5,np.nan,6,8])\n",
      "s"
     ],
     "language": "python",
     "metadata": {},
     "outputs": [
      {
       "metadata": {},
       "output_type": "pyout",
       "prompt_number": 5,
       "text": [
        "0     1\n",
        "1     3\n",
        "2     5\n",
        "3   NaN\n",
        "4     6\n",
        "5     8\n",
        "dtype: float64"
       ]
      }
     ],
     "prompt_number": 5
    },
    {
     "cell_type": "markdown",
     "metadata": {},
     "source": [
      "Creating a DataFrame by passing a numpy array, with a datetime index and labeled columns."
     ]
    },
    {
     "cell_type": "code",
     "collapsed": false,
     "input": [
      "dates = pd.date_range('20130101',periods=6)\n",
      "dates"
     ],
     "language": "python",
     "metadata": {},
     "outputs": [
      {
       "metadata": {},
       "output_type": "pyout",
       "prompt_number": 6,
       "text": [
        "<class 'pandas.tseries.index.DatetimeIndex'>\n",
        "[2013-01-01 00:00:00, ..., 2013-01-06 00:00:00]\n",
        "Length: 6, Freq: D, Timezone: None"
       ]
      }
     ],
     "prompt_number": 6
    },
    {
     "cell_type": "code",
     "collapsed": false,
     "input": [
      "df = pd.DataFrame(np.random.randn(6,4),index=dates,columns=list('ABCD'))\n",
      "df"
     ],
     "language": "python",
     "metadata": {},
     "outputs": [
      {
       "html": [
        "<div style=\"max-height:1000px;max-width:1500px;overflow:auto;\">\n",
        "<table border=\"1\" class=\"dataframe\">\n",
        "  <thead>\n",
        "    <tr style=\"text-align: right;\">\n",
        "      <th></th>\n",
        "      <th>A</th>\n",
        "      <th>B</th>\n",
        "      <th>C</th>\n",
        "      <th>D</th>\n",
        "    </tr>\n",
        "  </thead>\n",
        "  <tbody>\n",
        "    <tr>\n",
        "      <th>2013-01-01</th>\n",
        "      <td> 0.821671</td>\n",
        "      <td> 0.441598</td>\n",
        "      <td> 0.894899</td>\n",
        "      <td>-1.106698</td>\n",
        "    </tr>\n",
        "    <tr>\n",
        "      <th>2013-01-02</th>\n",
        "      <td>-0.268020</td>\n",
        "      <td>-0.233809</td>\n",
        "      <td> 2.327900</td>\n",
        "      <td> 0.278153</td>\n",
        "    </tr>\n",
        "    <tr>\n",
        "      <th>2013-01-03</th>\n",
        "      <td>-0.230484</td>\n",
        "      <td>-1.649841</td>\n",
        "      <td>-0.227004</td>\n",
        "      <td> 0.218901</td>\n",
        "    </tr>\n",
        "    <tr>\n",
        "      <th>2013-01-04</th>\n",
        "      <td> 0.724315</td>\n",
        "      <td> 1.691305</td>\n",
        "      <td>-0.365887</td>\n",
        "      <td> 1.800435</td>\n",
        "    </tr>\n",
        "    <tr>\n",
        "      <th>2013-01-05</th>\n",
        "      <td> 1.840393</td>\n",
        "      <td>-0.515446</td>\n",
        "      <td> 0.960475</td>\n",
        "      <td> 0.910646</td>\n",
        "    </tr>\n",
        "    <tr>\n",
        "      <th>2013-01-06</th>\n",
        "      <td> 0.946724</td>\n",
        "      <td> 1.030760</td>\n",
        "      <td> 0.461467</td>\n",
        "      <td> 0.131424</td>\n",
        "    </tr>\n",
        "  </tbody>\n",
        "</table>\n",
        "</div>"
       ],
       "metadata": {},
       "output_type": "pyout",
       "prompt_number": 7,
       "text": [
        "                   A         B         C         D\n",
        "2013-01-01  0.821671  0.441598  0.894899 -1.106698\n",
        "2013-01-02 -0.268020 -0.233809  2.327900  0.278153\n",
        "2013-01-03 -0.230484 -1.649841 -0.227004  0.218901\n",
        "2013-01-04  0.724315  1.691305 -0.365887  1.800435\n",
        "2013-01-05  1.840393 -0.515446  0.960475  0.910646\n",
        "2013-01-06  0.946724  1.030760  0.461467  0.131424"
       ]
      }
     ],
     "prompt_number": 7
    },
    {
     "cell_type": "markdown",
     "metadata": {},
     "source": [
      "Creating a DataFrame by passing a dict of objects that can be converted to series-like."
     ]
    },
    {
     "cell_type": "code",
     "collapsed": false,
     "input": [
      "df2 = pd.DataFrame({ 'A' : 1.,\n",
      "                     'B' : pd.Timestamp('20130102'),\n",
      "                     'C' : pd.Series(1,index=range(4),dtype='float32'),\n",
      "                     'D' : np.array([3] * 4,dtype='int32'),\n",
      "                     'E' : 'foo' })\n",
      "\n",
      "df2"
     ],
     "language": "python",
     "metadata": {},
     "outputs": [
      {
       "html": [
        "<div style=\"max-height:1000px;max-width:1500px;overflow:auto;\">\n",
        "<table border=\"1\" class=\"dataframe\">\n",
        "  <thead>\n",
        "    <tr style=\"text-align: right;\">\n",
        "      <th></th>\n",
        "      <th>A</th>\n",
        "      <th>B</th>\n",
        "      <th>C</th>\n",
        "      <th>D</th>\n",
        "      <th>E</th>\n",
        "    </tr>\n",
        "  </thead>\n",
        "  <tbody>\n",
        "    <tr>\n",
        "      <th>0</th>\n",
        "      <td> 1</td>\n",
        "      <td>2013-01-02 00:00:00</td>\n",
        "      <td> 1</td>\n",
        "      <td> 3</td>\n",
        "      <td> foo</td>\n",
        "    </tr>\n",
        "    <tr>\n",
        "      <th>1</th>\n",
        "      <td> 1</td>\n",
        "      <td>2013-01-02 00:00:00</td>\n",
        "      <td> 1</td>\n",
        "      <td> 3</td>\n",
        "      <td> foo</td>\n",
        "    </tr>\n",
        "    <tr>\n",
        "      <th>2</th>\n",
        "      <td> 1</td>\n",
        "      <td>2013-01-02 00:00:00</td>\n",
        "      <td> 1</td>\n",
        "      <td> 3</td>\n",
        "      <td> foo</td>\n",
        "    </tr>\n",
        "    <tr>\n",
        "      <th>3</th>\n",
        "      <td> 1</td>\n",
        "      <td>2013-01-02 00:00:00</td>\n",
        "      <td> 1</td>\n",
        "      <td> 3</td>\n",
        "      <td> foo</td>\n",
        "    </tr>\n",
        "  </tbody>\n",
        "</table>\n",
        "</div>"
       ],
       "metadata": {},
       "output_type": "pyout",
       "prompt_number": 8,
       "text": [
        "   A                   B  C  D    E\n",
        "0  1 2013-01-02 00:00:00  1  3  foo\n",
        "1  1 2013-01-02 00:00:00  1  3  foo\n",
        "2  1 2013-01-02 00:00:00  1  3  foo\n",
        "3  1 2013-01-02 00:00:00  1  3  foo"
       ]
      }
     ],
     "prompt_number": 8
    },
    {
     "cell_type": "markdown",
     "metadata": {},
     "source": [
      "Having specific dtypes"
     ]
    },
    {
     "cell_type": "code",
     "collapsed": false,
     "input": [
      "df2.dtypes"
     ],
     "language": "python",
     "metadata": {},
     "outputs": [
      {
       "metadata": {},
       "output_type": "pyout",
       "prompt_number": 9,
       "text": [
        "A           float64\n",
        "B    datetime64[ns]\n",
        "C           float32\n",
        "D             int32\n",
        "E            object\n",
        "dtype: object"
       ]
      }
     ],
     "prompt_number": 9
    },
    {
     "cell_type": "heading",
     "level": 2,
     "metadata": {},
     "source": [
      "Viewing Data"
     ]
    },
    {
     "cell_type": "code",
     "collapsed": false,
     "input": [
      "df.head()"
     ],
     "language": "python",
     "metadata": {},
     "outputs": [
      {
       "html": [
        "<div style=\"max-height:1000px;max-width:1500px;overflow:auto;\">\n",
        "<table border=\"1\" class=\"dataframe\">\n",
        "  <thead>\n",
        "    <tr style=\"text-align: right;\">\n",
        "      <th></th>\n",
        "      <th>A</th>\n",
        "      <th>B</th>\n",
        "      <th>C</th>\n",
        "      <th>D</th>\n",
        "    </tr>\n",
        "  </thead>\n",
        "  <tbody>\n",
        "    <tr>\n",
        "      <th>2013-01-01</th>\n",
        "      <td> 0.821671</td>\n",
        "      <td> 0.441598</td>\n",
        "      <td> 0.894899</td>\n",
        "      <td>-1.106698</td>\n",
        "    </tr>\n",
        "    <tr>\n",
        "      <th>2013-01-02</th>\n",
        "      <td>-0.268020</td>\n",
        "      <td>-0.233809</td>\n",
        "      <td> 2.327900</td>\n",
        "      <td> 0.278153</td>\n",
        "    </tr>\n",
        "    <tr>\n",
        "      <th>2013-01-03</th>\n",
        "      <td>-0.230484</td>\n",
        "      <td>-1.649841</td>\n",
        "      <td>-0.227004</td>\n",
        "      <td> 0.218901</td>\n",
        "    </tr>\n",
        "    <tr>\n",
        "      <th>2013-01-04</th>\n",
        "      <td> 0.724315</td>\n",
        "      <td> 1.691305</td>\n",
        "      <td>-0.365887</td>\n",
        "      <td> 1.800435</td>\n",
        "    </tr>\n",
        "    <tr>\n",
        "      <th>2013-01-05</th>\n",
        "      <td> 1.840393</td>\n",
        "      <td>-0.515446</td>\n",
        "      <td> 0.960475</td>\n",
        "      <td> 0.910646</td>\n",
        "    </tr>\n",
        "  </tbody>\n",
        "</table>\n",
        "</div>"
       ],
       "metadata": {},
       "output_type": "pyout",
       "prompt_number": 10,
       "text": [
        "                   A         B         C         D\n",
        "2013-01-01  0.821671  0.441598  0.894899 -1.106698\n",
        "2013-01-02 -0.268020 -0.233809  2.327900  0.278153\n",
        "2013-01-03 -0.230484 -1.649841 -0.227004  0.218901\n",
        "2013-01-04  0.724315  1.691305 -0.365887  1.800435\n",
        "2013-01-05  1.840393 -0.515446  0.960475  0.910646"
       ]
      }
     ],
     "prompt_number": 10
    },
    {
     "cell_type": "code",
     "collapsed": false,
     "input": [
      "df.tail(3)"
     ],
     "language": "python",
     "metadata": {},
     "outputs": [
      {
       "html": [
        "<div style=\"max-height:1000px;max-width:1500px;overflow:auto;\">\n",
        "<table border=\"1\" class=\"dataframe\">\n",
        "  <thead>\n",
        "    <tr style=\"text-align: right;\">\n",
        "      <th></th>\n",
        "      <th>A</th>\n",
        "      <th>B</th>\n",
        "      <th>C</th>\n",
        "      <th>D</th>\n",
        "    </tr>\n",
        "  </thead>\n",
        "  <tbody>\n",
        "    <tr>\n",
        "      <th>2013-01-04</th>\n",
        "      <td> 0.724315</td>\n",
        "      <td> 1.691305</td>\n",
        "      <td>-0.365887</td>\n",
        "      <td> 1.800435</td>\n",
        "    </tr>\n",
        "    <tr>\n",
        "      <th>2013-01-05</th>\n",
        "      <td> 1.840393</td>\n",
        "      <td>-0.515446</td>\n",
        "      <td> 0.960475</td>\n",
        "      <td> 0.910646</td>\n",
        "    </tr>\n",
        "    <tr>\n",
        "      <th>2013-01-06</th>\n",
        "      <td> 0.946724</td>\n",
        "      <td> 1.030760</td>\n",
        "      <td> 0.461467</td>\n",
        "      <td> 0.131424</td>\n",
        "    </tr>\n",
        "  </tbody>\n",
        "</table>\n",
        "</div>"
       ],
       "metadata": {},
       "output_type": "pyout",
       "prompt_number": 11,
       "text": [
        "                   A         B         C         D\n",
        "2013-01-04  0.724315  1.691305 -0.365887  1.800435\n",
        "2013-01-05  1.840393 -0.515446  0.960475  0.910646\n",
        "2013-01-06  0.946724  1.030760  0.461467  0.131424"
       ]
      }
     ],
     "prompt_number": 11
    },
    {
     "cell_type": "markdown",
     "metadata": {},
     "source": [
      "Display the index,columns, and the underlying numpy data"
     ]
    },
    {
     "cell_type": "code",
     "collapsed": false,
     "input": [
      "df.index"
     ],
     "language": "python",
     "metadata": {},
     "outputs": [
      {
       "metadata": {},
       "output_type": "pyout",
       "prompt_number": 12,
       "text": [
        "<class 'pandas.tseries.index.DatetimeIndex'>\n",
        "[2013-01-01 00:00:00, ..., 2013-01-06 00:00:00]\n",
        "Length: 6, Freq: D, Timezone: None"
       ]
      }
     ],
     "prompt_number": 12
    },
    {
     "cell_type": "code",
     "collapsed": false,
     "input": [
      "df.columns"
     ],
     "language": "python",
     "metadata": {},
     "outputs": [
      {
       "metadata": {},
       "output_type": "pyout",
       "prompt_number": 13,
       "text": [
        "Index([u'A', u'B', u'C', u'D'], dtype=object)"
       ]
      }
     ],
     "prompt_number": 13
    },
    {
     "cell_type": "code",
     "collapsed": false,
     "input": [
      "df.values"
     ],
     "language": "python",
     "metadata": {},
     "outputs": [
      {
       "metadata": {},
       "output_type": "pyout",
       "prompt_number": 14,
       "text": [
        "array([[ 0.82167149,  0.44159846,  0.89489861, -1.10669822],\n",
        "       [-0.2680201 , -0.23380937,  2.32789963,  0.27815272],\n",
        "       [-0.23048405, -1.64984056, -0.22700409,  0.21890148],\n",
        "       [ 0.72431469,  1.69130486, -0.36588674,  1.8004353 ],\n",
        "       [ 1.84039337, -0.51544621,  0.9604746 ,  0.91064609],\n",
        "       [ 0.94672378,  1.03076041,  0.46146666,  0.13142383]])"
       ]
      }
     ],
     "prompt_number": 14
    },
    {
     "cell_type": "markdown",
     "metadata": {},
     "source": [
      "Describe shows a quick statistic summary of your data"
     ]
    },
    {
     "cell_type": "code",
     "collapsed": false,
     "input": [
      "df.describe()"
     ],
     "language": "python",
     "metadata": {},
     "outputs": [
      {
       "html": [
        "<div style=\"max-height:1000px;max-width:1500px;overflow:auto;\">\n",
        "<table border=\"1\" class=\"dataframe\">\n",
        "  <thead>\n",
        "    <tr style=\"text-align: right;\">\n",
        "      <th></th>\n",
        "      <th>A</th>\n",
        "      <th>B</th>\n",
        "      <th>C</th>\n",
        "      <th>D</th>\n",
        "    </tr>\n",
        "  </thead>\n",
        "  <tbody>\n",
        "    <tr>\n",
        "      <th>count</th>\n",
        "      <td> 6.000000</td>\n",
        "      <td> 6.000000</td>\n",
        "      <td> 6.000000</td>\n",
        "      <td> 6.000000</td>\n",
        "    </tr>\n",
        "    <tr>\n",
        "      <th>mean</th>\n",
        "      <td> 0.639100</td>\n",
        "      <td> 0.127428</td>\n",
        "      <td> 0.675308</td>\n",
        "      <td> 0.372144</td>\n",
        "    </tr>\n",
        "    <tr>\n",
        "      <th>std</th>\n",
        "      <td> 0.794654</td>\n",
        "      <td> 1.188519</td>\n",
        "      <td> 0.980263</td>\n",
        "      <td> 0.959921</td>\n",
        "    </tr>\n",
        "    <tr>\n",
        "      <th>min</th>\n",
        "      <td>-0.268020</td>\n",
        "      <td>-1.649841</td>\n",
        "      <td>-0.365887</td>\n",
        "      <td>-1.106698</td>\n",
        "    </tr>\n",
        "    <tr>\n",
        "      <th>25%</th>\n",
        "      <td> 0.008216</td>\n",
        "      <td>-0.445037</td>\n",
        "      <td>-0.054886</td>\n",
        "      <td> 0.153293</td>\n",
        "    </tr>\n",
        "    <tr>\n",
        "      <th>50%</th>\n",
        "      <td> 0.772993</td>\n",
        "      <td> 0.103895</td>\n",
        "      <td> 0.678183</td>\n",
        "      <td> 0.248527</td>\n",
        "    </tr>\n",
        "    <tr>\n",
        "      <th>75%</th>\n",
        "      <td> 0.915461</td>\n",
        "      <td> 0.883470</td>\n",
        "      <td> 0.944081</td>\n",
        "      <td> 0.752523</td>\n",
        "    </tr>\n",
        "    <tr>\n",
        "      <th>max</th>\n",
        "      <td> 1.840393</td>\n",
        "      <td> 1.691305</td>\n",
        "      <td> 2.327900</td>\n",
        "      <td> 1.800435</td>\n",
        "    </tr>\n",
        "  </tbody>\n",
        "</table>\n",
        "</div>"
       ],
       "metadata": {},
       "output_type": "pyout",
       "prompt_number": 15,
       "text": [
        "              A         B         C         D\n",
        "count  6.000000  6.000000  6.000000  6.000000\n",
        "mean   0.639100  0.127428  0.675308  0.372144\n",
        "std    0.794654  1.188519  0.980263  0.959921\n",
        "min   -0.268020 -1.649841 -0.365887 -1.106698\n",
        "25%    0.008216 -0.445037 -0.054886  0.153293\n",
        "50%    0.772993  0.103895  0.678183  0.248527\n",
        "75%    0.915461  0.883470  0.944081  0.752523\n",
        "max    1.840393  1.691305  2.327900  1.800435"
       ]
      }
     ],
     "prompt_number": 15
    },
    {
     "cell_type": "markdown",
     "metadata": {},
     "source": [
      "Transposing your data"
     ]
    },
    {
     "cell_type": "code",
     "collapsed": false,
     "input": [
      "df.T"
     ],
     "language": "python",
     "metadata": {},
     "outputs": [
      {
       "html": [
        "<div style=\"max-height:1000px;max-width:1500px;overflow:auto;\">\n",
        "<table border=\"1\" class=\"dataframe\">\n",
        "  <thead>\n",
        "    <tr style=\"text-align: right;\">\n",
        "      <th></th>\n",
        "      <th>2013-01-01 00:00:00</th>\n",
        "      <th>2013-01-02 00:00:00</th>\n",
        "      <th>2013-01-03 00:00:00</th>\n",
        "      <th>2013-01-04 00:00:00</th>\n",
        "      <th>2013-01-05 00:00:00</th>\n",
        "      <th>2013-01-06 00:00:00</th>\n",
        "    </tr>\n",
        "  </thead>\n",
        "  <tbody>\n",
        "    <tr>\n",
        "      <th>A</th>\n",
        "      <td> 0.821671</td>\n",
        "      <td>-0.268020</td>\n",
        "      <td>-0.230484</td>\n",
        "      <td> 0.724315</td>\n",
        "      <td> 1.840393</td>\n",
        "      <td> 0.946724</td>\n",
        "    </tr>\n",
        "    <tr>\n",
        "      <th>B</th>\n",
        "      <td> 0.441598</td>\n",
        "      <td>-0.233809</td>\n",
        "      <td>-1.649841</td>\n",
        "      <td> 1.691305</td>\n",
        "      <td>-0.515446</td>\n",
        "      <td> 1.030760</td>\n",
        "    </tr>\n",
        "    <tr>\n",
        "      <th>C</th>\n",
        "      <td> 0.894899</td>\n",
        "      <td> 2.327900</td>\n",
        "      <td>-0.227004</td>\n",
        "      <td>-0.365887</td>\n",
        "      <td> 0.960475</td>\n",
        "      <td> 0.461467</td>\n",
        "    </tr>\n",
        "    <tr>\n",
        "      <th>D</th>\n",
        "      <td>-1.106698</td>\n",
        "      <td> 0.278153</td>\n",
        "      <td> 0.218901</td>\n",
        "      <td> 1.800435</td>\n",
        "      <td> 0.910646</td>\n",
        "      <td> 0.131424</td>\n",
        "    </tr>\n",
        "  </tbody>\n",
        "</table>\n",
        "</div>"
       ],
       "metadata": {},
       "output_type": "pyout",
       "prompt_number": 16,
       "text": [
        "   2013-01-01  2013-01-02  2013-01-03  2013-01-04  2013-01-05  2013-01-06\n",
        "A    0.821671   -0.268020   -0.230484    0.724315    1.840393    0.946724\n",
        "B    0.441598   -0.233809   -1.649841    1.691305   -0.515446    1.030760\n",
        "C    0.894899    2.327900   -0.227004   -0.365887    0.960475    0.461467\n",
        "D   -1.106698    0.278153    0.218901    1.800435    0.910646    0.131424"
       ]
      }
     ],
     "prompt_number": 16
    },
    {
     "cell_type": "markdown",
     "metadata": {},
     "source": [
      "Sorting by an axis"
     ]
    },
    {
     "cell_type": "code",
     "collapsed": false,
     "input": [
      "df.sort_index(axis=1, ascending=False)"
     ],
     "language": "python",
     "metadata": {},
     "outputs": [
      {
       "html": [
        "<div style=\"max-height:1000px;max-width:1500px;overflow:auto;\">\n",
        "<table border=\"1\" class=\"dataframe\">\n",
        "  <thead>\n",
        "    <tr style=\"text-align: right;\">\n",
        "      <th></th>\n",
        "      <th>D</th>\n",
        "      <th>C</th>\n",
        "      <th>B</th>\n",
        "      <th>A</th>\n",
        "    </tr>\n",
        "  </thead>\n",
        "  <tbody>\n",
        "    <tr>\n",
        "      <th>2013-01-01</th>\n",
        "      <td>-1.106698</td>\n",
        "      <td> 0.894899</td>\n",
        "      <td> 0.441598</td>\n",
        "      <td> 0.821671</td>\n",
        "    </tr>\n",
        "    <tr>\n",
        "      <th>2013-01-02</th>\n",
        "      <td> 0.278153</td>\n",
        "      <td> 2.327900</td>\n",
        "      <td>-0.233809</td>\n",
        "      <td>-0.268020</td>\n",
        "    </tr>\n",
        "    <tr>\n",
        "      <th>2013-01-03</th>\n",
        "      <td> 0.218901</td>\n",
        "      <td>-0.227004</td>\n",
        "      <td>-1.649841</td>\n",
        "      <td>-0.230484</td>\n",
        "    </tr>\n",
        "    <tr>\n",
        "      <th>2013-01-04</th>\n",
        "      <td> 1.800435</td>\n",
        "      <td>-0.365887</td>\n",
        "      <td> 1.691305</td>\n",
        "      <td> 0.724315</td>\n",
        "    </tr>\n",
        "    <tr>\n",
        "      <th>2013-01-05</th>\n",
        "      <td> 0.910646</td>\n",
        "      <td> 0.960475</td>\n",
        "      <td>-0.515446</td>\n",
        "      <td> 1.840393</td>\n",
        "    </tr>\n",
        "    <tr>\n",
        "      <th>2013-01-06</th>\n",
        "      <td> 0.131424</td>\n",
        "      <td> 0.461467</td>\n",
        "      <td> 1.030760</td>\n",
        "      <td> 0.946724</td>\n",
        "    </tr>\n",
        "  </tbody>\n",
        "</table>\n",
        "</div>"
       ],
       "metadata": {},
       "output_type": "pyout",
       "prompt_number": 17,
       "text": [
        "                   D         C         B         A\n",
        "2013-01-01 -1.106698  0.894899  0.441598  0.821671\n",
        "2013-01-02  0.278153  2.327900 -0.233809 -0.268020\n",
        "2013-01-03  0.218901 -0.227004 -1.649841 -0.230484\n",
        "2013-01-04  1.800435 -0.365887  1.691305  0.724315\n",
        "2013-01-05  0.910646  0.960475 -0.515446  1.840393\n",
        "2013-01-06  0.131424  0.461467  1.030760  0.946724"
       ]
      }
     ],
     "prompt_number": 17
    },
    {
     "cell_type": "markdown",
     "metadata": {},
     "source": [
      "Sorting by values"
     ]
    },
    {
     "cell_type": "code",
     "collapsed": false,
     "input": [
      "df.sort(columns='B')"
     ],
     "language": "python",
     "metadata": {},
     "outputs": [
      {
       "html": [
        "<div style=\"max-height:1000px;max-width:1500px;overflow:auto;\">\n",
        "<table border=\"1\" class=\"dataframe\">\n",
        "  <thead>\n",
        "    <tr style=\"text-align: right;\">\n",
        "      <th></th>\n",
        "      <th>A</th>\n",
        "      <th>B</th>\n",
        "      <th>C</th>\n",
        "      <th>D</th>\n",
        "    </tr>\n",
        "  </thead>\n",
        "  <tbody>\n",
        "    <tr>\n",
        "      <th>2013-01-03</th>\n",
        "      <td>-0.230484</td>\n",
        "      <td>-1.649841</td>\n",
        "      <td>-0.227004</td>\n",
        "      <td> 0.218901</td>\n",
        "    </tr>\n",
        "    <tr>\n",
        "      <th>2013-01-05</th>\n",
        "      <td> 1.840393</td>\n",
        "      <td>-0.515446</td>\n",
        "      <td> 0.960475</td>\n",
        "      <td> 0.910646</td>\n",
        "    </tr>\n",
        "    <tr>\n",
        "      <th>2013-01-02</th>\n",
        "      <td>-0.268020</td>\n",
        "      <td>-0.233809</td>\n",
        "      <td> 2.327900</td>\n",
        "      <td> 0.278153</td>\n",
        "    </tr>\n",
        "    <tr>\n",
        "      <th>2013-01-01</th>\n",
        "      <td> 0.821671</td>\n",
        "      <td> 0.441598</td>\n",
        "      <td> 0.894899</td>\n",
        "      <td>-1.106698</td>\n",
        "    </tr>\n",
        "    <tr>\n",
        "      <th>2013-01-06</th>\n",
        "      <td> 0.946724</td>\n",
        "      <td> 1.030760</td>\n",
        "      <td> 0.461467</td>\n",
        "      <td> 0.131424</td>\n",
        "    </tr>\n",
        "    <tr>\n",
        "      <th>2013-01-04</th>\n",
        "      <td> 0.724315</td>\n",
        "      <td> 1.691305</td>\n",
        "      <td>-0.365887</td>\n",
        "      <td> 1.800435</td>\n",
        "    </tr>\n",
        "  </tbody>\n",
        "</table>\n",
        "</div>"
       ],
       "metadata": {},
       "output_type": "pyout",
       "prompt_number": 18,
       "text": [
        "                   A         B         C         D\n",
        "2013-01-03 -0.230484 -1.649841 -0.227004  0.218901\n",
        "2013-01-05  1.840393 -0.515446  0.960475  0.910646\n",
        "2013-01-02 -0.268020 -0.233809  2.327900  0.278153\n",
        "2013-01-01  0.821671  0.441598  0.894899 -1.106698\n",
        "2013-01-06  0.946724  1.030760  0.461467  0.131424\n",
        "2013-01-04  0.724315  1.691305 -0.365887  1.800435"
       ]
      }
     ],
     "prompt_number": 18
    },
    {
     "cell_type": "heading",
     "level": 2,
     "metadata": {},
     "source": [
      "Selection"
     ]
    },
    {
     "cell_type": "markdown",
     "metadata": {},
     "source": [
      "**Note** While standard Python / Numpy expressions for selecting and setting are intuitive and come in handy for interactive work, for production code, we recommend the optimized pandas data access methods, `.at`, `.iat`, `.loc`, `.iloc` and `.ix`.\n",
      "\n",
      "See the [Indexing section](http://pandas.pydata.org/pandas-docs/stable/indexing.html#indexing) and below."
     ]
    },
    {
     "cell_type": "heading",
     "level": 3,
     "metadata": {},
     "source": [
      "Getting"
     ]
    },
    {
     "cell_type": "markdown",
     "metadata": {},
     "source": [
      "Selecting a single column, which yields a `Series`, equivalent to `df.A`"
     ]
    },
    {
     "cell_type": "code",
     "collapsed": false,
     "input": [
      "df['A']"
     ],
     "language": "python",
     "metadata": {},
     "outputs": [
      {
       "metadata": {},
       "output_type": "pyout",
       "prompt_number": 19,
       "text": [
        "2013-01-01    0.821671\n",
        "2013-01-02   -0.268020\n",
        "2013-01-03   -0.230484\n",
        "2013-01-04    0.724315\n",
        "2013-01-05    1.840393\n",
        "2013-01-06    0.946724\n",
        "Freq: D, Name: A, dtype: float64"
       ]
      }
     ],
     "prompt_number": 19
    },
    {
     "cell_type": "markdown",
     "metadata": {},
     "source": [
      "Selecting via `[]`, which slices the rows."
     ]
    },
    {
     "cell_type": "code",
     "collapsed": false,
     "input": [
      "df[:3]"
     ],
     "language": "python",
     "metadata": {},
     "outputs": [
      {
       "html": [
        "<div style=\"max-height:1000px;max-width:1500px;overflow:auto;\">\n",
        "<table border=\"1\" class=\"dataframe\">\n",
        "  <thead>\n",
        "    <tr style=\"text-align: right;\">\n",
        "      <th></th>\n",
        "      <th>A</th>\n",
        "      <th>B</th>\n",
        "      <th>C</th>\n",
        "      <th>D</th>\n",
        "    </tr>\n",
        "  </thead>\n",
        "  <tbody>\n",
        "    <tr>\n",
        "      <th>2013-01-01</th>\n",
        "      <td> 0.821671</td>\n",
        "      <td> 0.441598</td>\n",
        "      <td> 0.894899</td>\n",
        "      <td>-1.106698</td>\n",
        "    </tr>\n",
        "    <tr>\n",
        "      <th>2013-01-02</th>\n",
        "      <td>-0.268020</td>\n",
        "      <td>-0.233809</td>\n",
        "      <td> 2.327900</td>\n",
        "      <td> 0.278153</td>\n",
        "    </tr>\n",
        "    <tr>\n",
        "      <th>2013-01-03</th>\n",
        "      <td>-0.230484</td>\n",
        "      <td>-1.649841</td>\n",
        "      <td>-0.227004</td>\n",
        "      <td> 0.218901</td>\n",
        "    </tr>\n",
        "  </tbody>\n",
        "</table>\n",
        "</div>"
       ],
       "metadata": {},
       "output_type": "pyout",
       "prompt_number": 20,
       "text": [
        "                   A         B         C         D\n",
        "2013-01-01  0.821671  0.441598  0.894899 -1.106698\n",
        "2013-01-02 -0.268020 -0.233809  2.327900  0.278153\n",
        "2013-01-03 -0.230484 -1.649841 -0.227004  0.218901"
       ]
      }
     ],
     "prompt_number": 20
    },
    {
     "cell_type": "code",
     "collapsed": false,
     "input": [
      "df['20130102':'20130104']"
     ],
     "language": "python",
     "metadata": {},
     "outputs": [
      {
       "html": [
        "<div style=\"max-height:1000px;max-width:1500px;overflow:auto;\">\n",
        "<table border=\"1\" class=\"dataframe\">\n",
        "  <thead>\n",
        "    <tr style=\"text-align: right;\">\n",
        "      <th></th>\n",
        "      <th>A</th>\n",
        "      <th>B</th>\n",
        "      <th>C</th>\n",
        "      <th>D</th>\n",
        "    </tr>\n",
        "  </thead>\n",
        "  <tbody>\n",
        "    <tr>\n",
        "      <th>2013-01-02</th>\n",
        "      <td>-0.268020</td>\n",
        "      <td>-0.233809</td>\n",
        "      <td> 2.327900</td>\n",
        "      <td> 0.278153</td>\n",
        "    </tr>\n",
        "    <tr>\n",
        "      <th>2013-01-03</th>\n",
        "      <td>-0.230484</td>\n",
        "      <td>-1.649841</td>\n",
        "      <td>-0.227004</td>\n",
        "      <td> 0.218901</td>\n",
        "    </tr>\n",
        "    <tr>\n",
        "      <th>2013-01-04</th>\n",
        "      <td> 0.724315</td>\n",
        "      <td> 1.691305</td>\n",
        "      <td>-0.365887</td>\n",
        "      <td> 1.800435</td>\n",
        "    </tr>\n",
        "  </tbody>\n",
        "</table>\n",
        "</div>"
       ],
       "metadata": {},
       "output_type": "pyout",
       "prompt_number": 21,
       "text": [
        "                   A         B         C         D\n",
        "2013-01-02 -0.268020 -0.233809  2.327900  0.278153\n",
        "2013-01-03 -0.230484 -1.649841 -0.227004  0.218901\n",
        "2013-01-04  0.724315  1.691305 -0.365887  1.800435"
       ]
      }
     ],
     "prompt_number": 21
    },
    {
     "cell_type": "heading",
     "level": 3,
     "metadata": {},
     "source": [
      "Selection by Label"
     ]
    },
    {
     "cell_type": "markdown",
     "metadata": {},
     "source": [
      "See more in [Selection by Label](http://pandas.pydata.org/pandas-docs/stable/indexing.html#indexing-label).\n",
      "\n",
      "For getting a cross section using a label"
     ]
    },
    {
     "cell_type": "code",
     "collapsed": false,
     "input": [
      "df.loc[dates[0]]"
     ],
     "language": "python",
     "metadata": {},
     "outputs": [
      {
       "metadata": {},
       "output_type": "pyout",
       "prompt_number": 22,
       "text": [
        "A    0.821671\n",
        "B    0.441598\n",
        "C    0.894899\n",
        "D   -1.106698\n",
        "Name: 2013-01-01 00:00:00, dtype: float64"
       ]
      }
     ],
     "prompt_number": 22
    },
    {
     "cell_type": "markdown",
     "metadata": {},
     "source": [
      "Selecting on a multi-axis by label"
     ]
    },
    {
     "cell_type": "code",
     "collapsed": false,
     "input": [
      "df.loc[:,['A','B']]"
     ],
     "language": "python",
     "metadata": {},
     "outputs": [
      {
       "html": [
        "<div style=\"max-height:1000px;max-width:1500px;overflow:auto;\">\n",
        "<table border=\"1\" class=\"dataframe\">\n",
        "  <thead>\n",
        "    <tr style=\"text-align: right;\">\n",
        "      <th></th>\n",
        "      <th>A</th>\n",
        "      <th>B</th>\n",
        "    </tr>\n",
        "  </thead>\n",
        "  <tbody>\n",
        "    <tr>\n",
        "      <th>2013-01-01</th>\n",
        "      <td> 0.821671</td>\n",
        "      <td> 0.441598</td>\n",
        "    </tr>\n",
        "    <tr>\n",
        "      <th>2013-01-02</th>\n",
        "      <td>-0.268020</td>\n",
        "      <td>-0.233809</td>\n",
        "    </tr>\n",
        "    <tr>\n",
        "      <th>2013-01-03</th>\n",
        "      <td>-0.230484</td>\n",
        "      <td>-1.649841</td>\n",
        "    </tr>\n",
        "    <tr>\n",
        "      <th>2013-01-04</th>\n",
        "      <td> 0.724315</td>\n",
        "      <td> 1.691305</td>\n",
        "    </tr>\n",
        "    <tr>\n",
        "      <th>2013-01-05</th>\n",
        "      <td> 1.840393</td>\n",
        "      <td>-0.515446</td>\n",
        "    </tr>\n",
        "    <tr>\n",
        "      <th>2013-01-06</th>\n",
        "      <td> 0.946724</td>\n",
        "      <td> 1.030760</td>\n",
        "    </tr>\n",
        "  </tbody>\n",
        "</table>\n",
        "</div>"
       ],
       "metadata": {},
       "output_type": "pyout",
       "prompt_number": 24,
       "text": [
        "                   A         B\n",
        "2013-01-01  0.821671  0.441598\n",
        "2013-01-02 -0.268020 -0.233809\n",
        "2013-01-03 -0.230484 -1.649841\n",
        "2013-01-04  0.724315  1.691305\n",
        "2013-01-05  1.840393 -0.515446\n",
        "2013-01-06  0.946724  1.030760"
       ]
      }
     ],
     "prompt_number": 24
    },
    {
     "cell_type": "heading",
     "level": 3,
     "metadata": {},
     "source": [
      "Selection by Position"
     ]
    },
    {
     "cell_type": "markdown",
     "metadata": {},
     "source": [
      "Select via the position of the passed integers"
     ]
    },
    {
     "cell_type": "code",
     "collapsed": false,
     "input": [
      "df.iloc[3]"
     ],
     "language": "python",
     "metadata": {},
     "outputs": [
      {
       "metadata": {},
       "output_type": "pyout",
       "prompt_number": 25,
       "text": [
        "A    0.724315\n",
        "B    1.691305\n",
        "C   -0.365887\n",
        "D    1.800435\n",
        "Name: 2013-01-04 00:00:00, dtype: float64"
       ]
      }
     ],
     "prompt_number": 25
    },
    {
     "cell_type": "markdown",
     "metadata": {},
     "source": [
      "By integer slices, acting similar to numpy/python"
     ]
    },
    {
     "cell_type": "code",
     "collapsed": false,
     "input": [
      "df.iloc[3:5,0:2]"
     ],
     "language": "python",
     "metadata": {},
     "outputs": [
      {
       "html": [
        "<div style=\"max-height:1000px;max-width:1500px;overflow:auto;\">\n",
        "<table border=\"1\" class=\"dataframe\">\n",
        "  <thead>\n",
        "    <tr style=\"text-align: right;\">\n",
        "      <th></th>\n",
        "      <th>A</th>\n",
        "      <th>B</th>\n",
        "    </tr>\n",
        "  </thead>\n",
        "  <tbody>\n",
        "    <tr>\n",
        "      <th>2013-01-04</th>\n",
        "      <td> 0.724315</td>\n",
        "      <td> 1.691305</td>\n",
        "    </tr>\n",
        "    <tr>\n",
        "      <th>2013-01-05</th>\n",
        "      <td> 1.840393</td>\n",
        "      <td>-0.515446</td>\n",
        "    </tr>\n",
        "  </tbody>\n",
        "</table>\n",
        "</div>"
       ],
       "metadata": {},
       "output_type": "pyout",
       "prompt_number": 26,
       "text": [
        "                   A         B\n",
        "2013-01-04  0.724315  1.691305\n",
        "2013-01-05  1.840393 -0.515446"
       ]
      }
     ],
     "prompt_number": 26
    },
    {
     "cell_type": "markdown",
     "metadata": {},
     "source": [
      "By lists of integer position locations, similar to the numpy/python style"
     ]
    },
    {
     "cell_type": "code",
     "collapsed": false,
     "input": [
      "df.iloc[[1,2,4],[0,2]]"
     ],
     "language": "python",
     "metadata": {},
     "outputs": [
      {
       "html": [
        "<div style=\"max-height:1000px;max-width:1500px;overflow:auto;\">\n",
        "<table border=\"1\" class=\"dataframe\">\n",
        "  <thead>\n",
        "    <tr style=\"text-align: right;\">\n",
        "      <th></th>\n",
        "      <th>A</th>\n",
        "      <th>C</th>\n",
        "    </tr>\n",
        "  </thead>\n",
        "  <tbody>\n",
        "    <tr>\n",
        "      <th>2013-01-02</th>\n",
        "      <td>-0.268020</td>\n",
        "      <td> 2.327900</td>\n",
        "    </tr>\n",
        "    <tr>\n",
        "      <th>2013-01-03</th>\n",
        "      <td>-0.230484</td>\n",
        "      <td>-0.227004</td>\n",
        "    </tr>\n",
        "    <tr>\n",
        "      <th>2013-01-05</th>\n",
        "      <td> 1.840393</td>\n",
        "      <td> 0.960475</td>\n",
        "    </tr>\n",
        "  </tbody>\n",
        "</table>\n",
        "</div>"
       ],
       "metadata": {},
       "output_type": "pyout",
       "prompt_number": 27,
       "text": [
        "                   A         C\n",
        "2013-01-02 -0.268020  2.327900\n",
        "2013-01-03 -0.230484 -0.227004\n",
        "2013-01-05  1.840393  0.960475"
       ]
      }
     ],
     "prompt_number": 27
    },
    {
     "cell_type": "markdown",
     "metadata": {},
     "source": [
      "For slicing rows or columns explicitly"
     ]
    },
    {
     "cell_type": "code",
     "collapsed": false,
     "input": [
      "df.iloc[1:3,:]"
     ],
     "language": "python",
     "metadata": {},
     "outputs": [
      {
       "html": [
        "<div style=\"max-height:1000px;max-width:1500px;overflow:auto;\">\n",
        "<table border=\"1\" class=\"dataframe\">\n",
        "  <thead>\n",
        "    <tr style=\"text-align: right;\">\n",
        "      <th></th>\n",
        "      <th>A</th>\n",
        "      <th>B</th>\n",
        "      <th>C</th>\n",
        "      <th>D</th>\n",
        "    </tr>\n",
        "  </thead>\n",
        "  <tbody>\n",
        "    <tr>\n",
        "      <th>2013-01-02</th>\n",
        "      <td>-0.268020</td>\n",
        "      <td>-0.233809</td>\n",
        "      <td> 2.327900</td>\n",
        "      <td> 0.278153</td>\n",
        "    </tr>\n",
        "    <tr>\n",
        "      <th>2013-01-03</th>\n",
        "      <td>-0.230484</td>\n",
        "      <td>-1.649841</td>\n",
        "      <td>-0.227004</td>\n",
        "      <td> 0.218901</td>\n",
        "    </tr>\n",
        "  </tbody>\n",
        "</table>\n",
        "</div>"
       ],
       "metadata": {},
       "output_type": "pyout",
       "prompt_number": 28,
       "text": [
        "                   A         B         C         D\n",
        "2013-01-02 -0.268020 -0.233809  2.327900  0.278153\n",
        "2013-01-03 -0.230484 -1.649841 -0.227004  0.218901"
       ]
      }
     ],
     "prompt_number": 28
    },
    {
     "cell_type": "heading",
     "level": 3,
     "metadata": {},
     "source": [
      "Boolean Indexing"
     ]
    },
    {
     "cell_type": "code",
     "collapsed": false,
     "input": [
      "df"
     ],
     "language": "python",
     "metadata": {},
     "outputs": [
      {
       "html": [
        "<div style=\"max-height:1000px;max-width:1500px;overflow:auto;\">\n",
        "<table border=\"1\" class=\"dataframe\">\n",
        "  <thead>\n",
        "    <tr style=\"text-align: right;\">\n",
        "      <th></th>\n",
        "      <th>A</th>\n",
        "      <th>B</th>\n",
        "      <th>C</th>\n",
        "      <th>D</th>\n",
        "    </tr>\n",
        "  </thead>\n",
        "  <tbody>\n",
        "    <tr>\n",
        "      <th>2013-01-01</th>\n",
        "      <td> 0.821671</td>\n",
        "      <td> 0.441598</td>\n",
        "      <td> 0.894899</td>\n",
        "      <td>-1.106698</td>\n",
        "    </tr>\n",
        "    <tr>\n",
        "      <th>2013-01-02</th>\n",
        "      <td>-0.268020</td>\n",
        "      <td>-0.233809</td>\n",
        "      <td> 2.327900</td>\n",
        "      <td> 0.278153</td>\n",
        "    </tr>\n",
        "    <tr>\n",
        "      <th>2013-01-03</th>\n",
        "      <td>-0.230484</td>\n",
        "      <td>-1.649841</td>\n",
        "      <td>-0.227004</td>\n",
        "      <td> 0.218901</td>\n",
        "    </tr>\n",
        "    <tr>\n",
        "      <th>2013-01-04</th>\n",
        "      <td> 0.724315</td>\n",
        "      <td> 1.691305</td>\n",
        "      <td>-0.365887</td>\n",
        "      <td> 1.800435</td>\n",
        "    </tr>\n",
        "    <tr>\n",
        "      <th>2013-01-05</th>\n",
        "      <td> 1.840393</td>\n",
        "      <td>-0.515446</td>\n",
        "      <td> 0.960475</td>\n",
        "      <td> 0.910646</td>\n",
        "    </tr>\n",
        "    <tr>\n",
        "      <th>2013-01-06</th>\n",
        "      <td> 0.946724</td>\n",
        "      <td> 1.030760</td>\n",
        "      <td> 0.461467</td>\n",
        "      <td> 0.131424</td>\n",
        "    </tr>\n",
        "  </tbody>\n",
        "</table>\n",
        "</div>"
       ],
       "metadata": {},
       "output_type": "pyout",
       "prompt_number": 29,
       "text": [
        "                   A         B         C         D\n",
        "2013-01-01  0.821671  0.441598  0.894899 -1.106698\n",
        "2013-01-02 -0.268020 -0.233809  2.327900  0.278153\n",
        "2013-01-03 -0.230484 -1.649841 -0.227004  0.218901\n",
        "2013-01-04  0.724315  1.691305 -0.365887  1.800435\n",
        "2013-01-05  1.840393 -0.515446  0.960475  0.910646\n",
        "2013-01-06  0.946724  1.030760  0.461467  0.131424"
       ]
      }
     ],
     "prompt_number": 29
    },
    {
     "cell_type": "code",
     "collapsed": false,
     "input": [
      "df[df.A > 0]"
     ],
     "language": "python",
     "metadata": {},
     "outputs": [
      {
       "html": [
        "<div style=\"max-height:1000px;max-width:1500px;overflow:auto;\">\n",
        "<table border=\"1\" class=\"dataframe\">\n",
        "  <thead>\n",
        "    <tr style=\"text-align: right;\">\n",
        "      <th></th>\n",
        "      <th>A</th>\n",
        "      <th>B</th>\n",
        "      <th>C</th>\n",
        "      <th>D</th>\n",
        "    </tr>\n",
        "  </thead>\n",
        "  <tbody>\n",
        "    <tr>\n",
        "      <th>2013-01-01</th>\n",
        "      <td> 0.821671</td>\n",
        "      <td> 0.441598</td>\n",
        "      <td> 0.894899</td>\n",
        "      <td>-1.106698</td>\n",
        "    </tr>\n",
        "    <tr>\n",
        "      <th>2013-01-04</th>\n",
        "      <td> 0.724315</td>\n",
        "      <td> 1.691305</td>\n",
        "      <td>-0.365887</td>\n",
        "      <td> 1.800435</td>\n",
        "    </tr>\n",
        "    <tr>\n",
        "      <th>2013-01-05</th>\n",
        "      <td> 1.840393</td>\n",
        "      <td>-0.515446</td>\n",
        "      <td> 0.960475</td>\n",
        "      <td> 0.910646</td>\n",
        "    </tr>\n",
        "    <tr>\n",
        "      <th>2013-01-06</th>\n",
        "      <td> 0.946724</td>\n",
        "      <td> 1.030760</td>\n",
        "      <td> 0.461467</td>\n",
        "      <td> 0.131424</td>\n",
        "    </tr>\n",
        "  </tbody>\n",
        "</table>\n",
        "</div>"
       ],
       "metadata": {},
       "output_type": "pyout",
       "prompt_number": 30,
       "text": [
        "                   A         B         C         D\n",
        "2013-01-01  0.821671  0.441598  0.894899 -1.106698\n",
        "2013-01-04  0.724315  1.691305 -0.365887  1.800435\n",
        "2013-01-05  1.840393 -0.515446  0.960475  0.910646\n",
        "2013-01-06  0.946724  1.030760  0.461467  0.131424"
       ]
      }
     ],
     "prompt_number": 30
    },
    {
     "cell_type": "markdown",
     "metadata": {},
     "source": [
      "What happens if I select on the whole table?"
     ]
    },
    {
     "cell_type": "code",
     "collapsed": false,
     "input": [
      "df[df > 0]"
     ],
     "language": "python",
     "metadata": {},
     "outputs": [
      {
       "html": [
        "<div style=\"max-height:1000px;max-width:1500px;overflow:auto;\">\n",
        "<table border=\"1\" class=\"dataframe\">\n",
        "  <thead>\n",
        "    <tr style=\"text-align: right;\">\n",
        "      <th></th>\n",
        "      <th>A</th>\n",
        "      <th>B</th>\n",
        "      <th>C</th>\n",
        "      <th>D</th>\n",
        "    </tr>\n",
        "  </thead>\n",
        "  <tbody>\n",
        "    <tr>\n",
        "      <th>2013-01-01</th>\n",
        "      <td> 0.821671</td>\n",
        "      <td> 0.441598</td>\n",
        "      <td> 0.894899</td>\n",
        "      <td>      NaN</td>\n",
        "    </tr>\n",
        "    <tr>\n",
        "      <th>2013-01-02</th>\n",
        "      <td>      NaN</td>\n",
        "      <td>      NaN</td>\n",
        "      <td> 2.327900</td>\n",
        "      <td> 0.278153</td>\n",
        "    </tr>\n",
        "    <tr>\n",
        "      <th>2013-01-03</th>\n",
        "      <td>      NaN</td>\n",
        "      <td>      NaN</td>\n",
        "      <td>      NaN</td>\n",
        "      <td> 0.218901</td>\n",
        "    </tr>\n",
        "    <tr>\n",
        "      <th>2013-01-04</th>\n",
        "      <td> 0.724315</td>\n",
        "      <td> 1.691305</td>\n",
        "      <td>      NaN</td>\n",
        "      <td> 1.800435</td>\n",
        "    </tr>\n",
        "    <tr>\n",
        "      <th>2013-01-05</th>\n",
        "      <td> 1.840393</td>\n",
        "      <td>      NaN</td>\n",
        "      <td> 0.960475</td>\n",
        "      <td> 0.910646</td>\n",
        "    </tr>\n",
        "    <tr>\n",
        "      <th>2013-01-06</th>\n",
        "      <td> 0.946724</td>\n",
        "      <td> 1.030760</td>\n",
        "      <td> 0.461467</td>\n",
        "      <td> 0.131424</td>\n",
        "    </tr>\n",
        "  </tbody>\n",
        "</table>\n",
        "</div>"
       ],
       "metadata": {},
       "output_type": "pyout",
       "prompt_number": 32,
       "text": [
        "                   A         B         C         D\n",
        "2013-01-01  0.821671  0.441598  0.894899       NaN\n",
        "2013-01-02       NaN       NaN  2.327900  0.278153\n",
        "2013-01-03       NaN       NaN       NaN  0.218901\n",
        "2013-01-04  0.724315  1.691305       NaN  1.800435\n",
        "2013-01-05  1.840393       NaN  0.960475  0.910646\n",
        "2013-01-06  0.946724  1.030760  0.461467  0.131424"
       ]
      }
     ],
     "prompt_number": 32
    },
    {
     "cell_type": "heading",
     "level": 2,
     "metadata": {},
     "source": [
      "Basic operations"
     ]
    },
    {
     "cell_type": "markdown",
     "metadata": {},
     "source": [
      "Simple statistics"
     ]
    },
    {
     "cell_type": "code",
     "collapsed": false,
     "input": [
      "df.mean()"
     ],
     "language": "python",
     "metadata": {},
     "outputs": [
      {
       "metadata": {},
       "output_type": "pyout",
       "prompt_number": 33,
       "text": [
        "A    0.639100\n",
        "B    0.127428\n",
        "C    0.675308\n",
        "D    0.372144\n",
        "dtype: float64"
       ]
      }
     ],
     "prompt_number": 33
    },
    {
     "cell_type": "markdown",
     "metadata": {},
     "source": [
      "And the same along a different axis:"
     ]
    },
    {
     "cell_type": "code",
     "collapsed": false,
     "input": [
      "df.mean(axis=1)"
     ],
     "language": "python",
     "metadata": {},
     "outputs": [
      {
       "metadata": {},
       "output_type": "pyout",
       "prompt_number": 35,
       "text": [
        "2013-01-01    0.262868\n",
        "2013-01-02    0.526056\n",
        "2013-01-03   -0.472107\n",
        "2013-01-04    0.962542\n",
        "2013-01-05    0.799017\n",
        "2013-01-06    0.642594\n",
        "Freq: D, dtype: float64"
       ]
      }
     ],
     "prompt_number": 35
    },
    {
     "cell_type": "markdown",
     "metadata": {},
     "source": [
      "Applying a function to the data"
     ]
    },
    {
     "cell_type": "code",
     "collapsed": false,
     "input": [
      "df.apply(np.cumsum)"
     ],
     "language": "python",
     "metadata": {},
     "outputs": [
      {
       "html": [
        "<div style=\"max-height:1000px;max-width:1500px;overflow:auto;\">\n",
        "<table border=\"1\" class=\"dataframe\">\n",
        "  <thead>\n",
        "    <tr style=\"text-align: right;\">\n",
        "      <th></th>\n",
        "      <th>A</th>\n",
        "      <th>B</th>\n",
        "      <th>C</th>\n",
        "      <th>D</th>\n",
        "    </tr>\n",
        "  </thead>\n",
        "  <tbody>\n",
        "    <tr>\n",
        "      <th>2013-01-01</th>\n",
        "      <td> 0.821671</td>\n",
        "      <td> 0.441598</td>\n",
        "      <td> 0.894899</td>\n",
        "      <td>-1.106698</td>\n",
        "    </tr>\n",
        "    <tr>\n",
        "      <th>2013-01-02</th>\n",
        "      <td> 0.553651</td>\n",
        "      <td> 0.207789</td>\n",
        "      <td> 3.222798</td>\n",
        "      <td>-0.828546</td>\n",
        "    </tr>\n",
        "    <tr>\n",
        "      <th>2013-01-03</th>\n",
        "      <td> 0.323167</td>\n",
        "      <td>-1.442051</td>\n",
        "      <td> 2.995794</td>\n",
        "      <td>-0.609644</td>\n",
        "    </tr>\n",
        "    <tr>\n",
        "      <th>2013-01-04</th>\n",
        "      <td> 1.047482</td>\n",
        "      <td> 0.249253</td>\n",
        "      <td> 2.629907</td>\n",
        "      <td> 1.190791</td>\n",
        "    </tr>\n",
        "    <tr>\n",
        "      <th>2013-01-05</th>\n",
        "      <td> 2.887875</td>\n",
        "      <td>-0.266193</td>\n",
        "      <td> 3.590382</td>\n",
        "      <td> 2.101437</td>\n",
        "    </tr>\n",
        "    <tr>\n",
        "      <th>2013-01-06</th>\n",
        "      <td> 3.834599</td>\n",
        "      <td> 0.764568</td>\n",
        "      <td> 4.051849</td>\n",
        "      <td> 2.232861</td>\n",
        "    </tr>\n",
        "  </tbody>\n",
        "</table>\n",
        "</div>"
       ],
       "metadata": {},
       "output_type": "pyout",
       "prompt_number": 36,
       "text": [
        "                   A         B         C         D\n",
        "2013-01-01  0.821671  0.441598  0.894899 -1.106698\n",
        "2013-01-02  0.553651  0.207789  3.222798 -0.828546\n",
        "2013-01-03  0.323167 -1.442051  2.995794 -0.609644\n",
        "2013-01-04  1.047482  0.249253  2.629907  1.190791\n",
        "2013-01-05  2.887875 -0.266193  3.590382  2.101437\n",
        "2013-01-06  3.834599  0.764568  4.051849  2.232861"
       ]
      }
     ],
     "prompt_number": 36
    },
    {
     "cell_type": "code",
     "collapsed": false,
     "input": [
      "df.apply(lambda x: x.max() - x.min())"
     ],
     "language": "python",
     "metadata": {},
     "outputs": [
      {
       "metadata": {},
       "output_type": "pyout",
       "prompt_number": 37,
       "text": [
        "A    2.108413\n",
        "B    3.341145\n",
        "C    2.693786\n",
        "D    2.907134\n",
        "dtype: float64"
       ]
      }
     ],
     "prompt_number": 37
    },
    {
     "cell_type": "markdown",
     "metadata": {},
     "source": [
      "SQL-style operations like merging data"
     ]
    },
    {
     "cell_type": "code",
     "collapsed": false,
     "input": [
      "left = pd.DataFrame({'key': ['foo', 'foo'], 'lval': [1, 2]})\n",
      "right = pd.DataFrame({'key': ['foo', 'foo'], 'rval': [4, 5]})"
     ],
     "language": "python",
     "metadata": {},
     "outputs": [],
     "prompt_number": 38
    },
    {
     "cell_type": "code",
     "collapsed": false,
     "input": [
      "left"
     ],
     "language": "python",
     "metadata": {},
     "outputs": [
      {
       "html": [
        "<div style=\"max-height:1000px;max-width:1500px;overflow:auto;\">\n",
        "<table border=\"1\" class=\"dataframe\">\n",
        "  <thead>\n",
        "    <tr style=\"text-align: right;\">\n",
        "      <th></th>\n",
        "      <th>key</th>\n",
        "      <th>lval</th>\n",
        "    </tr>\n",
        "  </thead>\n",
        "  <tbody>\n",
        "    <tr>\n",
        "      <th>0</th>\n",
        "      <td> foo</td>\n",
        "      <td> 1</td>\n",
        "    </tr>\n",
        "    <tr>\n",
        "      <th>1</th>\n",
        "      <td> foo</td>\n",
        "      <td> 2</td>\n",
        "    </tr>\n",
        "  </tbody>\n",
        "</table>\n",
        "</div>"
       ],
       "metadata": {},
       "output_type": "pyout",
       "prompt_number": 39,
       "text": [
        "   key  lval\n",
        "0  foo     1\n",
        "1  foo     2"
       ]
      }
     ],
     "prompt_number": 39
    },
    {
     "cell_type": "code",
     "collapsed": false,
     "input": [
      "right"
     ],
     "language": "python",
     "metadata": {},
     "outputs": [
      {
       "html": [
        "<div style=\"max-height:1000px;max-width:1500px;overflow:auto;\">\n",
        "<table border=\"1\" class=\"dataframe\">\n",
        "  <thead>\n",
        "    <tr style=\"text-align: right;\">\n",
        "      <th></th>\n",
        "      <th>key</th>\n",
        "      <th>rval</th>\n",
        "    </tr>\n",
        "  </thead>\n",
        "  <tbody>\n",
        "    <tr>\n",
        "      <th>0</th>\n",
        "      <td> foo</td>\n",
        "      <td> 4</td>\n",
        "    </tr>\n",
        "    <tr>\n",
        "      <th>1</th>\n",
        "      <td> foo</td>\n",
        "      <td> 5</td>\n",
        "    </tr>\n",
        "  </tbody>\n",
        "</table>\n",
        "</div>"
       ],
       "metadata": {},
       "output_type": "pyout",
       "prompt_number": 40,
       "text": [
        "   key  rval\n",
        "0  foo     4\n",
        "1  foo     5"
       ]
      }
     ],
     "prompt_number": 40
    },
    {
     "cell_type": "code",
     "collapsed": false,
     "input": [
      "pd.merge(left, right, on='key')"
     ],
     "language": "python",
     "metadata": {},
     "outputs": [
      {
       "html": [
        "<div style=\"max-height:1000px;max-width:1500px;overflow:auto;\">\n",
        "<table border=\"1\" class=\"dataframe\">\n",
        "  <thead>\n",
        "    <tr style=\"text-align: right;\">\n",
        "      <th></th>\n",
        "      <th>key</th>\n",
        "      <th>lval</th>\n",
        "      <th>rval</th>\n",
        "    </tr>\n",
        "  </thead>\n",
        "  <tbody>\n",
        "    <tr>\n",
        "      <th>0</th>\n",
        "      <td> foo</td>\n",
        "      <td> 1</td>\n",
        "      <td> 4</td>\n",
        "    </tr>\n",
        "    <tr>\n",
        "      <th>1</th>\n",
        "      <td> foo</td>\n",
        "      <td> 1</td>\n",
        "      <td> 5</td>\n",
        "    </tr>\n",
        "    <tr>\n",
        "      <th>2</th>\n",
        "      <td> foo</td>\n",
        "      <td> 2</td>\n",
        "      <td> 4</td>\n",
        "    </tr>\n",
        "    <tr>\n",
        "      <th>3</th>\n",
        "      <td> foo</td>\n",
        "      <td> 2</td>\n",
        "      <td> 5</td>\n",
        "    </tr>\n",
        "  </tbody>\n",
        "</table>\n",
        "</div>"
       ],
       "metadata": {},
       "output_type": "pyout",
       "prompt_number": 42,
       "text": [
        "   key  lval  rval\n",
        "0  foo     1     4\n",
        "1  foo     1     5\n",
        "2  foo     2     4\n",
        "3  foo     2     5"
       ]
      }
     ],
     "prompt_number": 42
    },
    {
     "cell_type": "markdown",
     "metadata": {},
     "source": [
      "Append rows to a dataframe. "
     ]
    },
    {
     "cell_type": "code",
     "collapsed": false,
     "input": [
      "df = pd.DataFrame(np.arange(4*3).reshape((4, 3)), columns=['A','B','C'])\n",
      "df"
     ],
     "language": "python",
     "metadata": {},
     "outputs": [
      {
       "html": [
        "<div style=\"max-height:1000px;max-width:1500px;overflow:auto;\">\n",
        "<table border=\"1\" class=\"dataframe\">\n",
        "  <thead>\n",
        "    <tr style=\"text-align: right;\">\n",
        "      <th></th>\n",
        "      <th>A</th>\n",
        "      <th>B</th>\n",
        "      <th>C</th>\n",
        "    </tr>\n",
        "  </thead>\n",
        "  <tbody>\n",
        "    <tr>\n",
        "      <th>0</th>\n",
        "      <td> 0</td>\n",
        "      <td>  1</td>\n",
        "      <td>  2</td>\n",
        "    </tr>\n",
        "    <tr>\n",
        "      <th>1</th>\n",
        "      <td> 3</td>\n",
        "      <td>  4</td>\n",
        "      <td>  5</td>\n",
        "    </tr>\n",
        "    <tr>\n",
        "      <th>2</th>\n",
        "      <td> 6</td>\n",
        "      <td>  7</td>\n",
        "      <td>  8</td>\n",
        "    </tr>\n",
        "    <tr>\n",
        "      <th>3</th>\n",
        "      <td> 9</td>\n",
        "      <td> 10</td>\n",
        "      <td> 11</td>\n",
        "    </tr>\n",
        "  </tbody>\n",
        "</table>\n",
        "</div>"
       ],
       "metadata": {},
       "output_type": "pyout",
       "prompt_number": 49,
       "text": [
        "   A   B   C\n",
        "0  0   1   2\n",
        "1  3   4   5\n",
        "2  6   7   8\n",
        "3  9  10  11"
       ]
      }
     ],
     "prompt_number": 49
    },
    {
     "cell_type": "code",
     "collapsed": false,
     "input": [
      "s = df.iloc[2]\n",
      "s"
     ],
     "language": "python",
     "metadata": {},
     "outputs": [
      {
       "metadata": {},
       "output_type": "pyout",
       "prompt_number": 50,
       "text": [
        "A    6\n",
        "B    7\n",
        "C    8\n",
        "Name: 2, dtype: int64"
       ]
      }
     ],
     "prompt_number": 50
    },
    {
     "cell_type": "code",
     "collapsed": false,
     "input": [
      "df.append(s, ignore_index=True)"
     ],
     "language": "python",
     "metadata": {},
     "outputs": [
      {
       "html": [
        "<div style=\"max-height:1000px;max-width:1500px;overflow:auto;\">\n",
        "<table border=\"1\" class=\"dataframe\">\n",
        "  <thead>\n",
        "    <tr style=\"text-align: right;\">\n",
        "      <th></th>\n",
        "      <th>A</th>\n",
        "      <th>B</th>\n",
        "      <th>C</th>\n",
        "    </tr>\n",
        "  </thead>\n",
        "  <tbody>\n",
        "    <tr>\n",
        "      <th>0</th>\n",
        "      <td> 0</td>\n",
        "      <td>  1</td>\n",
        "      <td>  2</td>\n",
        "    </tr>\n",
        "    <tr>\n",
        "      <th>1</th>\n",
        "      <td> 3</td>\n",
        "      <td>  4</td>\n",
        "      <td>  5</td>\n",
        "    </tr>\n",
        "    <tr>\n",
        "      <th>2</th>\n",
        "      <td> 6</td>\n",
        "      <td>  7</td>\n",
        "      <td>  8</td>\n",
        "    </tr>\n",
        "    <tr>\n",
        "      <th>3</th>\n",
        "      <td> 9</td>\n",
        "      <td> 10</td>\n",
        "      <td> 11</td>\n",
        "    </tr>\n",
        "    <tr>\n",
        "      <th>4</th>\n",
        "      <td> 6</td>\n",
        "      <td>  7</td>\n",
        "      <td>  8</td>\n",
        "    </tr>\n",
        "  </tbody>\n",
        "</table>\n",
        "</div>"
       ],
       "metadata": {},
       "output_type": "pyout",
       "prompt_number": 51,
       "text": [
        "   A   B   C\n",
        "0  0   1   2\n",
        "1  3   4   5\n",
        "2  6   7   8\n",
        "3  9  10  11\n",
        "4  6   7   8"
       ]
      }
     ],
     "prompt_number": 51
    },
    {
     "cell_type": "heading",
     "level": 2,
     "metadata": {},
     "source": [
      "Grouping"
     ]
    },
    {
     "cell_type": "markdown",
     "metadata": {},
     "source": [
      "By \u201cgroup by\u201d we are referring to a process involving one or more of the following steps\n",
      "\n",
      "- **Splitting** the data into groups based on some criteria\n",
      "- **Applying** a function to each group independently\n",
      "- **Combining** the results into a data structure\n",
      "\n",
      "See the [Grouping docs](http://pandas.pydata.org/pandas-docs/stable/groupby.html#groupby) for more."
     ]
    },
    {
     "cell_type": "code",
     "collapsed": false,
     "input": [
      "df = pd.DataFrame({'A' : ['foo', 'bar', 'foo', 'bar',\n",
      "                         'foo', 'bar', 'foo', 'foo'],\n",
      "                   'B' : ['one', 'one', 'two', 'three',\n",
      "                         'two', 'two', 'one', 'three'],\n",
      "                   'C' : range(8), 'D' : range(10,18)})\n",
      "df"
     ],
     "language": "python",
     "metadata": {},
     "outputs": [
      {
       "html": [
        "<div style=\"max-height:1000px;max-width:1500px;overflow:auto;\">\n",
        "<table border=\"1\" class=\"dataframe\">\n",
        "  <thead>\n",
        "    <tr style=\"text-align: right;\">\n",
        "      <th></th>\n",
        "      <th>A</th>\n",
        "      <th>B</th>\n",
        "      <th>C</th>\n",
        "      <th>D</th>\n",
        "    </tr>\n",
        "  </thead>\n",
        "  <tbody>\n",
        "    <tr>\n",
        "      <th>0</th>\n",
        "      <td> foo</td>\n",
        "      <td>   one</td>\n",
        "      <td> 0</td>\n",
        "      <td> 10</td>\n",
        "    </tr>\n",
        "    <tr>\n",
        "      <th>1</th>\n",
        "      <td> bar</td>\n",
        "      <td>   one</td>\n",
        "      <td> 1</td>\n",
        "      <td> 11</td>\n",
        "    </tr>\n",
        "    <tr>\n",
        "      <th>2</th>\n",
        "      <td> foo</td>\n",
        "      <td>   two</td>\n",
        "      <td> 2</td>\n",
        "      <td> 12</td>\n",
        "    </tr>\n",
        "    <tr>\n",
        "      <th>3</th>\n",
        "      <td> bar</td>\n",
        "      <td> three</td>\n",
        "      <td> 3</td>\n",
        "      <td> 13</td>\n",
        "    </tr>\n",
        "    <tr>\n",
        "      <th>4</th>\n",
        "      <td> foo</td>\n",
        "      <td>   two</td>\n",
        "      <td> 4</td>\n",
        "      <td> 14</td>\n",
        "    </tr>\n",
        "    <tr>\n",
        "      <th>5</th>\n",
        "      <td> bar</td>\n",
        "      <td>   two</td>\n",
        "      <td> 5</td>\n",
        "      <td> 15</td>\n",
        "    </tr>\n",
        "    <tr>\n",
        "      <th>6</th>\n",
        "      <td> foo</td>\n",
        "      <td>   one</td>\n",
        "      <td> 6</td>\n",
        "      <td> 16</td>\n",
        "    </tr>\n",
        "    <tr>\n",
        "      <th>7</th>\n",
        "      <td> foo</td>\n",
        "      <td> three</td>\n",
        "      <td> 7</td>\n",
        "      <td> 17</td>\n",
        "    </tr>\n",
        "  </tbody>\n",
        "</table>\n",
        "</div>"
       ],
       "metadata": {},
       "output_type": "pyout",
       "prompt_number": 56,
       "text": [
        "     A      B  C   D\n",
        "0  foo    one  0  10\n",
        "1  bar    one  1  11\n",
        "2  foo    two  2  12\n",
        "3  bar  three  3  13\n",
        "4  foo    two  4  14\n",
        "5  bar    two  5  15\n",
        "6  foo    one  6  16\n",
        "7  foo  three  7  17"
       ]
      }
     ],
     "prompt_number": 56
    },
    {
     "cell_type": "markdown",
     "metadata": {},
     "source": [
      "Grouping and then applying a function sum to the resulting groups."
     ]
    },
    {
     "cell_type": "code",
     "collapsed": false,
     "input": [
      "df.groupby('A').sum()"
     ],
     "language": "python",
     "metadata": {},
     "outputs": [
      {
       "html": [
        "<div style=\"max-height:1000px;max-width:1500px;overflow:auto;\">\n",
        "<table border=\"1\" class=\"dataframe\">\n",
        "  <thead>\n",
        "    <tr style=\"text-align: right;\">\n",
        "      <th></th>\n",
        "      <th>C</th>\n",
        "      <th>D</th>\n",
        "    </tr>\n",
        "    <tr>\n",
        "      <th>A</th>\n",
        "      <th></th>\n",
        "      <th></th>\n",
        "    </tr>\n",
        "  </thead>\n",
        "  <tbody>\n",
        "    <tr>\n",
        "      <th>bar</th>\n",
        "      <td>  9</td>\n",
        "      <td> 39</td>\n",
        "    </tr>\n",
        "    <tr>\n",
        "      <th>foo</th>\n",
        "      <td> 19</td>\n",
        "      <td> 69</td>\n",
        "    </tr>\n",
        "  </tbody>\n",
        "</table>\n",
        "</div>"
       ],
       "metadata": {},
       "output_type": "pyout",
       "prompt_number": 58,
       "text": [
        "      C   D\n",
        "A          \n",
        "bar   9  39\n",
        "foo  19  69"
       ]
      }
     ],
     "prompt_number": 58
    },
    {
     "cell_type": "markdown",
     "metadata": {},
     "source": [
      "Grouping by multiple columns forms a hierarchical index, which we then apply the function."
     ]
    },
    {
     "cell_type": "code",
     "collapsed": false,
     "input": [
      "df.groupby(['A','B']).sum()"
     ],
     "language": "python",
     "metadata": {},
     "outputs": [
      {
       "html": [
        "<div style=\"max-height:1000px;max-width:1500px;overflow:auto;\">\n",
        "<table border=\"1\" class=\"dataframe\">\n",
        "  <thead>\n",
        "    <tr style=\"text-align: right;\">\n",
        "      <th></th>\n",
        "      <th></th>\n",
        "      <th>C</th>\n",
        "      <th>D</th>\n",
        "    </tr>\n",
        "    <tr>\n",
        "      <th>A</th>\n",
        "      <th>B</th>\n",
        "      <th></th>\n",
        "      <th></th>\n",
        "    </tr>\n",
        "  </thead>\n",
        "  <tbody>\n",
        "    <tr>\n",
        "      <th rowspan=\"3\" valign=\"top\">bar</th>\n",
        "      <th>one</th>\n",
        "      <td> 1</td>\n",
        "      <td> 11</td>\n",
        "    </tr>\n",
        "    <tr>\n",
        "      <th>three</th>\n",
        "      <td> 3</td>\n",
        "      <td> 13</td>\n",
        "    </tr>\n",
        "    <tr>\n",
        "      <th>two</th>\n",
        "      <td> 5</td>\n",
        "      <td> 15</td>\n",
        "    </tr>\n",
        "    <tr>\n",
        "      <th rowspan=\"3\" valign=\"top\">foo</th>\n",
        "      <th>one</th>\n",
        "      <td> 6</td>\n",
        "      <td> 26</td>\n",
        "    </tr>\n",
        "    <tr>\n",
        "      <th>three</th>\n",
        "      <td> 7</td>\n",
        "      <td> 17</td>\n",
        "    </tr>\n",
        "    <tr>\n",
        "      <th>two</th>\n",
        "      <td> 6</td>\n",
        "      <td> 26</td>\n",
        "    </tr>\n",
        "  </tbody>\n",
        "</table>\n",
        "</div>"
       ],
       "metadata": {},
       "output_type": "pyout",
       "prompt_number": 59,
       "text": [
        "           C   D\n",
        "A   B           \n",
        "bar one    1  11\n",
        "    three  3  13\n",
        "    two    5  15\n",
        "foo one    6  26\n",
        "    three  7  17\n",
        "    two    6  26"
       ]
      }
     ],
     "prompt_number": 59
    },
    {
     "cell_type": "code",
     "collapsed": false,
     "input": [],
     "language": "python",
     "metadata": {},
     "outputs": []
    }
   ],
   "metadata": {}
  }
 ]
}