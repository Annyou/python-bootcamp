{
 "cells": [
  {
   "cell_type": "markdown",
   "metadata": {},
   "source": [
    "# Analyzing supernova light curves"
   ]
  },
  {
   "cell_type": "markdown",
   "metadata": {},
   "source": [
    "### Download data"
   ]
  },
  {
   "cell_type": "code",
   "execution_count": 1,
   "metadata": {
    "collapsed": true
   },
   "outputs": [],
   "source": [
    "from urllib.request import urlopen\n",
    "import os"
   ]
  },
  {
   "cell_type": "code",
   "execution_count": 1,
   "metadata": {
    "collapsed": true
   },
   "outputs": [],
   "source": [
    "def download_file(url, dst):\n",
    "    \"\"\"Download a file from `url`, save to `dst`\"\"\"\n",
    "\n",
    "    r = urlopen(url)\n",
    "    with open(dst, \"wb\") as f:\n",
    "        f.write(r.read())"
   ]
  },
  {
   "cell_type": "code",
   "execution_count": 2,
   "metadata": {
    "collapsed": true
   },
   "outputs": [],
   "source": [
    "# download some light curve data. See http://cdsarc.u-strasbg.fr/viz-bin/Cat?cat=J%2FA%2BA%2F523%2FA7\n",
    "snls_data_url = \"http://cdsarc.u-strasbg.fr/viz-bin/nph-Cat/fits?J%2FA%2BA%2F523%2FA7\"\n",
    "dst = \"sndata.fits\"\n",
    "if not os.path.exists(dst):\n",
    "    download_file(snls_data_url, dst)"
   ]
  },
  {
   "cell_type": "markdown",
   "metadata": {},
   "source": [
    "### Explore the file"
   ]
  },
  {
   "cell_type": "code",
   "execution_count": 21,
   "metadata": {
    "collapsed": false
   },
   "outputs": [],
   "source": [
    "import numpy as np\n",
    "from astropy.io import fits"
   ]
  },
  {
   "cell_type": "code",
   "execution_count": 8,
   "metadata": {
    "collapsed": false
   },
   "outputs": [],
   "source": [
    "# open the file\n",
    "hdulist = fits.open(\"sndata.fits\")"
   ]
  },
  {
   "cell_type": "code",
   "execution_count": 12,
   "metadata": {
    "collapsed": false
   },
   "outputs": [
    {
     "name": "stdout",
     "output_type": "stream",
     "text": [
      "Filename: sndata.fits\n",
      "No.    Name         Type      Cards   Dimensions   Format\n",
      "0    PRIMARY     PrimaryHDU      71   ()              \n",
      "1    table9.dat  TableHDU       128   285R x 21C   [A6, I2, I2, F6.3, A1, I2, I2, F6.3, I4, A10, A14, A10, F6.4, F6.4, A1, A13, F5.3, A4, A1, F10.6, F10.6]   \n",
      "2    table11.dat  TableHDU       106   277R x 20C   [A6, F7.4, F10.6, F10.7, F10.7, F10.7, F10.7, F10.7, F10.7, F10.7, F10.7, F10.6, F10.7, F10.7, F10.7, F10.7, F10.7, F10.7, F10.7, F10.7]   \n",
      "3    table10.dat  TableHDU        36   23726R x 5C   [A6, A1, F8.2, E11.5, E10.5]   \n"
     ]
    }
   ],
   "source": [
    "hdulist.info()"
   ]
  },
  {
   "cell_type": "code",
   "execution_count": 33,
   "metadata": {
    "collapsed": false
   },
   "outputs": [],
   "source": [
    "sne = np.asarray(hdulist[1].data)"
   ]
  },
  {
   "cell_type": "code",
   "execution_count": 34,
   "metadata": {
    "collapsed": false
   },
   "outputs": [
    {
     "data": {
      "text/plain": [
       "('SNLS',\n",
       " 'RAh',\n",
       " 'RAm',\n",
       " 'RAs',\n",
       " 'DE-',\n",
       " 'DEd',\n",
       " 'DEm',\n",
       " 'DEs',\n",
       " 'Date1',\n",
       " 'Dates',\n",
       " 'Tel',\n",
       " 'Type',\n",
       " 'z',\n",
       " 'e_z',\n",
       " 'r_z',\n",
       " 'Ref',\n",
       " 'E(B-V)',\n",
       " 'Phot',\n",
       " 'f_Phot',\n",
       " 'xf',\n",
       " 'yf')"
      ]
     },
     "execution_count": 34,
     "metadata": {},
     "output_type": "execute_result"
    }
   ],
   "source": [
    "sne.dtype.names"
   ]
  },
  {
   "cell_type": "code",
   "execution_count": 35,
   "metadata": {
    "collapsed": true
   },
   "outputs": [],
   "source": [
    "sndata = np.asarray(hdulist[3].data)"
   ]
  },
  {
   "cell_type": "code",
   "execution_count": 36,
   "metadata": {
    "collapsed": false
   },
   "outputs": [
    {
     "data": {
      "text/plain": [
       "('SNLS', 'Band', 'MJD', 'Flux', 'e_Flux')"
      ]
     },
     "execution_count": 36,
     "metadata": {},
     "output_type": "execute_result"
    }
   ],
   "source": [
    "sndata.dtype.names"
   ]
  },
  {
   "cell_type": "code",
   "execution_count": 37,
   "metadata": {
    "collapsed": false
   },
   "outputs": [
    {
     "data": {
      "text/plain": [
       "array([b'03D1ar', b'03D1ar', b'03D1ar', b'03D1ar', b'03D1ar'], \n",
       "      dtype='|S6')"
      ]
     },
     "execution_count": 37,
     "metadata": {},
     "output_type": "execute_result"
    }
   ],
   "source": [
    "sndata[\"SNLS\"][:5]"
   ]
  },
  {
   "cell_type": "code",
   "execution_count": null,
   "metadata": {
    "collapsed": true
   },
   "outputs": [],
   "source": []
  }
 ],
 "metadata": {
  "kernelspec": {
   "display_name": "Python 3",
   "language": "python",
   "name": "python3"
  },
  "language_info": {
   "codemirror_mode": {
    "name": "ipython",
    "version": 3
   },
   "file_extension": ".py",
   "mimetype": "text/x-python",
   "name": "python",
   "nbconvert_exporter": "python",
   "pygments_lexer": "ipython3",
   "version": "3.4.3"
  }
 },
 "nbformat": 4,
 "nbformat_minor": 0
}
