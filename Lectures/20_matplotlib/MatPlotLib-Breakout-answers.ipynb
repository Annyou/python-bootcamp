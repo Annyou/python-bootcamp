{
 "cells": [
  {
   "cell_type": "code",
   "execution_count": null,
   "metadata": {
    "collapsed": false
   },
   "outputs": [],
   "source": [
    "import pandas as pd\n",
    "import seaborn as sns\n",
    "%pylab inline"
   ]
  },
  {
   "cell_type": "markdown",
   "metadata": {},
   "source": [
    "<div class=\"exercise\">\n",
    "    \n",
    "Breakout Exercise #10\n",
    "============\n",
    "\n",
    "Problem 1\n",
    "--------\n",
    "\n",
    "Consider you have the following data in a text file (The file `data/stations.txt` contains the full dataset):\n",
    "\n",
    "    # Station  Lat    Long   Elev \n",
    "    BIRA    26.4840 87.2670 0.0120\n",
    "    BUNG    27.8771 85.8909 1.1910\n",
    "    GAIG    26.8380 86.6318 0.1660\n",
    "    HILE    27.0482 87.3242 2.0880\n",
    "    ... etc.\n",
    "    \n",
    "    \n",
    "These are the names of seismographic stations in the Himalaya, with their coordinates in degrees and elevations in kilometers.\n",
    "\n",
    "<b>\n",
    "\n",
    "- Make a scatter plot of all of these, using both the size and the color to (redundantly) encode elevation.  Label each station by its 4-letter code, and add a colorbar on the right that shows the color-elevation map.\n",
    "\n",
    "</b>\n",
    "\n",
    "**Tips**\n",
    "    \n",
    "* Use the ``matplotlib`` online documentation to learn about drawing the color bar. You will want to save the returned object from the ``scatter`` plotting call.\n",
    "    \n",
    "* To label each station with its 4-letter code you can loop through them all and ``annotate`` each.\n",
    "    "
   ]
  },
  {
   "cell_type": "code",
   "execution_count": null,
   "metadata": {
    "collapsed": false
   },
   "outputs": [],
   "source": [
    "with open('./data/stations.txt', 'r') as f:\n",
    "    data = f.readlines()\n",
    "data = [line.strip('\\n').split('\\t') for line in data]\n",
    "data = pd.DataFrame(data, columns=['name', 'lat', 'long', 'activity'])\n",
    "data[['lat', 'long', 'activity']] = data[['lat', 'long', 'activity']].astype(float) "
   ]
  },
  {
   "cell_type": "code",
   "execution_count": null,
   "metadata": {
    "collapsed": false
   },
   "outputs": [],
   "source": [
    "f, ax = plt.subplots(figsize=(20, 20))\n",
    "scat = ax.scatter(data['lat'], data['long'],\n",
    "           c=data['activity'], s=data['activity']*100,\n",
    "           cmap=plt.cm.rainbow)\n",
    "for ix, row in data.iterrows():\n",
    "    ax.annotate(row['name'], (row[['lat', 'long']].values),\n",
    "                xytext=(2, 5), textcoords='offset points')\n",
    "ax.set_ylabel('Latitude (deg)')\n",
    "ax.set_xlabel('Longitude (deg)')\n",
    "ax.set_title('Seismic stations in the himalayas')\n",
    "cbar = f.colorbar(scat)\n",
    "cbar.set_label('Elevation (km)')"
   ]
  },
  {
   "cell_type": "markdown",
   "metadata": {},
   "source": [
    "Problem 2\n",
    "---------\n",
    "\n",
    "Write a notebook where you can load the image ``data/dessert.png`` and then perform the following operations on it:\n",
    "\n",
    "<b>\n",
    "\n",
    "- Create a figure with four plots that show both the full-color image and color channel of the image with the right colormap for that color. Ensure that the axes are linked so zooming in one image zooms the same region in the others.\n",
    "\n",
    "- Compute a luminosity and per-channel histogram and display all four histograms in one figure, giving each a separate plot (hint: a 4x1 plot works best for this). Link the appropriate axes together.\n",
    "\n",
    "- Create a black-and-white (or more precisely, grayscale) version of the image. Compare the results from a naive average of all three channels with that of a model that uses 30% red, 59% green and 11% blue, by displaying all three (full color and both grayscales) side by side with linked axes for zooming.\n",
    "</b>\n",
    "\n",
    "**Tips**\n",
    "    \n",
    "* ``matplotlib`` image tutorial: http://matplotlib.org/users/image_tutorial.html"
   ]
  },
  {
   "cell_type": "code",
   "execution_count": null,
   "metadata": {
    "collapsed": false
   },
   "outputs": [],
   "source": [
    "img = plt.imread('./data/dessert.png')\n",
    "f, axs = plt.subplots(1, 4, sharey=True, sharex=True)\n",
    "img = img[::-1, ...]\n",
    "axs[0].imshow(img)\n",
    "cols = [plt.cm.Reds, plt.cm.Greens, plt.cm.Blues]\n",
    "for i, (ax, col) in enumerate(zip(axs[1:], cols)):\n",
    "    ax.imshow(img[:, :, i], cmap=col)\n",
    "\n",
    "for ax in axs:\n",
    "    ax.grid(False)"
   ]
  },
  {
   "cell_type": "code",
   "execution_count": null,
   "metadata": {
    "collapsed": false
   },
   "outputs": [],
   "source": [
    "f, axs = plt.subplots(1, 4, sharex=True, sharey=True)\n",
    "cols = ['k', 'r', 'g', 'b']\n",
    "lum = img.mean(-1)\n",
    "axs[0].hist(lum.ravel(), normed=True, color=cols[0])\n",
    "for i, ax in enumerate(axs[1:]):\n",
    "    chan = img[:, :, i]\n",
    "    col = cols[i+1]\n",
    "    ax.hist(chan.ravel(), normed=True, color=col)\n",
    "    \n",
    "for ax, col in zip(axs, cols):\n",
    "    ax.patches"
   ]
  },
  {
   "cell_type": "code",
   "execution_count": null,
   "metadata": {
    "collapsed": false
   },
   "outputs": [],
   "source": [
    "grey_simple = img.mean(-1)\n",
    "weights = np.array([.3, .59, .11])\n",
    "grey_weighted = (img * weights).mean(-1)\n",
    "\n",
    "f, axs = plt.subplots(1, 3, figsize=(15, 10), sharex=True, sharey=True)\n",
    "for ax, imdat in zip(axs, [img, grey_simple, grey_weighted]):\n",
    "    ax.imshow(imdat)"
   ]
  },
  {
   "cell_type": "markdown",
   "metadata": {},
   "source": [
    "#### Problem 3 - Exploring the matplotlib gallery\n",
    "\n",
    "Have a look at the matplotlib gallery, find a cool looking figure, copy the code\n",
    "into the box below, and modify it. Note that some of the examples might require packages that\n",
    "are not installed on your machine (in particular those that make maps) -\n",
    "if this is the case, pick another example for the purposes of this exercise.\n",
    "\n",
    "In IPython, you can use the \"load magic\". Type %loadpy and then the URL of the py file containing the\n",
    "code, and it will automatically copy it into a cell below. Run the cell with the code to see the\n",
    "figure."
   ]
  },
  {
   "cell_type": "code",
   "execution_count": null,
   "metadata": {
    "collapsed": true
   },
   "outputs": [],
   "source": [
    "# %load http://matplotlib.org/mpl_examples/pylab_examples/contour_demo.py"
   ]
  },
  {
   "cell_type": "markdown",
   "metadata": {},
   "source": [
    "## Problem 4\n",
    "We've collected some data about tipping behavior from many people. Explore this dataset and see if there's anything to conclude.\n",
    "\n",
    "**In Pandas**\n",
    "* Read in the data at `./data/tips.csv` using pandas\n",
    "* Using pandas, plot the total bill amount vs. the size of the tip\n",
    "* Using pandas, plot a histogram of tip values so we see its distribution\n",
    "* Modify the histogram so only the first and last xticklabel is displayed\n",
    "\n",
    "**In Seaborn**\n",
    "* Create a \"violinplot\" to see the distribution of tips for males vs. females. Plot each day on the x-axis, and the distributions along the y-axis. Make the color dependent on the gender of the person. *HINT: Use \"split=True\" to plot the distributions alongside one another*\n",
    "* Plot the same data, but now as a mean tip amount +/- errorbars rather than the full distribution. *HINT: Use `factorplot`*\n",
    "* Regress the `total_bill` amount against the `tip` to see what the relationship is. Plot one regression line + scatterplot for each gender."
   ]
  },
  {
   "cell_type": "code",
   "execution_count": null,
   "metadata": {
    "collapsed": true
   },
   "outputs": [],
   "source": [
    "data = pd.read_csv('./data/tips.csv')"
   ]
  },
  {
   "cell_type": "code",
   "execution_count": null,
   "metadata": {
    "collapsed": false
   },
   "outputs": [],
   "source": [
    "# First make a scatterplot of the\n",
    "# total bill price and size of the party using pandas\n",
    "f, ax = plt.subplots()\n",
    "data.plot('total_bill', 'size', kind='scatter', ax=ax)\n",
    "\n",
    "# Plot a histogram of tip values so we get an idea of its distribution\n",
    "# Use bin sizes of length .5. Remove all middle tick labels\n",
    "f, ax = plt.subplots()\n",
    "ax = data['tip'].hist(bins=np.arange(0, 20, .5), ax=ax)\n",
    "labs = ax.get_xticklabels()\n",
    "plt.setp(labs, visible=False)\n",
    "plt.setp([labs[i] for i in [0, -1]], visible=True)"
   ]
  },
  {
   "cell_type": "code",
   "execution_count": null,
   "metadata": {
    "collapsed": false
   },
   "outputs": [],
   "source": [
    "# Create a \"violin plot\" to display the distribution of tips.\n",
    "# One column per day of the week, split by gender.\n",
    "f, axs = plt.subplots(3, 1, figsize=(10, 15))\n",
    "sns.violinplot('day', 'tip', data=data, hue='sex', ax=axs[0], split=True)\n",
    "\n",
    "# Plot the mean tip size by day with error bars as a bar plot\n",
    "# One color per gender, one pair of bars per day\n",
    "sns.factorplot(x=\"tip\", y=\"day\", hue=\"sex\", data=data,\n",
    "               size=6, kind=\"bar\", ax=axs[1])\n",
    "\n",
    "# Display a scatterplot and fit a regression model to show how tips scale\n",
    "# with the size of the bill\n",
    "for sex, vals in data.groupby('sex'):\n",
    "    sns.regplot('total_bill', 'tip', data=vals, ax=axs[2])"
   ]
  }
 ],
 "metadata": {
  "kernelspec": {
   "display_name": "Python 3",
   "language": "python",
   "name": "python3"
  },
  "language_info": {
   "codemirror_mode": {
    "name": "ipython",
    "version": 3
   },
   "file_extension": ".py",
   "mimetype": "text/x-python",
   "name": "python",
   "nbconvert_exporter": "python",
   "pygments_lexer": "ipython3",
   "version": "3.4.3"
  }
 },
 "nbformat": 4,
 "nbformat_minor": 0
}
