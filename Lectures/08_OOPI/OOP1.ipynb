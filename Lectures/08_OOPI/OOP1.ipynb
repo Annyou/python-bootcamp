{
 "metadata": {
  "name": ""
 },
 "nbformat": 3,
 "nbformat_minor": 0,
 "worksheets": [
  {
   "cells": [
    {
     "cell_type": "markdown",
     "metadata": {
      "slideshow": {
       "slide_type": "slide"
      }
     },
     "source": [
      "<p class=\"title\">Object-Oriented Programming I</p>\n",
      "\n",
      "<p class=\"subtitle\">Classes, Attributes, Methods, and Instances</p>\n",
      "\n",
      "<center>\n",
      "\n",
      "<p class=\"gap05\"><p>\n",
      "<h2>Python Boot Camp</h2>\n",
      "<h2>August 26th, 2013</h2>\n",
      "\n",
      "<p class=\"gap05\"><p>\n",
      "<h3>Dan Coates</h3>\n",
      "<h3>http://www.ocf.berkeley.edu/~dcoates/</h3>\n",
      "<h3>Vision Science Graduate Program, UC Berkeley</h3>\n",
      "\n",
      "<p class=\"gap2\"><p>\n",
      "</center>"
     ]
    },
    {
     "cell_type": "code",
     "collapsed": false,
     "input": [
      "%pylab inline\n",
      "%run talktools\n",
      "%run oop1_plots"
     ],
     "language": "python",
     "metadata": {
      "slideshow": {
       "slide_type": "-"
      }
     },
     "outputs": []
    },
    {
     "cell_type": "markdown",
     "metadata": {
      "slideshow": {
       "slide_type": "slide"
      }
     },
     "source": [
      "## Goals\n",
      "\n",
      "What I'll try to demonstrate:\n",
      "\n",
      "- What Object-Oriented Programming (OOP) is\n",
      "- Why you should care\n",
      "- How it works in Python"
     ]
    },
    {
     "cell_type": "markdown",
     "metadata": {
      "slideshow": {
       "slide_type": "slide"
      }
     },
     "source": [
      "## Procedural Programming (vs. OOP)\n",
      "\n",
      "- Data and code are separate\n",
      "- Scripts are sequences of function calls that operate on data"
     ]
    },
    {
     "cell_type": "code",
     "collapsed": false,
     "input": [
      "Procedural_programming()"
     ],
     "language": "python",
     "metadata": {
      "slideshow": {
       "slide_type": "slide"
      }
     },
     "outputs": []
    },
    {
     "cell_type": "code",
     "collapsed": false,
     "input": [
      "Function1()"
     ],
     "language": "python",
     "metadata": {
      "slideshow": {
       "slide_type": "slide"
      }
     },
     "outputs": []
    },
    {
     "cell_type": "code",
     "collapsed": false,
     "input": [
      "Function2()"
     ],
     "language": "python",
     "metadata": {
      "slideshow": {
       "slide_type": "slide"
      }
     },
     "outputs": []
    },
    {
     "cell_type": "markdown",
     "metadata": {
      "slideshow": {
       "slide_type": "slide"
      }
     },
     "source": [
      "## Object-oriented programming\n",
      "\n",
      "- Combine data and methods into 'entities'\n",
      "- OOP sometimes described as <i>anthropomorphic</i>\n",
      "- Rather than being static data, class <i>instances</i> contain variables (called <i>attributes</i>), as well as functions (or <i>methods</i>)"
     ]
    },
    {
     "cell_type": "code",
     "collapsed": false,
     "input": [
      "Objects()"
     ],
     "language": "python",
     "metadata": {
      "slideshow": {
       "slide_type": "slide"
      }
     },
     "outputs": []
    },
    {
     "cell_type": "markdown",
     "metadata": {
      "slideshow": {
       "slide_type": "slide"
      }
     },
     "source": [
      "## Advantages of OOP\n",
      "\n",
      "\n",
      "(Might be hard to imagine these benefits right now, but trust us...)\n",
      "\n",
      "- Encapsulation hides implementation details so you can forget more\n",
      "- Code is organized intuitively\n",
      "- Reuse is straightforward\n",
      "- Modularity forces good programming habits\n",
      "\n",
      "\n",
      "<h3>AND: You'll find that nearly everything in Python is an Object!</h3>"
     ]
    },
    {
     "cell_type": "markdown",
     "metadata": {
      "slideshow": {
       "slide_type": "slide"
      }
     },
     "source": [
      "<img style=\"float: left\" src=\"files/anchorman.png\" width=\"65%\">"
     ]
    },
    {
     "cell_type": "markdown",
     "metadata": {
      "slideshow": {
       "slide_type": "slide"
      }
     },
     "source": [
      "## Smarter than the average var(iable)\n",
      "<img style=\"float: left\" src=\"files/oski.png\" width=\"30%\">\n",
      "\n",
      "<i>Characteristics</i> --> Name, Color, Height, Weight\n",
      "<p class=\"gap05\"<p>\n",
      "<i>Does Things</i> ---> Eat, Sleep, Growl, Cheer\n",
      "<p class=\"gap05\"<p>\n",
      "<i>Interaction</i> ---> Parents, siblings, friends<p class=\"gap05\"<p>"
     ]
    },
    {
     "cell_type": "markdown",
     "metadata": {
      "slideshow": {
       "slide_type": "slide"
      }
     },
     "source": [
      "The \"blueprint\" class for bear:\n",
      "<p class=\"object\">\n",
      "<b><u>Bear:</u></b><br>\n",
      "- Attributes: name, color, height, weight<br>\n",
      "- Methods: eat(), sleep(), growl()\n",
      "</p>"
     ]
    },
    {
     "cell_type": "markdown",
     "metadata": {
      "slideshow": {
       "slide_type": "slide"
      }
     },
     "source": [
      "Two <i>instances</i> of bears:\n",
      "\n",
      "<p class=\"instance\">\n",
      "<b>Yogi:</b><br>\n",
      "- Attributes: \"Yogi\", brown, 1.8m, 80kg<br>\n",
      "- Methods: eat(), sleep(), growl()\n",
      "</p>\n",
      "\n",
      "<p class=\"instance\">\n",
      "<b>Winnie:</b><br>\n",
      "- Attributes: \"Winnie\", yellow, 1.2m, 100kg<br>\n",
      "- Methods: eat(), sleep(), growl()\n",
      "</p>"
     ]
    },
    {
     "cell_type": "markdown",
     "metadata": {
      "slideshow": {
       "slide_type": "slide"
      }
     },
     "source": [
      "##Python class definition syntax\n",
      "<hr>\n",
      "<code>class ClassName[(BaseClasses)]:\n",
      "    <p class='comment'>\"\"\"[Documentation String]\"\"\"</p>\n",
      "    [Statement1] <p class='comment'># Executed only when class is defined</p>\n",
      "    [Statement2]\n",
      "    ...\n",
      "    [Variable1] <p class='comment'># Class 'global' variables can be defined here</p>   \n",
      "    def Method1(self, args, kwargs={}):\n",
      "        <p class='comment'># Performs task 1</p>       \n",
      "    def Method2(self, args, kwargs={}):\n",
      "        <p class='comment'># Performs task 2</p>\n",
      "    ...\n",
      "</code>"
     ]
    },
    {
     "cell_type": "markdown",
     "metadata": {
      "slideshow": {
       "slide_type": "slide"
      }
     },
     "source": [
      "<img style=\"float: left\" src=\"files/anchorman2.png\" width=\"80%\">"
     ]
    },
    {
     "cell_type": "markdown",
     "metadata": {},
     "source": [
      "Go Live!\n",
      "##Simple bear class, attributes and methods"
     ]
    },
    {
     "cell_type": "code",
     "collapsed": false,
     "input": [
      "class Bear:\n",
      "    print \"the bear class is now defined.\""
     ],
     "language": "python",
     "metadata": {
      "slideshow": {
       "slide_type": "-"
      }
     },
     "outputs": []
    },
    {
     "cell_type": "code",
     "collapsed": false,
     "input": [
      "a=Bear # this is not generally useful: we don't often reference the class itself\n",
      "a"
     ],
     "language": "python",
     "metadata": {
      "slideshow": {
       "slide_type": "-"
      }
     },
     "outputs": []
    },
    {
     "cell_type": "code",
     "collapsed": false,
     "input": [
      "a=Bear() # that's more like it! This creates a new *instance* of the class\n",
      "a"
     ],
     "language": "python",
     "metadata": {
      "slideshow": {
       "slide_type": "-"
      }
     },
     "outputs": []
    },
    {
     "cell_type": "code",
     "collapsed": false,
     "input": [
      "a.name = \"Oski\" # In Python, we can add attributes to the instance on-the-fly\n",
      "a.color = \"Brown\"\n",
      "print a.name # Does he know who he is?"
     ],
     "language": "python",
     "metadata": {},
     "outputs": []
    },
    {
     "cell_type": "code",
     "collapsed": true,
     "input": [
      "a."
     ],
     "language": "python",
     "metadata": {},
     "outputs": []
    },
    {
     "cell_type": "code",
     "collapsed": false,
     "input": [
      "class Bear:\n",
      "    print \"The bear class is now defined.\"\n",
      "    def say_hello(self): #don't worry about the 'self' just yet...\n",
      "        print \"Hello, world! I am a bear.\"\n"
     ],
     "language": "python",
     "metadata": {},
     "outputs": []
    },
    {
     "cell_type": "code",
     "collapsed": false,
     "input": [
      "a=Bear()\n",
      "a.say_hello()"
     ],
     "language": "python",
     "metadata": {},
     "outputs": []
    },
    {
     "cell_type": "markdown",
     "metadata": {},
     "source": [
      "##The \\_\\_init\\_\\_() method\n",
      "\\_\\_init\\_\\_() is a special method automatically called when a new instance is created.<br>\n",
      "It can specify necessary initialization parameters.\n",
      "<br><br>\n",
      "<code>\"self\"</code> is a special identifier used inside a method to refer to the particular instance of the class. <code>self</code> is not explicitly passed in when accessed through an object instance; Python takes care of that bookkeeping."
     ]
    },
    {
     "cell_type": "code",
     "collapsed": false,
     "input": [
      "class Bear:\n",
      "    def __init__(self, name):\n",
      "        self.name = name\n",
      "        print \"A bear is born.\"\n",
      "    def say_hello(self):\n",
      "        print \"Hello, world! I am a bear.\"\n",
      "        print \"My name is %s.\" % self.name"
     ],
     "language": "python",
     "metadata": {},
     "outputs": []
    },
    {
     "cell_type": "code",
     "collapsed": true,
     "input": [
      "a=Bear()"
     ],
     "language": "python",
     "metadata": {},
     "outputs": []
    },
    {
     "cell_type": "code",
     "collapsed": false,
     "input": [
      "a=Bear(\"Judge\")"
     ],
     "language": "python",
     "metadata": {},
     "outputs": []
    },
    {
     "cell_type": "code",
     "collapsed": false,
     "input": [
      "a.say_hello()"
     ],
     "language": "python",
     "metadata": {},
     "outputs": []
    },
    {
     "cell_type": "code",
     "collapsed": true,
     "input": [
      "a.name"
     ],
     "language": "python",
     "metadata": {},
     "outputs": []
    },
    {
     "cell_type": "markdown",
     "metadata": {},
     "source": [
      "## Global class variables, versus object instance attributes"
     ]
    },
    {
     "cell_type": "code",
     "collapsed": false,
     "input": [
      "class Bear:\n",
      "    population=0\n",
      "    def __init__(self,name):\n",
      "        self.name=name\n",
      "        Bear.population += 1 # Increment the 'global' census counter, a class attribute\n",
      "        self.number=Bear.population # Copy the current number to our own object attribute\n",
      "    def say_hello(self):\n",
      "        print ('Hello, I am bear #%d/%d. My name is %s, prepare to...'%(self.number,Bear.population,self.name))\n",
      "\n",
      "a=Bear(\"Yogi\"); a.say_hello()"
     ],
     "language": "python",
     "metadata": {},
     "outputs": []
    },
    {
     "cell_type": "code",
     "collapsed": false,
     "input": [
      "b=Bear(\"Winnie\"); b.say_hello(); a.say_hello()"
     ],
     "language": "python",
     "metadata": {},
     "outputs": []
    },
    {
     "cell_type": "markdown",
     "metadata": {},
     "source": [
      "Here you can already see interesting and useful dynamic behavior: Yogi's say_hello() method 'knows' about other bear(s)."
     ]
    },
    {
     "cell_type": "markdown",
     "metadata": {},
     "source": [
      "## Calling a class method \"globally\", with an explicit instance"
     ]
    },
    {
     "cell_type": "code",
     "collapsed": false,
     "input": [
      "c = Bear(\"Fozzie\")\n",
      "Bear.say_hello(c) # calling the class 'directly' with an explicit reference to an object"
     ],
     "language": "python",
     "metadata": {},
     "outputs": []
    },
    {
     "cell_type": "code",
     "collapsed": false,
     "input": [],
     "language": "python",
     "metadata": {},
     "outputs": []
    }
   ],
   "metadata": {}
  }
 ]
}