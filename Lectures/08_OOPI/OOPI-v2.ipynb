{
 "cells": [
  {
   "cell_type": "markdown",
   "metadata": {
    "slideshow": {
     "slide_type": "slide"
    }
   },
   "source": [
    "# Object-oriented programming I"
   ]
  },
  {
   "cell_type": "markdown",
   "metadata": {
    "slideshow": {
     "slide_type": "slide"
    }
   },
   "source": [
    "## What's an \"object\"?\n",
    "\n",
    "In Python, an *object* is a value with zero or more *attributes* and *methods*.\n",
    "\n",
    "For example: An floating point number is an object."
   ]
  },
  {
   "cell_type": "code",
   "execution_count": null,
   "metadata": {
    "collapsed": true,
    "slideshow": {
     "slide_type": "slide"
    }
   },
   "outputs": [],
   "source": [
    "x = 10.0"
   ]
  },
  {
   "cell_type": "markdown",
   "metadata": {
    "slideshow": {
     "slide_type": "-"
    }
   },
   "source": [
    "Here are some attributes it has:"
   ]
  },
  {
   "cell_type": "code",
   "execution_count": null,
   "metadata": {
    "collapsed": false
   },
   "outputs": [],
   "source": [
    "x.real"
   ]
  },
  {
   "cell_type": "code",
   "execution_count": null,
   "metadata": {
    "collapsed": false
   },
   "outputs": [],
   "source": [
    "x.imag"
   ]
  },
  {
   "cell_type": "markdown",
   "metadata": {},
   "source": [
    "And here's a method:"
   ]
  },
  {
   "cell_type": "code",
   "execution_count": null,
   "metadata": {
    "collapsed": false
   },
   "outputs": [],
   "source": [
    "x.as_integer_ratio()"
   ]
  },
  {
   "cell_type": "code",
   "execution_count": null,
   "metadata": {
    "collapsed": false,
    "slideshow": {
     "slide_type": "slide"
    }
   },
   "outputs": [],
   "source": [
    "(1 / 3).as_integer_ratio()"
   ]
  },
  {
   "cell_type": "markdown",
   "metadata": {
    "slideshow": {
     "slide_type": "slide"
    }
   },
   "source": [
    "A list is an object. We learned about some of its methods yesterday:"
   ]
  },
  {
   "cell_type": "code",
   "execution_count": null,
   "metadata": {
    "collapsed": true
   },
   "outputs": [],
   "source": [
    "l = [1, 2, 3]"
   ]
  },
  {
   "cell_type": "code",
   "execution_count": null,
   "metadata": {
    "collapsed": true
   },
   "outputs": [],
   "source": [
    "l.append(4)"
   ]
  },
  {
   "cell_type": "code",
   "execution_count": null,
   "metadata": {
    "collapsed": false
   },
   "outputs": [],
   "source": [
    "l"
   ]
  },
  {
   "cell_type": "code",
   "execution_count": null,
   "metadata": {
    "collapsed": false
   },
   "outputs": [],
   "source": [
    "l.pop(0)"
   ]
  },
  {
   "cell_type": "code",
   "execution_count": null,
   "metadata": {
    "collapsed": false
   },
   "outputs": [],
   "source": [
    "l"
   ]
  },
  {
   "cell_type": "markdown",
   "metadata": {},
   "source": [
    "A set is also an object.\n",
    "\n",
    "Some of its methods have the same name as methods that list has, but if you call them on a set object then they do set things instead of list things."
   ]
  },
  {
   "cell_type": "code",
   "execution_count": null,
   "metadata": {
    "collapsed": false
   },
   "outputs": [],
   "source": [
    "s = {\"value1\", \"value2\", \"value3\"}\n",
    "s.pop()"
   ]
  },
  {
   "cell_type": "code",
   "execution_count": null,
   "metadata": {
    "collapsed": false
   },
   "outputs": [],
   "source": [
    "s"
   ]
  },
  {
   "cell_type": "markdown",
   "metadata": {},
   "source": [
    "A numpy array is an object. It has both attributes and methods:"
   ]
  },
  {
   "cell_type": "code",
   "execution_count": null,
   "metadata": {
    "collapsed": false
   },
   "outputs": [],
   "source": [
    "import numpy as np\n",
    "a = np.zeros((2, 3))\n",
    "\n",
    "# Attributes\n",
    "print(\"a.shape:\", a.shape)\n",
    "print(\"a.size:\", a.size)\n",
    "\n",
    "# Methods\n",
    "print(\"a.sum():\", a.sum())"
   ]
  },
  {
   "cell_type": "markdown",
   "metadata": {},
   "source": [
    "Of course, all of these different objects act pretty differently from each other.\n",
    "\n",
    "To make it easier to keep track of all the different ways that objects can act, we divide them into *types*, also known as *classes*.\n",
    "\n",
    "Terminology: Every *object* is an *instance* of a *class*.\n",
    "\n",
    "For example, all floating point numbers are instances of type `float`:"
   ]
  },
  {
   "cell_type": "code",
   "execution_count": null,
   "metadata": {
    "collapsed": false
   },
   "outputs": [],
   "source": [
    "type(10.0)"
   ]
  },
  {
   "cell_type": "code",
   "execution_count": null,
   "metadata": {
    "collapsed": false
   },
   "outputs": [],
   "source": [
    "type(1 / 3)"
   ]
  },
  {
   "cell_type": "code",
   "execution_count": null,
   "metadata": {
    "collapsed": false
   },
   "outputs": [],
   "source": [
    "isinstance(10.0, float)"
   ]
  },
  {
   "cell_type": "markdown",
   "metadata": {},
   "source": [
    "And all lists are instances of type `list`:"
   ]
  },
  {
   "cell_type": "code",
   "execution_count": null,
   "metadata": {
    "collapsed": false
   },
   "outputs": [],
   "source": [
    "type([1, 2, 3])"
   ]
  },
  {
   "cell_type": "code",
   "execution_count": null,
   "metadata": {
    "collapsed": false
   },
   "outputs": [],
   "source": [
    "type([3, 2, 1])"
   ]
  },
  {
   "cell_type": "code",
   "execution_count": null,
   "metadata": {
    "collapsed": false
   },
   "outputs": [],
   "source": [
    "isinstance([1, 2, 3], float)"
   ]
  },
  {
   "cell_type": "code",
   "execution_count": null,
   "metadata": {
    "collapsed": false
   },
   "outputs": [],
   "source": [
    "isinstance([1, 2, 3], list)"
   ]
  },
  {
   "cell_type": "markdown",
   "metadata": {},
   "source": [
    "## What's an object? -> In Python: *literally everything*"
   ]
  },
  {
   "cell_type": "markdown",
   "metadata": {},
   "source": [
    "Some other things that Python considers to be \"objects\""
   ]
  },
  {
   "cell_type": "code",
   "execution_count": null,
   "metadata": {
    "collapsed": false
   },
   "outputs": [],
   "source": [
    "# Modules\n",
    "np.sum\n",
    "print(type(np))"
   ]
  },
  {
   "cell_type": "code",
   "execution_count": null,
   "metadata": {
    "collapsed": false
   },
   "outputs": [],
   "source": [
    "# Functions\n",
    "def f():\n",
    "    return 1\n",
    "\n",
    "print(f.__name__)\n",
    "print(type(f))"
   ]
  },
  {
   "cell_type": "code",
   "execution_count": null,
   "metadata": {
    "collapsed": false
   },
   "outputs": [],
   "source": [
    "# Classes themselves (!)\n",
    "print(type(type(10.0)))\n",
    "print(type(float))\n",
    "print(type(list))"
   ]
  },
  {
   "cell_type": "code",
   "execution_count": null,
   "metadata": {
    "collapsed": true
   },
   "outputs": [],
   "source": [
    "# Literally everything else too"
   ]
  },
  {
   "cell_type": "markdown",
   "metadata": {},
   "source": [
    "## Now we understand \"objects\"\n",
    "\n",
    "## ...what's \"object-oriented programming\"?\n",
    "\n",
    "### Digression: Python can't do math"
   ]
  },
  {
   "cell_type": "code",
   "execution_count": null,
   "metadata": {
    "collapsed": false
   },
   "outputs": [],
   "source": [
    "(1 / 10) + (2 / 10) == (3 / 10)"
   ]
  },
  {
   "cell_type": "code",
   "execution_count": null,
   "metadata": {
    "collapsed": false
   },
   "outputs": [],
   "source": [
    "3 / 10"
   ]
  },
  {
   "cell_type": "code",
   "execution_count": null,
   "metadata": {
    "collapsed": false
   },
   "outputs": [],
   "source": [
    "(1 / 10) + (2 / 10)"
   ]
  },
  {
   "cell_type": "code",
   "execution_count": null,
   "metadata": {
    "collapsed": false
   },
   "outputs": [],
   "source": [
    "(1 / 10).as_integer_ratio()"
   ]
  },
  {
   "cell_type": "markdown",
   "metadata": {},
   "source": [
    "Standard/proper solution: never use `==` on floating point!\n",
    "\n",
    "Our pig-headed solution: let's represent numbers as (numerator, denominator), so we can do exact arithmetic!\n",
    "\n",
    "### Traditional 1960s approach: *procedural programming*\n",
    "\n",
    "*Define your own \"procedures\" (= functions), while using the types the language gives you*"
   ]
  },
  {
   "cell_type": "code",
   "execution_count": null,
   "metadata": {
    "collapsed": true
   },
   "outputs": [],
   "source": [
    "one_over_ten = [1, 10]\n",
    "two_over_ten = [2, 10]"
   ]
  },
  {
   "cell_type": "markdown",
   "metadata": {},
   "source": [
    "Formula for adding two fractions:\n",
    "\n",
    "$$\\frac{a_0}{a_1} + \\frac{b_0}{b_1} = \\frac{b_1 \\cdot a_0 + a_1 \\cdot b_0}{a_1 \\cdot b_1}$$"
   ]
  },
  {
   "cell_type": "code",
   "execution_count": null,
   "metadata": {
    "collapsed": true
   },
   "outputs": [],
   "source": [
    "def fractions_add(a, b):\n",
    "    return [b[1] * a[0] + a[1] * b[0], a[1] * b[1]]"
   ]
  },
  {
   "cell_type": "code",
   "execution_count": null,
   "metadata": {
    "collapsed": false
   },
   "outputs": [],
   "source": [
    "fractions_add([1, 2], [1, 3])"
   ]
  },
  {
   "cell_type": "markdown",
   "metadata": {},
   "source": [
    "Formula for checking that two fractions are equal:\n",
    "\n",
    "$$ \\frac{a_0}{a_1} = \\frac{b_0}{b_1} $$\n",
    "\n",
    "if and only if\n",
    "\n",
    "$$ a_0 \\cdot b_1 = b_1 \\cdot a_0 $$"
   ]
  },
  {
   "cell_type": "code",
   "execution_count": null,
   "metadata": {
    "collapsed": true
   },
   "outputs": [],
   "source": [
    "def fractions_equal(a, b):\n",
    "    return a[0] * b[1] == a[1] * b[0]"
   ]
  },
  {
   "cell_type": "code",
   "execution_count": null,
   "metadata": {
    "collapsed": false
   },
   "outputs": [],
   "source": [
    "fractions_equal([1, 2], [2, 4])"
   ]
  },
  {
   "cell_type": "markdown",
   "metadata": {},
   "source": [
    "Now Python can do math:"
   ]
  },
  {
   "cell_type": "code",
   "execution_count": null,
   "metadata": {
    "collapsed": false
   },
   "outputs": [],
   "source": [
    "fractions_equal(fractions_add([1, 10], [2, 10]),\n",
    "                [3, 10])"
   ]
  },
  {
   "cell_type": "markdown",
   "metadata": {},
   "source": [
    "## Problem: keeping track of these weird lists and weird function names is really annoying\n",
    "\n",
    "Python already has multiple different classes that it uses to represent numbers, like `int`, `float`, `complex`, and they're easy to use because they just act like numbers. **Wouldn't it be nice** if there were a fraction type that was just as easy to use?\n",
    "\n",
    "## Solution: *Object-oriented programming*\n",
    "\n",
    "*Make your own types!*"
   ]
  },
  {
   "cell_type": "code",
   "execution_count": null,
   "metadata": {
    "collapsed": false
   },
   "outputs": [],
   "source": [
    "class Fraction:   # <-- by convention, user-defined classes are Always Capitalized\n",
    "    \"A fraction, represented as a numerator and a denominator.\"\n",
    "    \n",
    "    print(\"New class being created!\")"
   ]
  },
  {
   "cell_type": "code",
   "execution_count": null,
   "metadata": {
    "collapsed": false
   },
   "outputs": [],
   "source": [
    "Fraction"
   ]
  },
  {
   "cell_type": "code",
   "execution_count": null,
   "metadata": {
    "collapsed": false
   },
   "outputs": [],
   "source": [
    "f = Fraction\n",
    "f"
   ]
  },
  {
   "cell_type": "code",
   "execution_count": null,
   "metadata": {
    "collapsed": false
   },
   "outputs": [],
   "source": [
    "f = Fraction()\n",
    "f"
   ]
  },
  {
   "cell_type": "code",
   "execution_count": null,
   "metadata": {
    "collapsed": false
   },
   "outputs": [],
   "source": [
    "isinstance(f, Fraction)"
   ]
  },
  {
   "cell_type": "code",
   "execution_count": null,
   "metadata": {
    "collapsed": false
   },
   "outputs": [],
   "source": [
    "float(\"1.0\")"
   ]
  },
  {
   "cell_type": "markdown",
   "metadata": {},
   "source": [
    "### Methods"
   ]
  },
  {
   "cell_type": "code",
   "execution_count": null,
   "metadata": {
    "collapsed": false
   },
   "outputs": [],
   "source": [
    "class Fraction:\n",
    "    print(\"New class being created!\")\n",
    "    \n",
    "    def say_hello(self):  # we'll explain 'self' in a minute...\n",
    "        print(\"Hello from a fraction!\")"
   ]
  },
  {
   "cell_type": "code",
   "execution_count": null,
   "metadata": {
    "collapsed": false
   },
   "outputs": [],
   "source": [
    "f = Fraction()\n",
    "f.say_hello()"
   ]
  },
  {
   "cell_type": "markdown",
   "metadata": {},
   "source": [
    "When you write `x.foo`:\n",
    "\n",
    "* First Python checks if `x` has a `foo` attribute\n",
    "* If not, then it checks to see if `type(x)` has a `foo` attribute\n",
    "  * And possibly applies some magic, like filling in the `self` argument"
   ]
  },
  {
   "cell_type": "code",
   "execution_count": null,
   "metadata": {
    "collapsed": false
   },
   "outputs": [],
   "source": [
    "class Fraction:\n",
    "    print(\"New class being created!\")\n",
    "    \n",
    "    def say_hello(self):\n",
    "        print(\"Hello from:\", self)"
   ]
  },
  {
   "cell_type": "code",
   "execution_count": null,
   "metadata": {
    "collapsed": true
   },
   "outputs": [],
   "source": [
    "f = Fraction()"
   ]
  },
  {
   "cell_type": "code",
   "execution_count": null,
   "metadata": {
    "collapsed": false
   },
   "outputs": [],
   "source": [
    "print(f)"
   ]
  },
  {
   "cell_type": "code",
   "execution_count": null,
   "metadata": {
    "collapsed": false
   },
   "outputs": [],
   "source": [
    "# If we access 'say_hello' directly from the Class, then we get the regular function\n",
    "Fraction.say_hello"
   ]
  },
  {
   "cell_type": "code",
   "execution_count": null,
   "metadata": {
    "collapsed": false
   },
   "outputs": [],
   "source": [
    "Fraction.say_hello()"
   ]
  },
  {
   "cell_type": "code",
   "execution_count": null,
   "metadata": {
    "collapsed": false
   },
   "outputs": [],
   "source": [
    "Fraction.say_hello(f)"
   ]
  },
  {
   "cell_type": "code",
   "execution_count": null,
   "metadata": {
    "collapsed": false
   },
   "outputs": [],
   "source": [
    "# If we access 'say_hello' *via an instance object*,\n",
    "# then 'self' gets filled in automatically.\n",
    "f.say_hello()"
   ]
  },
  {
   "cell_type": "markdown",
   "metadata": {},
   "source": [
    "### Attributes"
   ]
  },
  {
   "cell_type": "code",
   "execution_count": null,
   "metadata": {
    "collapsed": true
   },
   "outputs": [],
   "source": [
    "f_1_over_10 = Fraction()\n",
    "f_1_over_10.numerator = 1\n",
    "f_1_over_10.denominator = 10\n",
    "\n",
    "f_2_over_10 = Fraction()\n",
    "f_2_over_10.numerator = 2\n",
    "f_2_over_10.denuminator = 10"
   ]
  },
  {
   "cell_type": "markdown",
   "metadata": {},
   "source": [
    "### That's.... really annoying.\n",
    "\n",
    "It would be much more convenient if we could write this:"
   ]
  },
  {
   "cell_type": "code",
   "execution_count": null,
   "metadata": {
    "collapsed": false
   },
   "outputs": [],
   "source": [
    "f = Fraction(1, 10)"
   ]
  },
  {
   "cell_type": "markdown",
   "metadata": {},
   "source": [
    "When you 'call' a class to create a new instance, then:\n",
    "* first the new object is created as an empty, blank slate\n",
    "* then, Python calls `new_obj.__init__(...)` and passes in any arguments\n",
    "  * which gets expanded to: `Class.__init__(new_obj, ...)`\n",
    "\n",
    "`__init__` is just a regular method, and can do anything a method can do -- but most commonly what it does is fill in object attributes:"
   ]
  },
  {
   "cell_type": "code",
   "execution_count": null,
   "metadata": {
    "collapsed": false
   },
   "outputs": [],
   "source": [
    "class Fraction:\n",
    "    print(\"New class being created!\")\n",
    "    \n",
    "    def __init__(self, numerator, denominator):\n",
    "        print(\"New fraction object being created!\")\n",
    "        self.numerator = numerator\n",
    "        self.denominator = denominator"
   ]
  },
  {
   "cell_type": "code",
   "execution_count": null,
   "metadata": {
    "collapsed": false
   },
   "outputs": [],
   "source": [
    "f_1_over_10 = Fraction(1, 10)\n",
    "f_2_over_10 = Fraction(2, 10)"
   ]
  },
  {
   "cell_type": "code",
   "execution_count": null,
   "metadata": {
    "collapsed": false
   },
   "outputs": [],
   "source": [
    "print(f_1_over_10.numerator, f_1_over_10.denominator)\n",
    "print(f_2_over_10.numerator, f_2_over_10.denominator)"
   ]
  },
  {
   "cell_type": "code",
   "execution_count": null,
   "metadata": {
    "collapsed": false
   },
   "outputs": [],
   "source": [
    "f_1_over_10."
   ]
  },
  {
   "cell_type": "markdown",
   "metadata": {},
   "source": [
    "### Finishing up\n",
    "\n",
    "Now we let's add methods to do addition and equality comparison:"
   ]
  },
  {
   "cell_type": "code",
   "execution_count": null,
   "metadata": {
    "collapsed": true
   },
   "outputs": [],
   "source": [
    "class Fraction:\n",
    "    def __init__(self, numerator, denominator):\n",
    "        self.numerator = numerator\n",
    "        self.denominator = denominator\n",
    "        \n",
    "    def add(self, other):\n",
    "        return Fraction(self.numerator * other.denominator\n",
    "                        + self.denominator * other.numerator,\n",
    "                        self.denominator * other.denominator)\n",
    "    \n",
    "    def eq(self, other):\n",
    "        return self.numerator * other.denominator == self.denominator * other.numerator"
   ]
  },
  {
   "cell_type": "markdown",
   "metadata": {},
   "source": [
    "And now Python can do math correctly -- and *object oriented*!"
   ]
  },
  {
   "cell_type": "code",
   "execution_count": null,
   "metadata": {
    "collapsed": false
   },
   "outputs": [],
   "source": [
    "( Fraction(1, 10).add(Fraction(2, 10)) ).eq( Fraction(3, 10) )"
   ]
  },
  {
   "cell_type": "markdown",
   "metadata": {},
   "source": [
    "Of course, we really want to write something like:"
   ]
  },
  {
   "cell_type": "code",
   "execution_count": null,
   "metadata": {
    "collapsed": false
   },
   "outputs": [],
   "source": [
    "Fraction(1, 10) + Fraction(2, 10) == Fraction(3, 10)"
   ]
  },
  {
   "cell_type": "markdown",
   "metadata": {},
   "source": [
    "Any guesses?\n",
    "<br>\n",
    "<br>\n",
    "<br>\n",
    "<br>\n",
    "<br>\n",
    "<br>\n",
    "<br>\n",
    "<br>\n",
    "<br>\n",
    "<br>\n",
    "<br>\n",
    "<br>\n",
    "<br>\n",
    "<br>\n",
    "<br>\n",
    "<br>\n",
    "<br>\n",
    "<br>\n",
    "<br>\n",
    "<br>\n",
    "<br>\n",
    "<br>\n",
    "<br>"
   ]
  },
  {
   "cell_type": "code",
   "execution_count": null,
   "metadata": {
    "collapsed": true
   },
   "outputs": [],
   "source": [
    "class Fraction:\n",
    "    def __init__(self, numerator, denominator):\n",
    "        self.numerator = numerator\n",
    "        self.denominator = denominator\n",
    "        \n",
    "    def __add__(self, other):\n",
    "        return Fraction(self.numerator * other.denominator\n",
    "                        + self.denominator * other.numerator,\n",
    "                        self.denominator * other.denominator)\n",
    "    \n",
    "    def __eq__(self, other):\n",
    "        return self.numerator * other.denominator == self.denominator * other.numerator"
   ]
  },
  {
   "cell_type": "code",
   "execution_count": null,
   "metadata": {
    "collapsed": false
   },
   "outputs": [],
   "source": [
    "Fraction(1, 10) + Fraction(2, 10) == Fraction(3, 10)"
   ]
  },
  {
   "cell_type": "code",
   "execution_count": null,
   "metadata": {
    "collapsed": false
   },
   "outputs": [],
   "source": [
    "(1).__add__(2)"
   ]
  },
  {
   "cell_type": "markdown",
   "metadata": {},
   "source": [
    "# By the way...\n",
    "\n",
    "https://docs.python.org/3/library/fractions.html"
   ]
  },
  {
   "cell_type": "code",
   "execution_count": null,
   "metadata": {
    "collapsed": false
   },
   "outputs": [],
   "source": [
    "from fractions import Fraction\n",
    "\n",
    "Fraction(1, 10) + Fraction(2, 10) == Fraction(3, 10)"
   ]
  },
  {
   "cell_type": "code",
   "execution_count": null,
   "metadata": {
    "collapsed": false
   },
   "outputs": [],
   "source": [
    "import fractions\n",
    "fractions.__file__"
   ]
  },
  {
   "cell_type": "code",
   "execution_count": null,
   "metadata": {
    "collapsed": false
   },
   "outputs": [],
   "source": [
    "%timeit (1 / 10) + (2 / 10)\n",
    "%timeit Fraction(1, 10) + Fraction(2, 10)"
   ]
  },
  {
   "cell_type": "markdown",
   "metadata": {},
   "source": [
    "# Zookeeper Problems I\n",
    "\n",
    "Suppose you are a zookeeper. You have three\n",
    "bears in your care (Oski, Winnie, and Yogi), and\n",
    "you need to take them to a shiny new\n",
    "habitat in a different part of the zoo. However,\n",
    "your bear truck can only support 300 lbs. Can\n",
    "you transfer the bears in just one trip?"
   ]
  },
  {
   "cell_type": "code",
   "execution_count": null,
   "metadata": {
    "collapsed": true
   },
   "outputs": [],
   "source": [
    "class Bear:\n",
    "    def __init__(self, name, weight):\n",
    "        self.name = name\n",
    "        self.weight = weight\n",
    "        \n",
    "a = Bear(\"Oski\", 80)\n",
    "b = Bear(\"Winnie\", 100)\n",
    "c = Bear(\"Yogi\", 115)"
   ]
  },
  {
   "cell_type": "code",
   "execution_count": null,
   "metadata": {
    "collapsed": true
   },
   "outputs": [],
   "source": [
    "# Class instances in Python can be treated like any other data type:\n",
    "# they can be assigned to other variables, put in lists, iterated over, etc.\n",
    "my_bears = [a, b, c]"
   ]
  },
  {
   "cell_type": "code",
   "execution_count": null,
   "metadata": {
    "collapsed": false
   },
   "outputs": [],
   "source": [
    "total_weight = 0\n",
    "for z in my_bears:\n",
    "    total_weight += z.weight\n",
    "print (total_weight < 300)"
   ]
  },
  {
   "cell_type": "code",
   "execution_count": null,
   "metadata": {
    "collapsed": false
   },
   "outputs": [],
   "source": [
    "total_weight"
   ]
  },
  {
   "cell_type": "markdown",
   "metadata": {},
   "source": [
    "# Zookeeper Problems II: The animal chorus\n",
    "\n",
    "How can we use object-oriented programming to help us make 'generic' procedures? "
   ]
  },
  {
   "cell_type": "code",
   "execution_count": null,
   "metadata": {
    "collapsed": true
   },
   "outputs": [],
   "source": [
    "class Bear:\n",
    "    def vocalize(self):\n",
    "        print(\"growl\")\n",
    "        \n",
    "class Cat:\n",
    "    def vocalize(self):\n",
    "        print(\"meow\")\n",
    "\n",
    "class Duck:\n",
    "    def vocalize(self):\n",
    "        print(\"quack\")\n",
    "\n",
    "oski = Bear()\n",
    "bill = Cat()\n",
    "daffy = Duck()"
   ]
  },
  {
   "cell_type": "code",
   "execution_count": null,
   "metadata": {
    "collapsed": true
   },
   "outputs": [],
   "source": [
    "def harmonize(chorus):\n",
    "    for member in chorus:\n",
    "        member.vocalize()"
   ]
  },
  {
   "cell_type": "markdown",
   "metadata": {},
   "source": [
    "The `harmonize()` function doesn't care *at all* what each type of singer is. Each singer simply must have a `vocalize()` method."
   ]
  },
  {
   "cell_type": "code",
   "execution_count": null,
   "metadata": {
    "collapsed": false
   },
   "outputs": [],
   "source": [
    "harmonize([oski, bill, daffy])"
   ]
  },
  {
   "cell_type": "markdown",
   "metadata": {},
   "source": [
    "This is known as *duck typing*."
   ]
  },
  {
   "cell_type": "markdown",
   "metadata": {},
   "source": [
    "-----\n",
    "\n",
    "# Breakout problem\n",
    "\n",
    "<img src=http://www.analyzemath.com/Geometry_calculators/irregular_polygon_1.gif>\n",
    "\n",
    "Calculate the perimeter (and, if you are up for it, the area) of a polygon provided the vector coordinates (in order) of its N vertices. Hint: Sum over distance between adjacent points, where d =\n",
    "math.sqrt( $ \\delta x^2 + \\delta y^2 $) .\n",
    "\n",
    "```python\n",
    "a = Polygon([[0,0], [0,1], [1,1], [1,0]])\n",
    "a.perimeter()\n",
    "4.0\n",
    "a.area()\n",
    "1.0\n",
    "b = Polygon([[0, -2], [1, 1], [3, 3], [5, 1], [4, 0], [4, -3]])\n",
    "b.perimeter()\n",
    "17.356451097651515\n",
    "```"
   ]
  },
  {
   "cell_type": "code",
   "execution_count": null,
   "metadata": {
    "collapsed": true
   },
   "outputs": [],
   "source": []
  }
 ],
 "metadata": {
  "kernelspec": {
   "display_name": "Python 3",
   "language": "python",
   "name": "python3"
  },
  "language_info": {
   "codemirror_mode": {
    "name": "ipython",
    "version": 3
   },
   "file_extension": ".py",
   "mimetype": "text/x-python",
   "name": "python",
   "nbconvert_exporter": "python",
   "pygments_lexer": "ipython3",
   "version": "3.4.3"
  }
 },
 "nbformat": 4,
 "nbformat_minor": 0
}
