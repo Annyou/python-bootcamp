{
 "metadata": {
  "name": ""
 },
 "nbformat": 3,
 "nbformat_minor": 0,
 "worksheets": [
  {
   "cells": [
    {
     "cell_type": "markdown",
     "metadata": {},
     "source": [
      "# Overview\n",
      "\n",
      "![pi](http://www.pythonbootcamp.info/_/rsrc/1326441734872/camp-counselors/2012-01-13-000122_519x258_scrot.png)\n",
      "\n",
      "Hi I'm [Paul Ivanov](http://pirsquared.org), (`@ivanov` on [GitHub](https://github.com/ivanov) and [Twitter](https://twitter.com/ivanov)) and I'm an IPython and Matplotlib developer, \n",
      "and also just spent 7 years in the Vision Science graduate program here at UC Berkeley.\n",
      "\n",
      "## Fetching data from the web\n",
      "* using [urllib2](http://docs.python.org/2/library/urllib2.html) *(batteries included!)*\n",
      " \n",
      "## Scraping data\n",
      "\n",
      "* using string methods *(batteries included!)*\n",
      "* <s> using regular expressions using `re` module </s>, see [JWZ quote](http://en.wikiquote.org/wiki/Jamie_Zawinski#Attributed) *(batteries included!)*\n",
      "    `regular expressions` are useful, but out of scope\n",
      "* using [BeautifulSoup](http://www.crummy.com/software/BeautifulSoup/)\n",
      "   * solutions for both are in `simple_scraper.py`\n",
      "\n",
      "## Simple database operations\n",
      "* using [sqlite3](http://docs.python.org/2/library/sqlite3.html) *(batteries included!)*\n",
      "    * see `appetite.py`\n",
      "* consider using [sqlalchemy](http://www.sqlalchemy.org/) for more sophisticated stuff, and there are others\n",
      "\n",
      "## Sending out emails\n",
      "* using [smtplib](http://docs.python.org/2/library/smtplib.html) *(batteries included!)*\n",
      "  * see `appetite.py`\n",
      "\n",
      "## Building a simple web server\n",
      "* using [SimpleHTTPServer] *(batteries included!)*\n",
      "    \n",
      "        python -m SimpleHTTPServer\n",
      "        \n",
      "* using [Flask](http://flask.pocoo.org/)\n",
      "    * it isn't finished, but we'll see how to go from there"
     ]
    },
    {
     "cell_type": "code",
     "collapsed": false,
     "input": [],
     "language": "python",
     "metadata": {},
     "outputs": []
    }
   ],
   "metadata": {}
  }
 ]
}