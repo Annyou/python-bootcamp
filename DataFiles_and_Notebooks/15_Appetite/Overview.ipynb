{
 "cells": [
  {
   "cell_type": "markdown",
   "metadata": {},
   "source": [
    "# Whetting Your Appetite\n",
    "\n",
    "Some original content from [Paul Ivanov](http://pirsquared.org), (`@ivanov` on [GitHub](https://github.com/ivanov) and [Twitter](https://twitter.com/ivanov)). Some from the Python Seminar Class at UC Berkeley [website](https://github.com/profjsb/python-seminar/blob/master/DataFiles_and_Notebooks/00_AdvancedPythonConcepts/advanced_notebook.ipynb)."
   ]
  },
  {
   "cell_type": "markdown",
   "metadata": {},
   "source": [
    "# Decorators\n",
    "special functions/classes that augment the functionality of other functions or classes (called in other languages macros or annotations)\n",
    "\n",
    "denoted with an `@` sign, immediately preceding decorator name, e.g. `@require_login` or `@testinput`"
   ]
  },
  {
   "cell_type": "code",
   "execution_count": 43,
   "metadata": {
    "collapsed": false
   },
   "outputs": [
    {
     "name": "stdout",
     "output_type": "stream",
     "text": [
      "Writing dec1.py\n"
     ]
    }
   ],
   "source": [
    "%%file dec1.py\n",
    "def entryExit(f):\n",
    "    def new_f():\n",
    "        print(\"Entering\", f.__name__)\n",
    "        f()\n",
    "        print(\"Exited\", f.__name__)\n",
    "    return new_f\n",
    "\n",
    "@entryExit\n",
    "def func1():\n",
    "    print(\"inside func1()\")\n",
    "\n",
    "@entryExit\n",
    "def func2():\n",
    "    print(\"inside func2()\")"
   ]
  },
  {
   "cell_type": "code",
   "execution_count": 45,
   "metadata": {
    "collapsed": false
   },
   "outputs": [
    {
     "name": "stdout",
     "output_type": "stream",
     "text": [
      "Entering func1\n",
      "inside func1()\n",
      "Exited func1\n"
     ]
    }
   ],
   "source": [
    "%run dec1\n",
    "func1()"
   ]
  },
  {
   "cell_type": "code",
   "execution_count": 46,
   "metadata": {
    "collapsed": false
   },
   "outputs": [
    {
     "name": "stdout",
     "output_type": "stream",
     "text": [
      "Entering func2\n",
      "inside func2()\n",
      "Exited func2\n"
     ]
    }
   ],
   "source": [
    "func2()"
   ]
  },
  {
   "cell_type": "code",
   "execution_count": 49,
   "metadata": {
    "collapsed": false
   },
   "outputs": [
    {
     "name": "stdout",
     "output_type": "stream",
     "text": [
      "Overwriting dec2.py\n"
     ]
    }
   ],
   "source": [
    "%%file dec2.py\n",
    "\n",
    "def introspect(f):\n",
    "    def wrapper(*arg,**kwarg):\n",
    "        print(\"Function name = %s\" % f.__name__)\n",
    "        print(\" docstring = %s\" % f.__doc__)\n",
    "        if len(arg) > 0:\n",
    "            print(\"   ... got passed args: %s \" % str(arg))\n",
    "        if len(kwarg.keys()) > 0:\n",
    "            print(\"   ... got passed keywords: %s \" % str(kwarg))\n",
    "        return f(*arg,**kwarg)\n",
    "    return wrapper"
   ]
  },
  {
   "cell_type": "code",
   "execution_count": 50,
   "metadata": {
    "collapsed": false
   },
   "outputs": [],
   "source": [
    "%run dec2"
   ]
  },
  {
   "cell_type": "code",
   "execution_count": 53,
   "metadata": {
    "collapsed": false
   },
   "outputs": [
    {
     "name": "stdout",
     "output_type": "stream",
     "text": [
      "Function name = myrange\n",
      " docstring =  Josh's special range \n",
      "   ... got passed args: (1, 10) \n",
      "   ... got passed keywords: {'step': 2} \n"
     ]
    },
    {
     "data": {
      "text/plain": [
       "range(1, 10, 2)"
      ]
     },
     "execution_count": 53,
     "metadata": {},
     "output_type": "execute_result"
    }
   ],
   "source": [
    "@introspect\n",
    "def myrange(start,stop,step=1):\n",
    "    \"\"\" Josh's special range \"\"\"\n",
    "    return range(start,stop,step)\n",
    "\n",
    "myrange(1,10,step=2)"
   ]
  },
  {
   "cell_type": "code",
   "execution_count": 54,
   "metadata": {
    "collapsed": true
   },
   "outputs": [],
   "source": [
    "def accepts(*types):\n",
    "    \"\"\" Function decorator. Checks that inputs given to decorated function\n",
    "      are of the expected type.\n",
    "  \n",
    "      Parameters:\n",
    "      types -- The expected types of the inputs to the decorated function.\n",
    "               Must specify type for each parameter.\n",
    "    \"\"\"\n",
    "    def decorator(f):\n",
    "        def newf(*args):\n",
    "            assert len(args) == len(types)\n",
    "            argtypes = tuple(map(type, args))\n",
    "            if argtypes != types:\n",
    "                a = \"in %s \"  % f.__name__\n",
    "                a += \"got %s but expected %s\" % (argtypes,types)\n",
    "                raise TypeError(a)\n",
    "            return f(*args)\n",
    "        return newf\n",
    "    return decorator"
   ]
  },
  {
   "cell_type": "code",
   "execution_count": 55,
   "metadata": {
    "collapsed": true
   },
   "outputs": [],
   "source": [
    "@introspect\n",
    "@accepts(int,int,int)\n",
    "def myrange(start,stop,step): return range(start,stop,step)"
   ]
  },
  {
   "cell_type": "code",
   "execution_count": 57,
   "metadata": {
    "collapsed": false
   },
   "outputs": [
    {
     "name": "stdout",
     "output_type": "stream",
     "text": [
      "Function name = newf\n",
      " docstring = None\n",
      "   ... got passed args: (1, 10, 1) \n"
     ]
    },
    {
     "data": {
      "text/plain": [
       "range(1, 10)"
      ]
     },
     "execution_count": 57,
     "metadata": {},
     "output_type": "execute_result"
    }
   ],
   "source": [
    "myrange(1,10,1)"
   ]
  },
  {
   "cell_type": "code",
   "execution_count": 58,
   "metadata": {
    "collapsed": false
   },
   "outputs": [
    {
     "name": "stdout",
     "output_type": "stream",
     "text": [
      "Function name = newf\n",
      " docstring = None\n",
      "   ... got passed args: (1.0, 10, 1) \n"
     ]
    },
    {
     "ename": "TypeError",
     "evalue": "in myrange got (<class 'float'>, <class 'int'>, <class 'int'>) but expected (<class 'int'>, <class 'int'>, <class 'int'>)",
     "output_type": "error",
     "traceback": [
      "\u001b[0;31m---------------------------------------------------------------------------\u001b[0m",
      "\u001b[0;31mTypeError\u001b[0m                                 Traceback (most recent call last)",
      "\u001b[0;32m<ipython-input-58-302929e84c97>\u001b[0m in \u001b[0;36m<module>\u001b[0;34m()\u001b[0m\n\u001b[0;32m----> 1\u001b[0;31m \u001b[0mmyrange\u001b[0m\u001b[0;34m(\u001b[0m\u001b[0;36m1.0\u001b[0m\u001b[0;34m,\u001b[0m\u001b[0;36m10\u001b[0m\u001b[0;34m,\u001b[0m\u001b[0;36m1\u001b[0m\u001b[0;34m)\u001b[0m\u001b[0;34m\u001b[0m\u001b[0m\n\u001b[0m",
      "\u001b[0;32m/Users/jbloom/Classes/python-bootcamp/DataFiles_and_Notebooks/15_Appetite/dec2.py\u001b[0m in \u001b[0;36mwrapper\u001b[0;34m(*arg, **kwarg)\u001b[0m\n\u001b[1;32m      8\u001b[0m         \u001b[0;32mif\u001b[0m \u001b[0mlen\u001b[0m\u001b[0;34m(\u001b[0m\u001b[0mkwarg\u001b[0m\u001b[0;34m.\u001b[0m\u001b[0mkeys\u001b[0m\u001b[0;34m(\u001b[0m\u001b[0;34m)\u001b[0m\u001b[0;34m)\u001b[0m \u001b[0;34m>\u001b[0m \u001b[0;36m0\u001b[0m\u001b[0;34m:\u001b[0m\u001b[0;34m\u001b[0m\u001b[0m\n\u001b[1;32m      9\u001b[0m             \u001b[0mprint\u001b[0m\u001b[0;34m(\u001b[0m\u001b[0;34m\"   ... got passed keywords: %s \"\u001b[0m \u001b[0;34m%\u001b[0m \u001b[0mstr\u001b[0m\u001b[0;34m(\u001b[0m\u001b[0mkwarg\u001b[0m\u001b[0;34m)\u001b[0m\u001b[0;34m)\u001b[0m\u001b[0;34m\u001b[0m\u001b[0m\n\u001b[0;32m---> 10\u001b[0;31m         \u001b[0;32mreturn\u001b[0m \u001b[0mf\u001b[0m\u001b[0;34m(\u001b[0m\u001b[0;34m*\u001b[0m\u001b[0marg\u001b[0m\u001b[0;34m,\u001b[0m\u001b[0;34m**\u001b[0m\u001b[0mkwarg\u001b[0m\u001b[0;34m)\u001b[0m\u001b[0;34m\u001b[0m\u001b[0m\n\u001b[0m\u001b[1;32m     11\u001b[0m     \u001b[0;32mreturn\u001b[0m \u001b[0mwrapper\u001b[0m\u001b[0;34m\u001b[0m\u001b[0m\n",
      "\u001b[0;32m<ipython-input-54-5a6b5c678ca2>\u001b[0m in \u001b[0;36mnewf\u001b[0;34m(*args)\u001b[0m\n\u001b[1;32m     14\u001b[0m                 \u001b[0ma\u001b[0m \u001b[0;34m=\u001b[0m \u001b[0;34m\"in %s \"\u001b[0m  \u001b[0;34m%\u001b[0m \u001b[0mf\u001b[0m\u001b[0;34m.\u001b[0m\u001b[0m__name__\u001b[0m\u001b[0;34m\u001b[0m\u001b[0m\n\u001b[1;32m     15\u001b[0m                 \u001b[0ma\u001b[0m \u001b[0;34m+=\u001b[0m \u001b[0;34m\"got %s but expected %s\"\u001b[0m \u001b[0;34m%\u001b[0m \u001b[0;34m(\u001b[0m\u001b[0margtypes\u001b[0m\u001b[0;34m,\u001b[0m\u001b[0mtypes\u001b[0m\u001b[0;34m)\u001b[0m\u001b[0;34m\u001b[0m\u001b[0m\n\u001b[0;32m---> 16\u001b[0;31m                 \u001b[0;32mraise\u001b[0m \u001b[0mTypeError\u001b[0m\u001b[0;34m(\u001b[0m\u001b[0ma\u001b[0m\u001b[0;34m)\u001b[0m\u001b[0;34m\u001b[0m\u001b[0m\n\u001b[0m\u001b[1;32m     17\u001b[0m             \u001b[0;32mreturn\u001b[0m \u001b[0mf\u001b[0m\u001b[0;34m(\u001b[0m\u001b[0;34m*\u001b[0m\u001b[0margs\u001b[0m\u001b[0;34m)\u001b[0m\u001b[0;34m\u001b[0m\u001b[0m\n\u001b[1;32m     18\u001b[0m         \u001b[0;32mreturn\u001b[0m \u001b[0mnewf\u001b[0m\u001b[0;34m\u001b[0m\u001b[0m\n",
      "\u001b[0;31mTypeError\u001b[0m: in myrange got (<class 'float'>, <class 'int'>, <class 'int'>) but expected (<class 'int'>, <class 'int'>, <class 'int'>)"
     ]
    }
   ],
   "source": [
    "myrange(1.0,10,1)"
   ]
  },
  {
   "cell_type": "markdown",
   "metadata": {},
   "source": [
    "## Fetching data from the web\n",
    "* using [urllib](https://docs.python.org/3.4/library/urllib.html) *(batteries included!)*"
   ]
  },
  {
   "cell_type": "code",
   "execution_count": null,
   "metadata": {
    "collapsed": false
   },
   "outputs": [],
   "source": [
    "import urllib"
   ]
  },
  {
   "cell_type": "code",
   "execution_count": null,
   "metadata": {
    "collapsed": false
   },
   "outputs": [],
   "source": [
    "obj = urllib.request.urlopen(\"http://duckduckgo.com\")"
   ]
  },
  {
   "cell_type": "code",
   "execution_count": null,
   "metadata": {
    "collapsed": false
   },
   "outputs": [],
   "source": [
    "obj.read()"
   ]
  },
  {
   "cell_type": "markdown",
   "metadata": {},
   "source": [
    "## Scraping data\n",
    "\n",
    "* using string methods *(batteries included!)*\n",
    "* <s> using regular expressions using `re` module </s>\n",
    "    * [regular expressions](http://docs.python.org/2/howto/regex.html) are useful, but out of scope\n",
    "> Some people, when confronted with a problem, think \"I know, I'll use regular expressions.\" Now they have two problems.   [JWZ quote](http://en.wikiquote.org/wiki/Jamie_Zawinski#Attributed) *(batteries included!)*\n",
    "\n",
    "* using [BeautifulSoup](http://www.crummy.com/software/BeautifulSoup/)\n",
    "   * solutions for both are in `simple_scraper.py`"
   ]
  },
  {
   "cell_type": "markdown",
   "metadata": {},
   "source": [
    "Twitter"
   ]
  },
  {
   "cell_type": "code",
   "execution_count": null,
   "metadata": {
    "collapsed": false
   },
   "outputs": [],
   "source": [
    "!conda install beautiful-soup"
   ]
  },
  {
   "cell_type": "code",
   "execution_count": null,
   "metadata": {
    "collapsed": true
   },
   "outputs": [],
   "source": [
    "%load simple_scraper.py"
   ]
  },
  {
   "cell_type": "code",
   "execution_count": null,
   "metadata": {
    "collapsed": false
   },
   "outputs": [],
   "source": []
  },
  {
   "cell_type": "code",
   "execution_count": null,
   "metadata": {
    "collapsed": false
   },
   "outputs": [],
   "source": [
    "test_scrapers()"
   ]
  },
  {
   "cell_type": "markdown",
   "metadata": {},
   "source": [
    "## Simple database operations\n",
    "* using [sqlite3](http://docs.python.org/2/library/sqlite3.html) *(batteries included!)*\n",
    "    * see `appetite.py`\n",
    "* consider using [sqlalchemy](http://www.sqlalchemy.org/) for more sophisticated stuff, and there are others"
   ]
  },
  {
   "cell_type": "code",
   "execution_count": null,
   "metadata": {
    "collapsed": true
   },
   "outputs": [],
   "source": [
    "!rm tennisDB.sql"
   ]
  },
  {
   "cell_type": "code",
   "execution_count": null,
   "metadata": {
    "collapsed": true
   },
   "outputs": [],
   "source": [
    "load appetite.py"
   ]
  },
  {
   "cell_type": "code",
   "execution_count": null,
   "metadata": {
    "collapsed": false
   },
   "outputs": [],
   "source": [
    "create_friends_table()"
   ]
  },
  {
   "cell_type": "code",
   "execution_count": null,
   "metadata": {
    "collapsed": false
   },
   "outputs": [],
   "source": [
    "retrieve_random_tennis()"
   ]
  },
  {
   "cell_type": "code",
   "execution_count": null,
   "metadata": {
    "collapsed": false
   },
   "outputs": [],
   "source": [
    "play_tennis()"
   ]
  },
  {
   "cell_type": "markdown",
   "metadata": {},
   "source": [
    "## Sending out emails\n",
    "* using [smtplib](http://docs.python.org/2/library/smtplib.html) *(batteries included!)*\n",
    "  * see `appetite.py`"
   ]
  },
  {
   "cell_type": "markdown",
   "metadata": {},
   "source": [
    "## Building a simple web server\n",
    "* using [SimpleHTTPServer](http://docs.python.org/2/library/simplehttpserver.html) *(batteries included!)*\n",
    "    \n",
    "        python -m SimpleHTTPServer\n",
    "        \n",
    "* using [Flask](http://flask.pocoo.org/)\n",
    "    * a little, minor fun"
   ]
  },
  {
   "cell_type": "code",
   "execution_count": null,
   "metadata": {
    "collapsed": false
   },
   "outputs": [],
   "source": []
  }
 ],
 "metadata": {
  "kernelspec": {
   "display_name": "Python 3",
   "language": "python",
   "name": "python3"
  },
  "language_info": {
   "codemirror_mode": {
    "name": "ipython",
    "version": 3
   },
   "file_extension": ".py",
   "mimetype": "text/x-python",
   "name": "python",
   "nbconvert_exporter": "python",
   "pygments_lexer": "ipython3",
   "version": "3.4.3"
  }
 },
 "nbformat": 4,
 "nbformat_minor": 0
}
