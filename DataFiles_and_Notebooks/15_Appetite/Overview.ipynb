{
 "metadata": {
  "name": ""
 },
 "nbformat": 3,
 "nbformat_minor": 0,
 "worksheets": [
  {
   "cells": [
    {
     "cell_type": "markdown",
     "metadata": {},
     "source": [
      "# Overview\n",
      "\n",
      "## Fetching data from the web\n",
      "* using [urllib2](http://docs.python.org/2/library/urllib2.html) *(batteries included!)*\n",
      "    * solutions in `simple_scraper.py`\n",
      " \n",
      "## Scraping data\n",
      "\n",
      "* using string methods *(batteries included!)*\n",
      "* <s> using regular expressions </s>, see [JWZ quote](http://en.wikiquote.org/wiki/Jamie_Zawinski#Attributed) *(batteries included!)*\n",
      "* using [BeautifulSoup](http://www.crummy.com/software/BeautifulSoup/)\n",
      "\n",
      "## Simple database operations\n",
      "* using [sqlite3](http://docs.python.org/2/library/sqlite3.html) *(batteries included!)*\n",
      "* consider using [sqlalchemy](http://www.sqlalchemy.org/) for more sophisticated stuff, and there are others\n",
      "\n",
      "## Sending out emails\n",
      "* using [smtplib](http://docs.python.org/2/library/smtplib.html) *(batteries included!)*\n",
      "\n",
      "## Building a simple web server\n",
      "* using [SimpleHTTPServer] *(batteries included!)*\n",
      "    \n",
      "        python -m SimpleHTTPServer\n",
      "        \n",
      "* using [Flask](http://flask.pocoo.org/)\n",
      "    * it isn't finished, but we'll see how to go from there"
     ]
    }
   ],
   "metadata": {}
  }
 ]
}