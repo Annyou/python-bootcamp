{
 "metadata": {
  "name": "Untitled2"
 }, 
 "name": "Untitled2", 
 "nbformat": 2, 
 "worksheets": []
}