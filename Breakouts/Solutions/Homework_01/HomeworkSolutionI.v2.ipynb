{
 "metadata": {
  "name": "HomeworkSolutionI"
 }, 
 "nbformat": 2, 
 "worksheets": [
  {
   "cells": [
    {
     "cell_type": "markdown", 
     "source": [
      "**0. Import & parse CSV data**"
     ]
    }, 
    {
     "cell_type": "code", 
     "collapsed": true, 
     "input": [
      "import numpy as np", 
      "import matplotlib"
     ], 
     "language": "python", 
     "outputs": [], 
     "prompt_number": 112
    }, 
    {
     "cell_type": "code", 
     "collapsed": false, 
     "input": [
      "from matplotlib.pylab import plot, legend, csv2rec"
     ], 
     "language": "python", 
     "outputs": [], 
     "prompt_number": 113
    }, 
    {
     "cell_type": "code", 
     "collapsed": true, 
     "input": [
      "trends = csv2rec('trends.csv')"
     ], 
     "language": "python", 
     "outputs": [], 
     "prompt_number": 114
    }, 
    {
     "cell_type": "markdown", 
     "source": [
      "I. Plot trends in single frame, with legend"
     ]
    }, 
    {
     "cell_type": "code", 
     "collapsed": false, 
     "input": [
      "plot(trends.week_start, trends.spring_break, label='spring break')", 
      "plot(trends.week_start, trends.textbooks, label='texbooks')", 
      "plot(trends.week_start, trends.skiing, label='skiing')", 
      "plot(trends.week_start, trends.kayak, label='kayak')", 
      "legend()"
     ], 
     "language": "python", 
     "outputs": [], 
     "prompt_number": 115
    }, 
    {
     "cell_type": "markdown", 
     "source": [
      "**II. Determine maxima and minima of each trend term**"
     ]
    }, 
    {
     "cell_type": "markdown", 
     "source": [
      "Create vector of year and week numbers"
     ]
    }, 
    {
     "cell_type": "code", 
     "collapsed": false, 
     "input": [
      "dates = trends.week_start", 
      "yrs = zeros_like(dates)", 
      "wks = zeros_like(dates)", 
      "for i in range(len(dates)):", 
      "    yrs[i] = dates[i].year", 
      "    wks[i] = dates[i].isocalendar()[1]"
     ], 
     "language": "python", 
     "outputs": [], 
     "prompt_number": 116
    }, 
    {
     "cell_type": "markdown", 
     "source": [
      "For each year, list week numbers corresponding to maximum and minimum search values"
     ]
    }, 
    {
     "cell_type": "code", 
     "collapsed": false, 
     "input": [
      "trend = trends.global_warming", 
      "for yr in range(2004,2011):", 
      "    idx = find(yrs==yr)", 
      "    print yr, wks[find(trend[idx] == max(trend[idx]))], wks[find(trend[idx] == min(trend[idx]))]"
     ], 
     "language": "python", 
     "outputs": [], 
     "prompt_number": 117
    }, 
    {
     "cell_type": "markdown", 
     "source": [
      "**III. Study scatter about median values**"
     ]
    }, 
    {
     "cell_type": "markdown", 
     "source": [
      "Q: Is it true that $\\sigma(A) > \\sigma(B) \\Rightarrow \\sigma_\\textrm{median}(A) > \\sigma_\\textrm{median}(B)$?"
     ]
    }, 
    {
     "cell_type": "code", 
     "collapsed": true, 
     "input": [
      "def std_median(datums):", 
      "    return sqrt( sum( (datums - median(datums))**2 ) )"
     ], 
     "language": "python", 
     "outputs": [], 
     "prompt_number": 118
    }, 
    {
     "cell_type": "code", 
     "collapsed": false, 
     "input": [
      "print std_median(trends.spring_break)", 
      "print std_median(trends.textbooks)", 
      "print std_median(trends.skiing)", 
      "print std_median(trends.kayak)", 
      "print std_median(trends.global_warming)"
     ], 
     "language": "python", 
     "outputs": [], 
     "prompt_number": 119
    }, 
    {
     "cell_type": "markdown", 
     "source": [
      "**IV. Correlation between trends**"
     ]
    }, 
    {
     "cell_type": "code", 
     "collapsed": false, 
     "input": [
      "result = np.correlate(trends.skiing,trends.spring_break, mode='full')", 
      "gap = arange(result.size) - result.size/2", 
      "plot(gap,result)", 
      "print gap[find(result==max(result))]"
     ], 
     "language": "python", 
     "outputs": [], 
     "prompt_number": 120
    }, 
    {
     "cell_type": "code", 
     "collapsed": false, 
     "input": [
      "result = np.correlate(trends.skiing,trends.global_warming, mode='full')", 
      "gap = arange(result.size) - result.size/2", 
      "plot(gap,result)", 
      "print gap[find(result==max(result))]"
     ], 
     "language": "python", 
     "outputs": [], 
     "prompt_number": 121
    }, 
    {
     "cell_type": "code", 
     "collapsed": true, 
     "input": [], 
     "language": "python", 
     "outputs": [], 
     "prompt_number": "&nbsp;"
    }
   ]
  }
 ]
}