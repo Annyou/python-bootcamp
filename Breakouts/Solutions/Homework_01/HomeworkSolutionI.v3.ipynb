{
 "metadata": {
  "name": "HomeworkSolutionI.v3"
 },
 "nbformat": 3,
 "nbformat_minor": 0,
 "worksheets": [
  {
   "cells": [
    {
     "cell_type": "markdown",
     "metadata": {},
     "source": [
      "**0. Import & parse CSV data**"
     ]
    },
    {
     "cell_type": "code",
     "collapsed": true,
     "input": [
      "import numpy as np\n",
      "import matplotlib"
     ],
     "language": "python",
     "metadata": {},
     "outputs": [],
     "prompt_number": 112
    },
    {
     "cell_type": "code",
     "collapsed": false,
     "input": [
      "from matplotlib.pylab import plot, legend, csv2rec"
     ],
     "language": "python",
     "metadata": {},
     "outputs": [],
     "prompt_number": 113
    },
    {
     "cell_type": "code",
     "collapsed": true,
     "input": [
      "trends = csv2rec('trends.csv')"
     ],
     "language": "python",
     "metadata": {},
     "outputs": [],
     "prompt_number": 114
    },
    {
     "cell_type": "markdown",
     "metadata": {},
     "source": [
      "I. Plot trends in single frame, with legend"
     ]
    },
    {
     "cell_type": "code",
     "collapsed": false,
     "input": [
      "plot(trends.week_start, trends.spring_break, label='spring break')\n",
      "plot(trends.week_start, trends.textbooks, label='texbooks')\n",
      "plot(trends.week_start, trends.skiing, label='skiing')\n",
      "plot(trends.week_start, trends.kayak, label='kayak')\n",
      "legend()"
     ],
     "language": "python",
     "metadata": {},
     "outputs": [],
     "prompt_number": 115
    },
    {
     "cell_type": "markdown",
     "metadata": {},
     "source": [
      "**II. Determine maxima and minima of each trend term**"
     ]
    },
    {
     "cell_type": "markdown",
     "metadata": {},
     "source": [
      "Create vector of year and week numbers"
     ]
    },
    {
     "cell_type": "code",
     "collapsed": false,
     "input": [
      "dates = trends.week_start\n",
      "yrs = zeros_like(dates)\n",
      "wks = zeros_like(dates)\n",
      "for i in range(len(dates)):\n",
      "    yrs[i] = dates[i].year\n",
      "    wks[i] = dates[i].isocalendar()[1]"
     ],
     "language": "python",
     "metadata": {},
     "outputs": [],
     "prompt_number": 116
    },
    {
     "cell_type": "markdown",
     "metadata": {},
     "source": [
      "For each year, list week numbers corresponding to maximum and minimum search values"
     ]
    },
    {
     "cell_type": "code",
     "collapsed": false,
     "input": [
      "trend = trends.global_warming\n",
      "for yr in range(2004,2011):\n",
      "    idx = find(yrs==yr)\n",
      "    print yr, wks[find(trend[idx] == max(trend[idx]))], wks[find(trend[idx] == min(trend[idx]))]"
     ],
     "language": "python",
     "metadata": {},
     "outputs": [],
     "prompt_number": 117
    },
    {
     "cell_type": "markdown",
     "metadata": {},
     "source": [
      "**III. Study scatter about median values**"
     ]
    },
    {
     "cell_type": "markdown",
     "metadata": {},
     "source": [
      "Q: Is it true that $\\sigma(A) > \\sigma(B) \\Rightarrow \\sigma_\\textrm{median}(A) > \\sigma_\\textrm{median}(B)$?"
     ]
    },
    {
     "cell_type": "code",
     "collapsed": true,
     "input": [
      "def std_median(datums):\n",
      "    return sqrt( sum( (datums - median(datums))**2 ) )"
     ],
     "language": "python",
     "metadata": {},
     "outputs": [],
     "prompt_number": 118
    },
    {
     "cell_type": "code",
     "collapsed": false,
     "input": [
      "print std_median(trends.spring_break)\n",
      "print std_median(trends.textbooks)\n",
      "print std_median(trends.skiing)\n",
      "print std_median(trends.kayak)\n",
      "print std_median(trends.global_warming)"
     ],
     "language": "python",
     "metadata": {},
     "outputs": [],
     "prompt_number": 119
    },
    {
     "cell_type": "markdown",
     "metadata": {},
     "source": [
      "**IV. Correlation between trends**"
     ]
    },
    {
     "cell_type": "code",
     "collapsed": false,
     "input": [
      "result = np.correlate(trends.skiing,trends.spring_break, mode='full')\n",
      "gap = arange(result.size) - result.size/2\n",
      "plot(gap,result)\n",
      "print gap[find(result==max(result))]"
     ],
     "language": "python",
     "metadata": {},
     "outputs": [],
     "prompt_number": 120
    },
    {
     "cell_type": "code",
     "collapsed": false,
     "input": [
      "result = np.correlate(trends.skiing,trends.global_warming, mode='full')\n",
      "gap = arange(result.size) - result.size/2\n",
      "plot(gap,result)\n",
      "print gap[find(result==max(result))]"
     ],
     "language": "python",
     "metadata": {},
     "outputs": [],
     "prompt_number": 121
    },
    {
     "cell_type": "code",
     "collapsed": true,
     "input": [],
     "language": "python",
     "metadata": {},
     "outputs": [],
     "prompt_number": "&nbsp;"
    }
   ],
   "metadata": {}
  }
 ]
}