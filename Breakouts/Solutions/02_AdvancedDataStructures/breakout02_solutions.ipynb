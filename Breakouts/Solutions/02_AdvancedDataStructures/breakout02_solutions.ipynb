{
 "metadata": {
  "name": ""
 },
 "nbformat": 3,
 "nbformat_minor": 0,
 "worksheets": [
  {
   "cells": [
    {
     "cell_type": "markdown",
     "metadata": {
      "slideshow": {
       "slide_type": "slide"
      }
     },
     "source": [
      "02_AdvancedDataStructures\n",
      "=============\n",
      "### First, copy over the airport and flight information from airline.py. ###"
     ]
    },
    {
     "cell_type": "code",
     "collapsed": true,
     "input": [
      "airports = {\"DCA\": \"Washington, D.C.\", \"IAD\": \"Dulles\", \"LHR\": \"London-Heathrow\", \\\n",
      "            \"SVO\": \"Moscow\", \"CDA\": \"Chicago-Midway\", \"SBA\": \"Santa Barbara\", \"LAX\": \"Los Angeles\",\\\n",
      "            \"JFK\": \"New York City\", \"MIA\": \"Miami\", \"AUM\": \"Austin, Minnesota\"}"
     ],
     "language": "python",
     "metadata": {
      "slideshow": {
       "slide_type": "fragment"
      }
     },
     "outputs": [],
     "prompt_number": "*"
    },
    {
     "cell_type": "code",
     "collapsed": true,
     "input": [
      "# airline, number, heading to, gate, time (decimal hours) \n",
      "flights = [(\"Southwest\",145,\"DCA\",1,6.00),(\"United\",31,\"IAD\",1,7.1),(\"United\",302,\"LHR\",5,6.5),\\\n",
      "           (\"Aeroflot\",34,\"SVO\",5,9.00),(\"Southwest\",146,\"CDA\",1,9.60), (\"United\",46,\"LAX\",5,6.5),\\\n",
      "           (\"Southwest\",23,\"SBA\",6,12.5),(\"United\",2,\"LAX\",10,12.5),(\"Southwest\",59,\"LAX\",11,14.5),\\\n",
      "           (\"American\", 1,\"JFK\",12,11.3),(\"USAirways\", 8,\"MIA\",20,13.1),(\"United\",2032,\"MIA\",21,15.1),\\\n",
      "           (\"SpamAir\",1,\"AUM\",42,14.4)]"
     ],
     "language": "python",
     "metadata": {
      "slideshow": {
       "slide_type": "fragment"
      }
     },
     "outputs": [],
     "prompt_number": "*"
    },
    {
     "cell_type": "markdown",
     "metadata": {
      "slideshow": {
       "slide_type": "slide"
      }
     },
     "source": [
      "### We can sort the flight information by airline by running a simple sort on the list. ###\n",
      "Note that when printing we lookup the destination name by the airport code key in the airports dictionary."
     ]
    },
    {
     "cell_type": "code",
     "collapsed": false,
     "input": [
      "flights.sort()\n",
      "print \"Flight    \\tDestination\\t\\tGate\\tTime\"\n",
      "print \"-\"*53\n",
      "for f in flights:\n",
      "    dest = airports[f[2]]\n",
      "    dest += \" \"*(20 - len(dest))\n",
      "    print f[0] + \" \" + str(f[1]) + \"\\t\" + dest + \"\\t\" + str(f[3]) + \"\\t\" + str(f[4])"
     ],
     "language": "python",
     "metadata": {
      "slideshow": {
       "slide_type": "-"
      }
     },
     "outputs": [
      {
       "output_type": "stream",
       "stream": "stdout",
       "text": [
        "Flight    \tDestination\t\tGate\tTime\n",
        "-----------------------------------------------------\n",
        "Aeroflot 34\tMoscow              \t5\t9.0\n",
        "American 1\tNew York City       \t12\t11.3\n",
        "Southwest 23\tSanta Barbara       \t6\t12.5\n",
        "Southwest 59\tLos Angeles         \t11\t14.5\n",
        "Southwest 145\tWashington, D.C.    \t1\t6.0\n",
        "Southwest 146\tChicago-Midway      \t1\t9.6\n",
        "SpamAir 1\tAustin, Minnesota   \t42\t14.4\n",
        "USAirways 8\tMiami               \t20\t13.1\n",
        "United 2\tLos Angeles         \t10\t12.5\n",
        "United 31\tDulles              \t1\t7.1\n",
        "United 46\tLos Angeles         \t5\t6.5\n",
        "United 302\tLondon-Heathrow     \t5\t6.5\n",
        "United 2032\tMiami               \t21\t15.1"
       ]
      }
     ],
     "prompt_number": "*"
    },
    {
     "cell_type": "markdown",
     "metadata": {},
     "source": [
      "When we called flights.sort() we resorted the list based on the first element of each tuple (airline) and then, when multiple flights are operated by one ariline, by the flight number."
     ]
    },
    {
     "cell_type": "markdown",
     "metadata": {
      "slideshow": {
       "slide_type": "slide"
      }
     },
     "source": [
      "### Sorting the information by time requires a bit more coding. ###\n",
      "We create a new time_ordered list and loop through the flights inspecting each flight for its time. We then insert the flight at the beginning of time_ordered, at the end of time_ordered, or in between two other elements within time_ordered. We determine where the current flight belongs by manually comparing the times of the flights already added to time_ordered.\n",
      "This is really trivial (a one liner) with lambda functions, which you'll lear later. "
     ]
    },
    {
     "cell_type": "code",
     "collapsed": true,
     "input": [
      "# note: this is a really trivial (one liner!) thing do with lambda functions, which you'll \n",
      "# learn later\n",
      "time_ordered = [flights[0]]\n",
      "for f in flights[1:]:\n",
      "    ## does it belong in the beginning\n",
      "    if f[4] < time_ordered[0][4]:\n",
      "        time_ordered.insert(0,f)\n",
      "        continue\n",
      "    ## ... or the end?\n",
      "    if f[4] > time_ordered[-1][4]:\n",
      "        time_ordered.append(f)\n",
      "        continue\n",
      "    ## or is it in the middle\n",
      "    for i in range(len(time_ordered) - 1):\n",
      "        if f[4] >= time_ordered[i][4] and f[4] <= time_ordered[i+1][4]:\n",
      "            time_ordered.insert(i+1,f)\n",
      "            break"
     ],
     "language": "python",
     "metadata": {},
     "outputs": [],
     "prompt_number": "*"
    },
    {
     "cell_type": "markdown",
     "metadata": {
      "slideshow": {
       "slide_type": "slide"
      }
     },
     "source": [
      "The printing procedure is the same."
     ]
    },
    {
     "cell_type": "code",
     "collapsed": false,
     "input": [
      "print \"Flight    \\tDestination\\t\\tGate\\tTime\"\n",
      "print \"-\"*53\n",
      "for f in time_ordered:\n",
      "    dest = airports[f[2]]\n",
      "    dest += \" \"*(20 - len(dest))\n",
      "    print f[0] + \" \" + str(f[1]) + \"\\t\" + dest + \"\\t\" + str(f[3]) + \"\\t\" + str(f[4])  "
     ],
     "language": "python",
     "metadata": {},
     "outputs": [
      {
       "output_type": "stream",
       "stream": "stdout",
       "text": [
        "Flight    \tDestination\t\tGate\tTime\n",
        "-----------------------------------------------------\n",
        "Southwest 145\tWashington, D.C.    \t1\t6.0\n",
        "United 302\tLondon-Heathrow     \t5\t6.5\n",
        "United 46\tLos Angeles         \t5\t6.5\n",
        "United 31\tDulles              \t1\t7.1\n",
        "Aeroflot 34\tMoscow              \t5\t9.0\n",
        "Southwest 146\tChicago-Midway      \t1\t9.6\n",
        "American 1\tNew York City       \t12\t11.3\n",
        "United 2\tLos Angeles         \t10\t12.5\n",
        "Southwest 23\tSanta Barbara       \t6\t12.5\n",
        "USAirways 8\tMiami               \t20\t13.1\n",
        "SpamAir 1\tAustin, Minnesota   \t42\t14.4\n",
        "Southwest 59\tLos Angeles         \t11\t14.5\n",
        "United 2032\tMiami               \t21\t15.1"
       ]
      }
     ],
     "prompt_number": "*"
    },
    {
     "cell_type": "markdown",
     "metadata": {
      "slideshow": {
       "slide_type": "slide"
      }
     },
     "source": [
      "### One line sorting solution. ###\n",
      "We can use the operator.itemgetter() function as the key in sort and sort by the time (4th) element."
     ]
    },
    {
     "cell_type": "code",
     "collapsed": false,
     "input": [
      "import operator\n",
      "flights.sort(key=operator.itemgetter(4))\n",
      "print \"Flight    \\tDestination\\t\\tGate\\tTime\"\n",
      "print \"-\"*53\n",
      "for f in flights:\n",
      "    dest = airports[f[2]]\n",
      "    dest += \" \"*(20 - len(dest))\n",
      "    print f[0] + \" \" + str(f[1]) + \"\\t\" + dest + \"\\t\" + str(f[3]) + \"\\t\" + str(f[4])"
     ],
     "language": "python",
     "metadata": {
      "slideshow": {
       "slide_type": "fragment"
      }
     },
     "outputs": [
      {
       "output_type": "stream",
       "stream": "stdout",
       "text": [
        "Flight    \tDestination\t\tGate\tTime\n",
        "-----------------------------------------------------\n",
        "Southwest 145\tWashington, D.C.    \t1\t6.0\n",
        "United 46\tLos Angeles         \t5\t6.5\n",
        "United 302\tLondon-Heathrow     \t5\t6.5\n",
        "United 31\tDulles              \t1\t7.1\n",
        "Aeroflot 34\tMoscow              \t5\t9.0\n",
        "Southwest 146\tChicago-Midway      \t1\t9.6\n",
        "American 1\tNew York City       \t12\t11.3\n",
        "Southwest 23\tSanta Barbara       \t6\t12.5\n",
        "United 2\tLos Angeles         \t10\t12.5\n",
        "USAirways 8\tMiami               \t20\t13.1\n",
        "SpamAir 1\tAustin, Minnesota   \t42\t14.4\n",
        "Southwest 59\tLos Angeles         \t11\t14.5\n",
        "United 2032\tMiami               \t21\t15.1"
       ]
      }
     ],
     "prompt_number": "*"
    }
   ],
   "metadata": {}
  }
 ]
}