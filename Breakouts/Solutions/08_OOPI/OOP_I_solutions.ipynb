{
 "cells": [
  {
   "cell_type": "code",
   "execution_count": 10,
   "metadata": {
    "collapsed": true
   },
   "outputs": [],
   "source": [
    "# Procedural approach\n",
    "import math\n",
    "def perimeter(polygon):\n",
    "    \"\"\"Given a list of vector vertices (in proper order), \n",
    "    returns the perimeter for the associated polygon.\"\"\"\n",
    "    total = 0\n",
    "    for i in range(len(polygon)):\n",
    "        vertex1 = polygon[i]\n",
    "        vertex2 = polygon[(i+1) % len(polygon)]\n",
    "        distance = math.sqrt((vertex2[0] - vertex1[0]) ** 2\n",
    "                             + (vertex2[1] - vertex1[1]) ** 2)\n",
    "        total += distance\n",
    "    return total"
   ]
  },
  {
   "cell_type": "code",
   "execution_count": 11,
   "metadata": {
    "collapsed": false
   },
   "outputs": [
    {
     "data": {
      "text/plain": [
       "4.0"
      ]
     },
     "execution_count": 11,
     "metadata": {},
     "output_type": "execute_result"
    }
   ],
   "source": [
    "perimeter([[0, 0], [1, 0], [1, 1], [0, 1]]) # a square with sides of length 1"
   ]
  },
  {
   "cell_type": "code",
   "execution_count": 12,
   "metadata": {
    "collapsed": false
   },
   "outputs": [
    {
     "data": {
      "text/plain": [
       "17.356451097651515"
      ]
     },
     "execution_count": 12,
     "metadata": {},
     "output_type": "execute_result"
    }
   ],
   "source": [
    "vertices = [[0, -2], [1, 1], [3, 3], [5, 1], [4, 0], [4, -3]]\n",
    "perimeter(vertices) # a more complex shape"
   ]
  },
  {
   "cell_type": "code",
   "execution_count": 16,
   "metadata": {
    "collapsed": false
   },
   "outputs": [
    {
     "data": {
      "text/plain": [
       "[<matplotlib.lines.Line2D at 0x7f026fdefd90>]"
      ]
     },
     "execution_count": 16,
     "metadata": {},
     "output_type": "execute_result"
    },
    {
     "data": {
      "image/png": "[encoded data removed]",
      "text/plain": [
       "<matplotlib.figure.Figure at 0x7f026ff12590>"
      ]
     },
     "metadata": {},
     "output_type": "display_data"
    }
   ],
   "source": [
    "# just for illustration, let's see what this polygon looks like\n",
    "%matplotlib inline\n",
    "from matplotlib import pyplot as plt\n",
    "vertices.append(vertices[0]) #so that we draw a line back to the beginning\n",
    "plt.plot([val[0] for val in vertices], [val[1] for val in vertices])"
   ]
  },
  {
   "cell_type": "code",
   "execution_count": 14,
   "metadata": {
    "collapsed": true
   },
   "outputs": [],
   "source": [
    "# Object-Oriented approach\n",
    "\n",
    "class Polygon:\n",
    "    \"\"\"A new class named Polygon.\"\"\"\n",
    "    \n",
    "    def __init__(self, vertices=[]):\n",
    "        self.vertices = vertices\n",
    "        print(\"(Creating an instance of the class Polygon)\")\n",
    "\n",
    "    def perimeter(self):\n",
    "        total = 0\n",
    "        for i in range(len(self.vertices)):\n",
    "            vertex1 = self.vertices[i]\n",
    "            vertex2 = self.vertices[(i+1) % len(self.vertices)]\n",
    "            distance = math.sqrt((vertex2[0] - vertex1[0]) ** 2\n",
    "                                 + (vertex2[1] - vertex1[1]) ** 2)\n",
    "            total += distance\n",
    "        return total"
   ]
  },
  {
   "cell_type": "code",
   "execution_count": 17,
   "metadata": {
    "collapsed": false
   },
   "outputs": [
    {
     "name": "stdout",
     "output_type": "stream",
     "text": [
      "(Creating an instance of the class Polygon)\n"
     ]
    },
    {
     "data": {
      "text/plain": [
       "17.356451097651515"
      ]
     },
     "execution_count": 17,
     "metadata": {},
     "output_type": "execute_result"
    }
   ],
   "source": [
    "a = Polygon([[0, -2], [1, 1], [3, 3], [5, 1], [4, 0], [4, -3]])\n",
    "a.perimeter()"
   ]
  },
  {
   "cell_type": "code",
   "execution_count": null,
   "metadata": {
    "collapsed": true
   },
   "outputs": [],
   "source": []
  }
 ],
 "metadata": {
  "kernelspec": {
   "display_name": "Python 2",
   "language": "python",
   "name": "python2"
  },
  "language_info": {
   "codemirror_mode": {
    "name": "ipython",
    "version": 2
   },
   "file_extension": ".py",
   "mimetype": "text/x-python",
   "name": "python",
   "nbconvert_exporter": "python",
   "pygments_lexer": "ipython2",
   "version": "2.7.8"
  }
 },
 "nbformat": 4,
 "nbformat_minor": 0
}
