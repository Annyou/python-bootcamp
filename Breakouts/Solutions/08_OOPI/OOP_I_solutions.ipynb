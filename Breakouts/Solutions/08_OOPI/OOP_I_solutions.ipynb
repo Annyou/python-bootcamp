{
 "metadata": {
  "name": "breakout_8_solutions"
 }, 
 "nbformat": 2, 
 "worksheets": [
  {
   "cells": [
    {
     "cell_type": "code", 
     "collapsed": true, 
     "input": [
      "pylab inline"
     ], 
     "language": "python", 
     "outputs": []
    }, 
    {
     "cell_type": "code", 
     "collapsed": true, 
     "input": [
      "# Procedural approach", 
      "import math", 
      "def perimeter(polygon):", 
      "    \"\"\"Given a list of vector vertices (in proper order), ", 
      "    returns the perimeter for the associated polygon.\"\"\"", 
      "    sum = 0", 
      "    for i in range(len(polygon)):", 
      "        vertex1 = polygon[i]", 
      "        vertex2 = polygon[(i+1) % len(polygon)]", 
      "        distance = math.sqrt(pow(vertex2[0]-vertex1[0],2) + \\", 
      "                             pow(vertex2[1]-vertex1[1],2))", 
      "        sum += distance", 
      "    return sum"
     ], 
     "language": "python", 
     "outputs": [], 
     "prompt_number": 5
    }, 
    {
     "cell_type": "code", 
     "collapsed": false, 
     "input": [
      "perimeter([[0,0],[1,0],[1,1],[0,1]]) # a square with sides of length 1"
     ], 
     "language": "python", 
     "outputs": [], 
     "prompt_number": 11
    }, 
    {
     "cell_type": "code", 
     "collapsed": false, 
     "input": [
      "vertices = [[0,-2],[1,1],[3,3],[5,1],[4,0],[4,-3]]", 
      "perimeter(vertices) # a more complex shape"
     ], 
     "language": "python", 
     "outputs": [], 
     "prompt_number": 14
    }, 
    {
     "cell_type": "code", 
     "collapsed": false, 
     "input": [
      "# just for illustration, let's see what this polygon looks like", 
      "", 
      "vertices.append(vertices[0]) #so that we draw a line back to the beginning", 
      "plt.plot([val[0] for val in vertices], [val[1] for val in vertices])"
     ], 
     "language": "python", 
     "outputs": [], 
     "prompt_number": 19
    }, 
    {
     "cell_type": "code", 
     "collapsed": true, 
     "input": [
      "# Object-Oriented approach", 
      "", 
      "class Polygon:", 
      "    \"\"\"A new class named Polygon.\"\"\"", 
      "    def __init__(self, vertices=[]):", 
      "        self.vertices = vertices", 
      "        print \"(Creating an instance of the class Polygon)\"", 
      "    def perimeter(self):", 
      "        sum = 0", 
      "        for i in range(len(self.vertices)):", 
      "            vertex1 = self.vertices[i]", 
      "            vertex2 = self.vertices[(i+1) % len(self.vertices)]", 
      "            distance = math.sqrt(pow(vertex2[0]-vertex1[0],2)+\\", 
      "                                 pow(vertex2[1]-vertex1[1],2))", 
      "            sum += distance", 
      "        return sum"
     ], 
     "language": "python", 
     "outputs": [], 
     "prompt_number": 20
    }, 
    {
     "cell_type": "code", 
     "collapsed": false, 
     "input": [
      "vertices = [[0,-2],[1,1],[3,3],[5,1],[4,0],[4,-3]]", 
      "a = Polygon(vertices)", 
      "a.perimeter()"
     ], 
     "language": "python", 
     "outputs": [], 
     "prompt_number": 21
    }
   ]
  }
 ]
}