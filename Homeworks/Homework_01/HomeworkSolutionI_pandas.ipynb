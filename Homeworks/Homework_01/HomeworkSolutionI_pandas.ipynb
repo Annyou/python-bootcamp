{
 "metadata": {
  "name": ""
 },
 "nbformat": 3,
 "nbformat_minor": 0,
 "worksheets": [
  {
   "cells": [
    {
     "cell_type": "markdown",
     "metadata": {},
     "source": [
      "**0. Import & parse CSV data**"
     ]
    },
    {
     "cell_type": "code",
     "collapsed": false,
     "input": [
      "%matplotlib inline"
     ],
     "language": "python",
     "metadata": {},
     "outputs": [],
     "prompt_number": 2
    },
    {
     "cell_type": "code",
     "collapsed": true,
     "input": [
      "import numpy as np\n",
      "from matplotlib.pylab import plot, legend\n",
      "import pandas as pd"
     ],
     "language": "python",
     "metadata": {},
     "outputs": [],
     "prompt_number": 3
    },
    {
     "cell_type": "code",
     "collapsed": true,
     "input": [
      "# read trends.csv with pandas. The first line is the header: \n",
      "## week_start,week_end,textbooks,spring_break,kayak,skiing,global_warming\n",
      "## 2004-01-04,2004-01-10,65,36,17,85,13\n",
      "## 2004-01-11,2004-01-17,79,40,18,84,18\n",
      "\n",
      "\n",
      "# Giving it index_col=0 uses the week_start as the index \n",
      "# and parse_dates=True parses them as a date.\n",
      "df = pd.read_csv('trends.csv',index_col=0,parse_dates=True)"
     ],
     "language": "python",
     "metadata": {},
     "outputs": [],
     "prompt_number": 4
    },
    {
     "cell_type": "markdown",
     "metadata": {},
     "source": [
      "Let's take a look at the first few entries of the pandas dataframe to see how it looks:"
     ]
    },
    {
     "cell_type": "code",
     "collapsed": false,
     "input": [
      "df.head()"
     ],
     "language": "python",
     "metadata": {},
     "outputs": [
      {
       "html": [
        "<div style=\"max-height:1000px;max-width:1500px;overflow:auto;\">\n",
        "<table border=\"1\" class=\"dataframe\">\n",
        "  <thead>\n",
        "    <tr style=\"text-align: right;\">\n",
        "      <th></th>\n",
        "      <th>week_end</th>\n",
        "      <th>textbooks</th>\n",
        "      <th>spring_break</th>\n",
        "      <th>kayak</th>\n",
        "      <th>skiing</th>\n",
        "      <th>global_warming</th>\n",
        "    </tr>\n",
        "    <tr>\n",
        "      <th>week_start</th>\n",
        "      <th></th>\n",
        "      <th></th>\n",
        "      <th></th>\n",
        "      <th></th>\n",
        "      <th></th>\n",
        "      <th></th>\n",
        "    </tr>\n",
        "  </thead>\n",
        "  <tbody>\n",
        "    <tr>\n",
        "      <th>2004-01-04</th>\n",
        "      <td> 2004-01-10</td>\n",
        "      <td> 65</td>\n",
        "      <td> 36</td>\n",
        "      <td> 17</td>\n",
        "      <td> 85</td>\n",
        "      <td> 13</td>\n",
        "    </tr>\n",
        "    <tr>\n",
        "      <th>2004-01-11</th>\n",
        "      <td> 2004-01-17</td>\n",
        "      <td> 79</td>\n",
        "      <td> 40</td>\n",
        "      <td> 18</td>\n",
        "      <td> 84</td>\n",
        "      <td> 18</td>\n",
        "    </tr>\n",
        "    <tr>\n",
        "      <th>2004-01-18</th>\n",
        "      <td> 2004-01-24</td>\n",
        "      <td> 56</td>\n",
        "      <td> 44</td>\n",
        "      <td> 18</td>\n",
        "      <td> 77</td>\n",
        "      <td> 14</td>\n",
        "    </tr>\n",
        "    <tr>\n",
        "      <th>2004-01-25</th>\n",
        "      <td> 2004-01-31</td>\n",
        "      <td> 39</td>\n",
        "      <td> 43</td>\n",
        "      <td> 18</td>\n",
        "      <td> 75</td>\n",
        "      <td> 15</td>\n",
        "    </tr>\n",
        "    <tr>\n",
        "      <th>2004-02-01</th>\n",
        "      <td> 2004-02-07</td>\n",
        "      <td> 28</td>\n",
        "      <td> 41</td>\n",
        "      <td> 16</td>\n",
        "      <td> 63</td>\n",
        "      <td> 16</td>\n",
        "    </tr>\n",
        "  </tbody>\n",
        "</table>\n",
        "</div>"
       ],
       "metadata": {},
       "output_type": "pyout",
       "prompt_number": 5,
       "text": [
        "              week_end  textbooks  spring_break  kayak  skiing  global_warming\n",
        "week_start                                                                    \n",
        "2004-01-04  2004-01-10         65            36     17      85              13\n",
        "2004-01-11  2004-01-17         79            40     18      84              18\n",
        "2004-01-18  2004-01-24         56            44     18      77              14\n",
        "2004-01-25  2004-01-31         39            43     18      75              15\n",
        "2004-02-01  2004-02-07         28            41     16      63              16"
       ]
      }
     ],
     "prompt_number": 5
    },
    {
     "cell_type": "markdown",
     "metadata": {},
     "source": [
      "NB: In the table above it looks like the first row is \"week_start\" followed by a bunch of blank entries, but in fact this is just showing that the label for the indices is called \"week_start\". We can grab the first row of the data frame to verify this:"
     ]
    },
    {
     "cell_type": "code",
     "collapsed": false,
     "input": [
      "print df.iloc[0]"
     ],
     "language": "python",
     "metadata": {},
     "outputs": [
      {
       "output_type": "stream",
       "stream": "stdout",
       "text": [
        "week_end          2004-01-10\n",
        "textbooks                 65\n",
        "spring_break              36\n",
        "kayak                     17\n",
        "skiing                    85\n",
        "global_warming            13\n",
        "Name: 2004-01-04 00:00:00, dtype: object\n"
       ]
      }
     ],
     "prompt_number": 6
    },
    {
     "cell_type": "markdown",
     "metadata": {},
     "source": [
      "Note that iloc indexes by *integer position* whereas loc will index by the actual index key, e.g."
     ]
    },
    {
     "cell_type": "code",
     "collapsed": false,
     "input": [
      "print df.loc['2004-01-04']"
     ],
     "language": "python",
     "metadata": {},
     "outputs": [
      {
       "output_type": "stream",
       "stream": "stdout",
       "text": [
        "week_end          2004-01-10\n",
        "textbooks                 65\n",
        "spring_break              36\n",
        "kayak                     17\n",
        "skiing                    85\n",
        "global_warming            13\n",
        "Name: 2004-01-04 00:00:00, dtype: object\n"
       ]
      }
     ],
     "prompt_number": 24
    },
    {
     "cell_type": "markdown",
     "metadata": {},
     "source": [
      "I. Plot trends in single frame, with legend"
     ]
    },
    {
     "cell_type": "code",
     "collapsed": false,
     "input": [
      "df.spring_break.plot()\n",
      "df.textbooks.plot()\n",
      "df.skiing.plot()\n",
      "df.kayak.plot()\n",
      "legend()"
     ],
     "language": "python",
     "metadata": {},
     "outputs": [
      {
       "metadata": {},
       "output_type": "pyout",
       "prompt_number": 7,
       "text": [
        "<matplotlib.legend.Legend at 0x632d210>"
       ]
      },
      {
       "metadata": {},
       "output_type": "display_data",
       "png": "[encoded data removed]",
       "text": [
        "<matplotlib.figure.Figure at 0x632dff0>"
       ]
      }
     ],
     "prompt_number": 7
    },
    {
     "cell_type": "code",
     "collapsed": false,
     "input": [
      "# Let\u2019s look at some summary statistics:\n",
      "df.describe()"
     ],
     "language": "python",
     "metadata": {},
     "outputs": [
      {
       "html": [
        "<div style=\"max-height:1000px;max-width:1500px;overflow:auto;\">\n",
        "<table border=\"1\" class=\"dataframe\">\n",
        "  <thead>\n",
        "    <tr style=\"text-align: right;\">\n",
        "      <th></th>\n",
        "      <th>textbooks</th>\n",
        "      <th>spring_break</th>\n",
        "      <th>kayak</th>\n",
        "      <th>skiing</th>\n",
        "      <th>global_warming</th>\n",
        "    </tr>\n",
        "  </thead>\n",
        "  <tbody>\n",
        "    <tr>\n",
        "      <th>count</th>\n",
        "      <td> 346.000000</td>\n",
        "      <td> 346.00000</td>\n",
        "      <td> 346.000000</td>\n",
        "      <td> 346.000000</td>\n",
        "      <td> 346.000000</td>\n",
        "    </tr>\n",
        "    <tr>\n",
        "      <th>mean</th>\n",
        "      <td>  22.263006</td>\n",
        "      <td>  20.34104</td>\n",
        "      <td>  40.343931</td>\n",
        "      <td>  25.158960</td>\n",
        "      <td>  26.057803</td>\n",
        "    </tr>\n",
        "    <tr>\n",
        "      <th>std</th>\n",
        "      <td>  15.208032</td>\n",
        "      <td>  16.50224</td>\n",
        "      <td>  14.900255</td>\n",
        "      <td>  20.202616</td>\n",
        "      <td>  15.060347</td>\n",
        "    </tr>\n",
        "    <tr>\n",
        "      <th>min</th>\n",
        "      <td>   7.000000</td>\n",
        "      <td>   5.00000</td>\n",
        "      <td>  15.000000</td>\n",
        "      <td>   6.000000</td>\n",
        "      <td>   5.000000</td>\n",
        "    </tr>\n",
        "    <tr>\n",
        "      <th>25%</th>\n",
        "      <td>  13.000000</td>\n",
        "      <td>   8.25000</td>\n",
        "      <td>  29.000000</td>\n",
        "      <td>  10.000000</td>\n",
        "      <td>  16.250000</td>\n",
        "    </tr>\n",
        "    <tr>\n",
        "      <th>50%</th>\n",
        "      <td>  16.000000</td>\n",
        "      <td>  13.00000</td>\n",
        "      <td>  39.000000</td>\n",
        "      <td>  16.000000</td>\n",
        "      <td>  22.000000</td>\n",
        "    </tr>\n",
        "    <tr>\n",
        "      <th>75%</th>\n",
        "      <td>  23.000000</td>\n",
        "      <td>  30.00000</td>\n",
        "      <td>  51.000000</td>\n",
        "      <td>  36.000000</td>\n",
        "      <td>  31.000000</td>\n",
        "    </tr>\n",
        "    <tr>\n",
        "      <th>max</th>\n",
        "      <td>  90.000000</td>\n",
        "      <td>  85.00000</td>\n",
        "      <td>  76.000000</td>\n",
        "      <td> 100.000000</td>\n",
        "      <td>  82.000000</td>\n",
        "    </tr>\n",
        "  </tbody>\n",
        "</table>\n",
        "</div>"
       ],
       "metadata": {},
       "output_type": "pyout",
       "prompt_number": 8,
       "text": [
        "        textbooks  spring_break       kayak      skiing  global_warming\n",
        "count  346.000000     346.00000  346.000000  346.000000      346.000000\n",
        "mean    22.263006      20.34104   40.343931   25.158960       26.057803\n",
        "std     15.208032      16.50224   14.900255   20.202616       15.060347\n",
        "min      7.000000       5.00000   15.000000    6.000000        5.000000\n",
        "25%     13.000000       8.25000   29.000000   10.000000       16.250000\n",
        "50%     16.000000      13.00000   39.000000   16.000000       22.000000\n",
        "75%     23.000000      30.00000   51.000000   36.000000       31.000000\n",
        "max     90.000000      85.00000   76.000000  100.000000       82.000000"
       ]
      }
     ],
     "prompt_number": 8
    },
    {
     "cell_type": "markdown",
     "metadata": {},
     "source": [
      "**II. Determine maxima and minima of each trend term**"
     ]
    },
    {
     "cell_type": "markdown",
     "metadata": {},
     "source": [
      "Determine in which week of each year (for all five search trends including \"global warming\") that search reached its peak and its minimum."
     ]
    },
    {
     "cell_type": "markdown",
     "metadata": {},
     "source": [
      "We can query the pandas data frame to return to us all values where a year is a particular value"
     ]
    },
    {
     "cell_type": "code",
     "collapsed": false,
     "input": [
      "sub_df = df[df.index.year == 2006]"
     ],
     "language": "python",
     "metadata": {},
     "outputs": [],
     "prompt_number": 13
    },
    {
     "cell_type": "code",
     "collapsed": false,
     "input": [
      "print sub_df.head()"
     ],
     "language": "python",
     "metadata": {},
     "outputs": [
      {
       "output_type": "stream",
       "stream": "stdout",
       "text": [
        "              week_end  textbooks  spring_break  kayak  skiing  global_warming\n",
        "week_start                                                                    \n",
        "2006-01-01  2006-01-07         42            28     20      74              13\n",
        "2006-01-08  2006-01-14         63            32     19      67              18\n",
        "2006-01-15  2006-01-21         52            34     20      59              18\n",
        "2006-01-22  2006-01-28         35            35     19      55              18\n",
        "2006-01-29  2006-02-04         23            36     19      53              23\n"
       ]
      }
     ],
     "prompt_number": 14
    },
    {
     "cell_type": "markdown",
     "metadata": {},
     "source": [
      "Find the week in each year that each trend was maximum and minimum"
     ]
    },
    {
     "cell_type": "code",
     "collapsed": false,
     "input": [
      "keylist = ['textbooks','spring_break','kayak','skiing','global_warming']"
     ],
     "language": "python",
     "metadata": {},
     "outputs": [],
     "prompt_number": 26
    },
    {
     "cell_type": "code",
     "collapsed": false,
     "input": [
      "for key in keylist:\n",
      "    print 'Searches for \"' + key + '\":'\n",
      "    for yr in range(2004,2011):\n",
      "        sub_df = df.loc[df.index.year == yr]\n",
      "        trend = sub_df[key]\n",
      "        peak_start_timestamp = sub_df.loc[trend == max(trend)].index[0] # taking the first element in case there are multiple with the max value\n",
      "        peak_start = str(peak_start_timestamp.month) + '-' + str(peak_start_timestamp.day)\n",
      "        peak_end = sub_df.loc[trend == max(trend)].week_end.iloc[-1] # taking the first element in case there are multiple with the max value\n",
      "        peak_end = peak_end[5:].lstrip('0') # take only the date, not the year\n",
      "        \n",
      "        # similar process for minimum values\n",
      "        min_start_timestamp = sub_df.loc[trend == min(trend)].index[0]\n",
      "        min_start = str(min_start_timestamp.month) + '-' + str(min_start_timestamp.day)\n",
      "        min_end = sub_df.loc[trend == min(trend)].week_end.iloc[0]\n",
      "        min_end = min_end[5:].lstrip('0') \n",
      "        \n",
      "        print '  in ' + str(yr) + ' were highest from ' + peak_start + ' to ' + peak_end \n",
      "        print '          were lowest from ' +  min_start + ' to ' + min_end"
     ],
     "language": "python",
     "metadata": {},
     "outputs": [
      {
       "output_type": "stream",
       "stream": "stdout",
       "text": [
        "Searches for \"textbooks\":\n",
        "  in 2004 were highest from 8-22 to 8-28\n",
        "          were lowest from 4-11 to 4-17\n",
        "  in 2005 were highest from 8-21 to 8-27\n",
        "          were lowest from 11-20 to 11-26\n",
        "  in 2006 were highest from 8-20 to 8-26\n",
        "          were lowest from 11-19 to 11-25\n",
        "  in 2007 were highest from 8-19 to 9-01\n",
        "          were lowest from 11-18 to 11-24\n",
        "  in 2008 were highest from 8-24 to 8-30\n",
        "          were lowest from 11-23 to 11-29\n",
        "  in 2009 were highest from 8-23 to 8-29\n",
        "          were lowest from 11-22 to 11-28\n",
        "  in 2010 were highest from 1-10 to 1-16\n",
        "          were lowest from 4-11 to 4-17\n",
        "Searches for \"spring_break\":\n",
        "  in 2004 were highest from 3-7 to 3-20\n",
        "          were lowest from 6-27 to 7-03\n",
        "  in 2005 were highest from 3-20 to 3-26\n",
        "          were lowest from 6-26 to 7-02\n",
        "  in 2006 were highest from 3-5 to 3-11\n",
        "          were lowest from 7-30 to 8-05\n",
        "  in 2007 were highest from 3-11 to 3-17\n",
        "          were lowest from 6-3 to 6-09\n",
        "  in 2008 were highest from 3-9 to 3-15\n",
        "          were lowest from 6-1 to 6-07\n",
        "  in 2009 were highest from 3-8 to 3-14\n",
        "          were lowest from 5-10 to 5-16\n",
        "  in 2010 were highest from 3-7 to 3-13\n",
        "          were lowest from 6-6 to 6-12\n",
        "Searches for \"kayak\":\n",
        "  in 2004 were highest from 7-4 to 7-10\n",
        "          were lowest from 2-1 to 2-07\n",
        "  in 2005 were highest from 6-26 to 7-02\n",
        "          were lowest from 11-13 to 11-19\n",
        "  in 2006 were highest from 7-2 to 7-08\n",
        "          were lowest from 1-8 to 1-14\n",
        "  in 2007 were highest from 7-1 to 7-07\n",
        "          were lowest from 1-14 to 1-20\n",
        "  in 2008 were highest from 6-29 to 7-05"
       ]
      },
      {
       "output_type": "stream",
       "stream": "stdout",
       "text": [
        "\n",
        "          were lowest from 1-6 to 1-12\n",
        "  in 2009 were highest from 7-12 to 7-18\n",
        "          were lowest from 10-25 to 10-31\n",
        "  in 2010 were highest from 6-27 to 7-03\n",
        "          were lowest from 1-3 to 1-09\n",
        "Searches for \"skiing\":\n",
        "  in 2004 were highest from 12-26 to 1-01\n",
        "          were lowest from 5-16 to 5-22\n",
        "  in 2005 were highest from 12-25 to 12-31\n",
        "          were lowest from 5-15 to 5-21\n",
        "  in 2006 were highest from 2-12 to 2-18\n",
        "          were lowest from 5-7 to 5-13\n",
        "  in 2007 were highest from 12-23 to 12-29\n",
        "          were lowest from 4-22 to 4-28\n",
        "  in 2008 were highest from 12-28 to 1-03\n",
        "          were lowest from 5-4 to 5-10\n",
        "  in 2009 were highest from 1-4 to 1-02\n",
        "          were lowest from 5-3 to 5-09\n",
        "  in 2010 were highest from 2-14 to 2-20\n",
        "          were lowest from 5-9 to 5-15\n",
        "Searches for \"global_warming\":\n",
        "  in 2004 were highest from 11-14 to 11-20\n",
        "          were lowest from 6-27 to 7-03\n",
        "  in 2005 were highest from 9-18 to 9-24\n",
        "          were lowest from 6-26 to 7-02\n",
        "  in 2006 were highest from 12-31 to 1-06\n",
        "          were lowest from 1-1 to 1-07\n",
        "  in 2007 were highest from 4-22 to 4-28"
       ]
      },
      {
       "output_type": "stream",
       "stream": "stdout",
       "text": [
        "\n",
        "          were lowest from 7-29 to 8-04\n",
        "  in 2008 were highest from 4-20 to 4-26\n",
        "          were lowest from 8-10 to 8-16\n",
        "  in 2009 were highest from 11-29 to 12-05\n",
        "          were lowest from 8-2 to 8-08\n",
        "  in 2010 were highest from 2-7 to 2-13\n",
        "          were lowest from 6-20 to 6-26\n"
       ]
      }
     ],
     "prompt_number": 66
    },
    {
     "cell_type": "markdown",
     "metadata": {},
     "source": [
      "For each year, list week numbers corresponding to maximum and minimum search values"
     ]
    },
    {
     "cell_type": "markdown",
     "metadata": {},
     "source": [
      "**III. Study scatter about median values**"
     ]
    },
    {
     "cell_type": "markdown",
     "metadata": {},
     "source": [
      "Q: Is it true that $\\sigma(A) > \\sigma(B) \\Rightarrow \\sigma_\\textrm{median}(A) > \\sigma_\\textrm{median}(B)$?"
     ]
    },
    {
     "cell_type": "code",
     "collapsed": true,
     "input": [
      "def std_median(datums):\n",
      "    return np.sqrt( sum( (datums - np.median(datums))**2 ) )"
     ],
     "language": "python",
     "metadata": {},
     "outputs": [],
     "prompt_number": 72
    },
    {
     "cell_type": "code",
     "collapsed": false,
     "input": [
      "print std_median(df.spring_break)\n",
      "print std_median(df.textbooks)\n",
      "print std_median(df.skiing)\n",
      "print std_median(df.kayak)\n",
      "print std_median(df.global_warming)"
     ],
     "language": "python",
     "metadata": {},
     "outputs": [
      {
       "output_type": "stream",
       "stream": "stdout",
       "text": [
        "335.556254598\n",
        "305.556868684\n",
        "412.110422096\n",
        "277.886667546\n",
        "289.737812513\n"
       ]
      }
     ],
     "prompt_number": 73
    },
    {
     "cell_type": "markdown",
     "metadata": {},
     "source": [
      "**IV. Correlation between trends**"
     ]
    },
    {
     "cell_type": "code",
     "collapsed": false,
     "input": [
      "result = np.correlate(df.spring_break,df.skiing, mode='full')\n",
      "gap = np.arange(result.size) - result.size/2\n",
      "plot(gap,result)"
     ],
     "language": "python",
     "metadata": {},
     "outputs": [
      {
       "metadata": {},
       "output_type": "pyout",
       "prompt_number": 137,
       "text": [
        "[<matplotlib.lines.Line2D at 0x74b3c70>]"
       ]
      },
      {
       "metadata": {},
       "output_type": "display_data",
       "png": "[encoded data removed]",
       "text": [
        "<matplotlib.figure.Figure at 0x719ec90>"
       ]
      }
     ],
     "prompt_number": 137
    },
    {
     "cell_type": "code",
     "collapsed": false,
     "input": [
      "print gap[result.argmax()]  # Find the x value corresponding to the maximum y value"
     ],
     "language": "python",
     "metadata": {},
     "outputs": [
      {
       "output_type": "stream",
       "stream": "stdout",
       "text": [
        "5\n"
       ]
      }
     ],
     "prompt_number": 138
    },
    {
     "cell_type": "code",
     "collapsed": false,
     "input": [
      "result2 = np.correlate(df.global_warming,df.skiing, mode='full')\n",
      "gap2 = np.arange(result2.size) - result2.size/2\n",
      "plot(gap2,result2)"
     ],
     "language": "python",
     "metadata": {},
     "outputs": [
      {
       "metadata": {},
       "output_type": "pyout",
       "prompt_number": 139,
       "text": [
        "[<matplotlib.lines.Line2D at 0x75c25d0>]"
       ]
      },
      {
       "metadata": {},
       "output_type": "display_data",
       "png": "[encoded data removed]",
       "text": [
        "<matplotlib.figure.Figure at 0x7495ef0>"
       ]
      }
     ],
     "prompt_number": 139
    },
    {
     "cell_type": "code",
     "collapsed": true,
     "input": [
      "print gap2[result2.argmax()]  # Find the x value corresponding to the maximum y value"
     ],
     "language": "python",
     "metadata": {},
     "outputs": [
      {
       "output_type": "stream",
       "stream": "stdout",
       "text": [
        "62\n"
       ]
      }
     ],
     "prompt_number": 140
    },
    {
     "cell_type": "code",
     "collapsed": false,
     "input": [
      "mid_peak_min = len(gap2)/2 - 26\n",
      "mid_peak_max = len(gap2)/2 + 26\n",
      "print gap2[mid_peak_min:mid_peak_max][result2[mid_peak_min:mid_peak_max].argmax()]"
     ],
     "language": "python",
     "metadata": {},
     "outputs": [
      {
       "output_type": "stream",
       "stream": "stdout",
       "text": [
        "10\n"
       ]
      }
     ],
     "prompt_number": 141
    },
    {
     "cell_type": "code",
     "collapsed": false,
     "input": [],
     "language": "python",
     "metadata": {},
     "outputs": []
    }
   ],
   "metadata": {}
  }
 ]
}